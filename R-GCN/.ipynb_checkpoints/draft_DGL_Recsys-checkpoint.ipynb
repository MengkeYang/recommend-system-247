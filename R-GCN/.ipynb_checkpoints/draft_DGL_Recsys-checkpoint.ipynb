{
 "cells": [
  {
   "cell_type": "code",
   "execution_count": 1,
   "metadata": {},
   "outputs": [
    {
     "name": "stderr",
     "output_type": "stream",
     "text": [
      "Using backend: pytorch\n"
     ]
    }
   ],
   "source": [
    "import pandas as pd\n",
    "import numpy as np\n",
    "from tqdm import tqdm  \n",
    "from collections import defaultdict  \n",
    "import math  \n",
    "import dgl"
   ]
  },
  {
   "cell_type": "markdown",
   "metadata": {},
   "source": [
    "## Load data"
   ]
  },
  {
   "cell_type": "code",
   "execution_count": 2,
   "metadata": {},
   "outputs": [
    {
     "name": "stdout",
     "output_type": "stream",
     "text": [
      "phase: 0\n",
      "phase: 1\n",
      "phase: 2\n",
      "phase: 3\n",
      "phase: 4\n",
      "phase: 5\n"
     ]
    }
   ],
   "source": [
    "    now_phase = 5\n",
    "\n",
    "    all_click_train = pd.DataFrame()\n",
    "    all_click_test = pd.DataFrame()\n",
    "    for c in range(now_phase + 1):\n",
    "        print('phase:', c)\n",
    "        train_path = '/Users/mengkeyang/Documents/UCLA/247/proj/data/underexpose_train'\n",
    "        test_path = '/Users/mengkeyang/Documents/UCLA/247/proj/data/underexpose_test/underexpose_test_click-{}'.format(c)\n",
    "        click_train = pd.read_csv(train_path + '/underexpose_train_click-{}.csv'.format(c), header=None,\n",
    "                                  names=['user_id', 'item_id', 'time'])\n",
    "        click_test = pd.read_csv(test_path + '/underexpose_test_click-{}.csv'.format(c), header=None,\n",
    "                                 names=['user_id', 'item_id', 'time'])\n",
    "\n",
    "        all_click_train = all_click_train.append(click_train)\n",
    "        all_click_test = all_click_train.append(click_test)\n",
    "        \n",
    "        "
   ]
  },
  {
   "cell_type": "code",
   "execution_count": 3,
   "metadata": {},
   "outputs": [],
   "source": [
    "all_click_train = all_click_train.drop_duplicates(subset=['user_id', 'item_id', 'time'], keep='last')\n",
    "all_click_test = all_click_test.drop_duplicates(subset=['user_id', 'item_id', 'time'], keep='last')"
   ]
  },
  {
   "cell_type": "code",
   "execution_count": 4,
   "metadata": {},
   "outputs": [],
   "source": [
    "whole_click = pd.DataFrame()\n",
    "whole_click = all_click_train.append(all_click_test)\n",
    "whole_click = whole_click.drop_duplicates(subset=['user_id', 'item_id', 'time'], keep='last')\n",
    "whole_click = whole_click.sort_values('time')"
   ]
  },
  {
   "cell_type": "code",
   "execution_count": null,
   "metadata": {},
   "outputs": [],
   "source": []
  },
  {
   "cell_type": "code",
   "execution_count": 5,
   "metadata": {},
   "outputs": [],
   "source": [
    "        item_feat = pd.read_csv(train_path + '/underexpose_item_feat.csv', header=None)\n",
    "        col_name_list = [\"item_id\"] + [\"txt_vec_\" + str(x) for x in range(128)] + [\"img_vec_\" + str(x) for x in range(128)]\n",
    "        item_feat.columns = col_name_list\n",
    "        item_feat['txt_vec_0'] = item_feat['txt_vec_0'].str.replace('[', '')\n",
    "        item_feat['txt_vec_127'] = item_feat['txt_vec_127'].str.replace(']', '')\n",
    "        item_feat['img_vec_0'] = item_feat['img_vec_0'].str.replace('[', '')\n",
    "        item_feat['img_vec_127'] = item_feat['img_vec_127'].str.replace(']', '')"
   ]
  },
  {
   "cell_type": "code",
   "execution_count": 6,
   "metadata": {},
   "outputs": [],
   "source": [
    "user_feat = pd.read_csv(train_path + '/underexpose_user_feat.csv', header=None, names=['user_id','user_age_level','user_gender','user_city_level']) "
   ]
  },
  {
   "cell_type": "markdown",
   "metadata": {},
   "source": [
    "## determine test and validation set"
   ]
  },
  {
   "cell_type": "markdown",
   "metadata": {},
   "source": [
    "# TODO"
   ]
  },
  {
   "cell_type": "markdown",
   "metadata": {},
   "source": [
    "## Data class"
   ]
  },
  {
   "cell_type": "markdown",
   "metadata": {},
   "source": [
    "### \\_init\\_ and get_edge_list"
   ]
  },
  {
   "cell_type": "markdown",
   "metadata": {},
   "source": [
    "- build item_list, user_list, "
   ]
  },
  {
   "cell_type": "code",
   "execution_count": 7,
   "metadata": {},
   "outputs": [],
   "source": [
    "item_mapped_id = {org_id: remap_id for remap_id, org_id in enumerate(item_feat['item_id'].unique())}"
   ]
  },
  {
   "cell_type": "code",
   "execution_count": 8,
   "metadata": {},
   "outputs": [],
   "source": [
    "item_mapped_id_df = pd.DataFrame(item_mapped_id.items(), columns=['org_id', 'remap_id'])\n",
    "item_mapped_id_df.to_csv('/Users/mengkeyang/Documents/UCLA/247/proj/data/amazon-book/mydata/item_list.txt',sep=' ', index=False)"
   ]
  },
  {
   "cell_type": "code",
   "execution_count": 9,
   "metadata": {},
   "outputs": [
    {
     "data": {
      "text/plain": [
       "(108916, 2)"
      ]
     },
     "execution_count": 9,
     "metadata": {},
     "output_type": "execute_result"
    }
   ],
   "source": [
    "item_mapped_id_df.shape"
   ]
  },
  {
   "cell_type": "code",
   "execution_count": 10,
   "metadata": {},
   "outputs": [
    {
     "data": {
      "text/plain": [
       "29286"
      ]
     },
     "execution_count": 10,
     "metadata": {},
     "output_type": "execute_result"
    }
   ],
   "source": [
    "#user_id appeared in the previous 5 phases\n",
    "len(whole_click['user_id'].unique())"
   ]
  },
  {
   "cell_type": "code",
   "execution_count": 11,
   "metadata": {},
   "outputs": [],
   "source": [
    "user_mapped_id = {org_id: remap_id for remap_id, org_id in enumerate(whole_click['user_id'].unique())}"
   ]
  },
  {
   "cell_type": "code",
   "execution_count": 12,
   "metadata": {},
   "outputs": [],
   "source": [
    "user_mapped_id_df =  pd.DataFrame(user_mapped_id.items(), columns=['org_id', 'remap_id'])"
   ]
  },
  {
   "cell_type": "code",
   "execution_count": 13,
   "metadata": {},
   "outputs": [],
   "source": [
    "user_mapped_id_df.to_csv('/Users/mengkeyang/Documents/UCLA/247/proj/data/amazon-book/mydata/user_list.txt',sep=' ', index=False)"
   ]
  },
  {
   "cell_type": "code",
   "execution_count": 14,
   "metadata": {},
   "outputs": [
    {
     "data": {
      "text/plain": [
       "(29286, 2)"
      ]
     },
     "execution_count": 14,
     "metadata": {},
     "output_type": "execute_result"
    }
   ],
   "source": [
    "user_mapped_id_df.shape"
   ]
  },
  {
   "cell_type": "markdown",
   "metadata": {},
   "source": [
    "- construct train_edge_dict, test_edge_dict"
   ]
  },
  {
   "cell_type": "markdown",
   "metadata": {},
   "source": [
    "    - id mapping"
   ]
  },
  {
   "cell_type": "code",
   "execution_count": 15,
   "metadata": {},
   "outputs": [],
   "source": [
    "train_df = pd.merge(left = all_click_train, right = user_mapped_id_df, left_on='user_id',right_on = 'org_id')"
   ]
  },
  {
   "cell_type": "code",
   "execution_count": 16,
   "metadata": {},
   "outputs": [],
   "source": [
    "train_df.drop(['org_id'],axis=1,inplace=True)"
   ]
  },
  {
   "cell_type": "code",
   "execution_count": 17,
   "metadata": {},
   "outputs": [],
   "source": [
    "train_df.rename(columns={'remap_id':'mapped_user_id'},inplace=True)"
   ]
  },
  {
   "cell_type": "code",
   "execution_count": 18,
   "metadata": {},
   "outputs": [],
   "source": [
    "train_df = pd.merge(left = train_df, right = item_mapped_id_df, left_on='item_id',right_on = 'org_id')"
   ]
  },
  {
   "cell_type": "code",
   "execution_count": 19,
   "metadata": {},
   "outputs": [],
   "source": [
    "train_df.drop(['org_id'],axis=1,inplace=True)"
   ]
  },
  {
   "cell_type": "code",
   "execution_count": 20,
   "metadata": {},
   "outputs": [],
   "source": [
    "train_df.rename(columns={'remap_id':'mapped_item_id'},inplace=True)"
   ]
  },
  {
   "cell_type": "markdown",
   "metadata": {},
   "source": [
    "    - train_edge_dict"
   ]
  },
  {
   "cell_type": "code",
   "execution_count": 21,
   "metadata": {},
   "outputs": [],
   "source": [
    "train_df = train_df.sort_values(['mapped_user_id','time'])"
   ]
  },
  {
   "cell_type": "code",
   "execution_count": 22,
   "metadata": {},
   "outputs": [
    {
     "data": {
      "text/plain": [
       "532791        0\n",
       "389536        0\n",
       "345359        0\n",
       "246713        0\n",
       "309698        0\n",
       "          ...  \n",
       "138212    29285\n",
       "633986    29285\n",
       "696272    29285\n",
       "475281    29285\n",
       "475728    29285\n",
       "Name: mapped_user_id, Length: 715247, dtype: int64"
      ]
     },
     "execution_count": 22,
     "metadata": {},
     "output_type": "execute_result"
    }
   ],
   "source": [
    "train_df['mapped_user_id']"
   ]
  },
  {
   "cell_type": "code",
   "execution_count": 23,
   "metadata": {},
   "outputs": [],
   "source": [
    "all_users = train_df['mapped_user_id'].unique()"
   ]
  },
  {
   "cell_type": "code",
   "execution_count": 24,
   "metadata": {},
   "outputs": [],
   "source": [
    "train_items =  defaultdict(list)\n",
    "for uid in all_users:\n",
    "    train_items[uid] = train_df[train_df['mapped_user_id']==uid]['mapped_item_id'].values.tolist()"
   ]
  },
  {
   "cell_type": "code",
   "execution_count": 25,
   "metadata": {},
   "outputs": [],
   "source": [
    "train_edge_dict = defaultdict(list)\n",
    "for index, row in train_df.iterrows():\n",
    "    train_edge_dict[('user','ui', 'item')].append((int(row['mapped_user_id']),int( row['mapped_item_id'])))\n",
    "    train_edge_dict[('item','iu', 'user')].append((int(row['mapped_item_id']),int( row['mapped_user_id'])))"
   ]
  },
  {
   "cell_type": "code",
   "execution_count": 26,
   "metadata": {},
   "outputs": [
    {
     "data": {
      "text/plain": [
       "False"
      ]
     },
     "execution_count": 26,
     "metadata": {},
     "output_type": "execute_result"
    }
   ],
   "source": [
    "28014 in all_users"
   ]
  },
  {
   "cell_type": "markdown",
   "metadata": {},
   "source": [
    "- build Heterograph G from train_edge_dict"
   ]
  },
  {
   "cell_type": "code",
   "execution_count": 27,
   "metadata": {},
   "outputs": [],
   "source": [
    "G = dgl.heterograph(train_edge_dict)"
   ]
  },
  {
   "cell_type": "code",
   "execution_count": 28,
   "metadata": {},
   "outputs": [
    {
     "data": {
      "text/plain": [
       "Graph(num_nodes={'item': 108916, 'user': 29286},\n",
       "      num_edges={('user', 'ui', 'item'): 715247, ('item', 'iu', 'user'): 715247},\n",
       "      metagraph=[('item', 'user'), ('user', 'item')])"
      ]
     },
     "execution_count": 28,
     "metadata": {},
     "output_type": "execute_result"
    }
   ],
   "source": [
    "G"
   ]
  },
  {
   "cell_type": "markdown",
   "metadata": {},
   "source": [
    "- get node# n_items and n_users; get user list"
   ]
  },
  {
   "cell_type": "code",
   "execution_count": 29,
   "metadata": {},
   "outputs": [],
   "source": [
    "n_train = len(train_edge_dict[('user','ui','item')])"
   ]
  },
  {
   "cell_type": "code",
   "execution_count": 30,
   "metadata": {},
   "outputs": [],
   "source": [
    "n_items = G.number_of_nodes('item')\n",
    "n_users = G.number_of_nodes('user')\n",
    "users = G.nodes('user').detach().cpu().numpy().tolist()"
   ]
  },
  {
   "cell_type": "code",
   "execution_count": 31,
   "metadata": {},
   "outputs": [
    {
     "data": {
      "text/plain": [
       "{9622,\n",
       " 11561,\n",
       " 12383,\n",
       " 21658,\n",
       " 22707,\n",
       " 24807,\n",
       " 24885,\n",
       " 24988,\n",
       " 24999,\n",
       " 25034,\n",
       " 25065,\n",
       " 25115,\n",
       " 25120,\n",
       " 25129,\n",
       " 25180,\n",
       " 25275,\n",
       " 25294,\n",
       " 25305,\n",
       " 25322,\n",
       " 25352,\n",
       " 25357,\n",
       " 25369,\n",
       " 25415,\n",
       " 25481,\n",
       " 25664,\n",
       " 25673,\n",
       " 25674,\n",
       " 25696,\n",
       " 25758,\n",
       " 25859,\n",
       " 25880,\n",
       " 25919,\n",
       " 25944,\n",
       " 25952,\n",
       " 25979,\n",
       " 25999,\n",
       " 26080,\n",
       " 26108,\n",
       " 26119,\n",
       " 26127,\n",
       " 26141,\n",
       " 26194,\n",
       " 26267,\n",
       " 26268,\n",
       " 26388,\n",
       " 26416,\n",
       " 26427,\n",
       " 26473,\n",
       " 26488,\n",
       " 26500,\n",
       " 26516,\n",
       " 26654,\n",
       " 26691,\n",
       " 26701,\n",
       " 26724,\n",
       " 26729,\n",
       " 26774,\n",
       " 26788,\n",
       " 26800,\n",
       " 26815,\n",
       " 26838,\n",
       " 26865,\n",
       " 26873,\n",
       " 26882,\n",
       " 26924,\n",
       " 26925,\n",
       " 26977,\n",
       " 27033,\n",
       " 27037,\n",
       " 27046,\n",
       " 27055,\n",
       " 27096,\n",
       " 27104,\n",
       " 27139,\n",
       " 27152,\n",
       " 27155,\n",
       " 27189,\n",
       " 27307,\n",
       " 27326,\n",
       " 27367,\n",
       " 27399,\n",
       " 27400,\n",
       " 27613,\n",
       " 27629,\n",
       " 27644,\n",
       " 27645,\n",
       " 27675,\n",
       " 27703,\n",
       " 27706,\n",
       " 27709,\n",
       " 27728,\n",
       " 27735,\n",
       " 27765,\n",
       " 27772,\n",
       " 27818,\n",
       " 27819,\n",
       " 27834,\n",
       " 27835,\n",
       " 27840,\n",
       " 27858,\n",
       " 27865,\n",
       " 27898,\n",
       " 27944,\n",
       " 27969,\n",
       " 27998,\n",
       " 28014,\n",
       " 28030,\n",
       " 28049,\n",
       " 28051,\n",
       " 28074,\n",
       " 28082,\n",
       " 28110,\n",
       " 28137,\n",
       " 28142,\n",
       " 28147,\n",
       " 28209,\n",
       " 28258,\n",
       " 28276,\n",
       " 28376,\n",
       " 28387,\n",
       " 28432,\n",
       " 28511,\n",
       " 28543,\n",
       " 28591,\n",
       " 28603,\n",
       " 28612,\n",
       " 28635,\n",
       " 28646,\n",
       " 28658,\n",
       " 28661,\n",
       " 28699,\n",
       " 28706,\n",
       " 28717,\n",
       " 28760,\n",
       " 28785,\n",
       " 28801,\n",
       " 28819,\n",
       " 28883,\n",
       " 28891,\n",
       " 28893,\n",
       " 28897,\n",
       " 28910,\n",
       " 28922,\n",
       " 28934,\n",
       " 28946,\n",
       " 28973,\n",
       " 28998,\n",
       " 29033,\n",
       " 29034,\n",
       " 29041,\n",
       " 29044,\n",
       " 29049,\n",
       " 29061,\n",
       " 29089,\n",
       " 29092,\n",
       " 29105,\n",
       " 29124,\n",
       " 29136,\n",
       " 29141,\n",
       " 29143,\n",
       " 29158,\n",
       " 29187,\n",
       " 29189,\n",
       " 29215,\n",
       " 29240,\n",
       " 29255}"
      ]
     },
     "execution_count": 31,
     "metadata": {},
     "output_type": "execute_result"
    }
   ],
   "source": [
    "set(users) - set(all_users) "
   ]
  },
  {
   "cell_type": "markdown",
   "metadata": {},
   "source": [
    "- set batch size and sample"
   ]
  },
  {
   "cell_type": "markdown",
   "metadata": {},
   "source": [
    "### sample"
   ]
  },
  {
   "cell_type": "code",
   "execution_count": 32,
   "metadata": {},
   "outputs": [],
   "source": [
    "from collections import defaultdict\n",
    "import dgl\n",
    "import numpy as np\n",
    "import random\n",
    "import os \n",
    "def sample(users_ = list(all_users)):\n",
    "    #sample users    \n",
    "    if batch_size <= n_users:\n",
    "        users = random.sample(users_, batch_size)\n",
    "    else:\n",
    "        users = [random.choice(users_) for _ in range(batch_size)]\n",
    "\n",
    "    def sample_pos_items_for_u(u, num):\n",
    "        pos_items = train_items[u]\n",
    "        n_pos_items = len(pos_items)\n",
    "        pos_batch = []\n",
    "        while True:\n",
    "            if len(pos_batch) == num: break\n",
    "            if n_pos_items == 0: print(u)\n",
    "            pos_id = np.random.randint(low=0, high=n_pos_items, size=1)[0]\n",
    "            pos_i_id = pos_items[pos_id]\n",
    "\n",
    "            if pos_i_id not in pos_batch:\n",
    "                pos_batch.append(pos_i_id)\n",
    "        return pos_batch\n",
    "\n",
    "    def sample_neg_items_for_u(u, num):\n",
    "        neg_items = []\n",
    "        while True:\n",
    "            if len(neg_items) == num: break\n",
    "            neg_id = np.random.randint(low=0, high=n_items,size=1)[0]\n",
    "            if neg_id not in train_items[u] and neg_id not in neg_items:\n",
    "                neg_items.append(neg_id)\n",
    "        return neg_items\n",
    "        \n",
    "    pos_items, neg_items = [], []\n",
    "    for u in users:\n",
    "        pos_items += sample_pos_items_for_u(u, 1)\n",
    "        neg_items += sample_neg_items_for_u(u, 1)\n",
    "\n",
    "    return users, pos_items, neg_items"
   ]
  },
  {
   "cell_type": "markdown",
   "metadata": {},
   "source": [
    "## model class- update embed with item_feat"
   ]
  },
  {
   "cell_type": "markdown",
   "metadata": {},
   "source": [
    "- for item_feat update mapped id"
   ]
  },
  {
   "cell_type": "code",
   "execution_count": 33,
   "metadata": {},
   "outputs": [],
   "source": [
    " item_feat_df = pd.merge(left = item_mapped_id_df , right = item_feat,left_on = 'org_id', right_on='item_id')"
   ]
  },
  {
   "cell_type": "code",
   "execution_count": 34,
   "metadata": {},
   "outputs": [],
   "source": [
    "item_feat_df.drop(['org_id','item_id'],axis=1,inplace=True)"
   ]
  },
  {
   "cell_type": "code",
   "execution_count": 35,
   "metadata": {},
   "outputs": [],
   "source": [
    "item_feat_df.rename(columns={'remap_id':'mapped_item_id'},inplace=True)"
   ]
  },
  {
   "cell_type": "code",
   "execution_count": 36,
   "metadata": {},
   "outputs": [
    {
     "data": {
      "text/html": [
       "<div>\n",
       "<style scoped>\n",
       "    .dataframe tbody tr th:only-of-type {\n",
       "        vertical-align: middle;\n",
       "    }\n",
       "\n",
       "    .dataframe tbody tr th {\n",
       "        vertical-align: top;\n",
       "    }\n",
       "\n",
       "    .dataframe thead th {\n",
       "        text-align: right;\n",
       "    }\n",
       "</style>\n",
       "<table border=\"1\" class=\"dataframe\">\n",
       "  <thead>\n",
       "    <tr style=\"text-align: right;\">\n",
       "      <th></th>\n",
       "      <th>mapped_item_id</th>\n",
       "      <th>txt_vec_0</th>\n",
       "      <th>txt_vec_1</th>\n",
       "      <th>txt_vec_2</th>\n",
       "      <th>txt_vec_3</th>\n",
       "      <th>txt_vec_4</th>\n",
       "      <th>txt_vec_5</th>\n",
       "      <th>txt_vec_6</th>\n",
       "      <th>txt_vec_7</th>\n",
       "      <th>txt_vec_8</th>\n",
       "      <th>...</th>\n",
       "      <th>img_vec_118</th>\n",
       "      <th>img_vec_119</th>\n",
       "      <th>img_vec_120</th>\n",
       "      <th>img_vec_121</th>\n",
       "      <th>img_vec_122</th>\n",
       "      <th>img_vec_123</th>\n",
       "      <th>img_vec_124</th>\n",
       "      <th>img_vec_125</th>\n",
       "      <th>img_vec_126</th>\n",
       "      <th>img_vec_127</th>\n",
       "    </tr>\n",
       "  </thead>\n",
       "  <tbody>\n",
       "    <tr>\n",
       "      <th>0</th>\n",
       "      <td>0</td>\n",
       "      <td>4.514945030212402</td>\n",
       "      <td>-2.383720</td>\n",
       "      <td>0.500414</td>\n",
       "      <td>0.407068</td>\n",
       "      <td>-1.995229</td>\n",
       "      <td>0.109078</td>\n",
       "      <td>-0.691775</td>\n",
       "      <td>2.227460</td>\n",
       "      <td>-6.437974</td>\n",
       "      <td>...</td>\n",
       "      <td>-3.374727</td>\n",
       "      <td>-1.506969</td>\n",
       "      <td>-1.820180</td>\n",
       "      <td>-3.024644</td>\n",
       "      <td>0.445263</td>\n",
       "      <td>0.013933</td>\n",
       "      <td>-1.300239</td>\n",
       "      <td>2.759948</td>\n",
       "      <td>2.056171</td>\n",
       "      <td>0.5087034702301025</td>\n",
       "    </tr>\n",
       "    <tr>\n",
       "      <th>1</th>\n",
       "      <td>1</td>\n",
       "      <td>-2.0029051303863525</td>\n",
       "      <td>-0.929881</td>\n",
       "      <td>0.790017</td>\n",
       "      <td>-1.380895</td>\n",
       "      <td>-0.510463</td>\n",
       "      <td>-1.810096</td>\n",
       "      <td>1.363962</td>\n",
       "      <td>0.497401</td>\n",
       "      <td>-4.038903</td>\n",
       "      <td>...</td>\n",
       "      <td>-0.538330</td>\n",
       "      <td>-2.620164</td>\n",
       "      <td>1.277195</td>\n",
       "      <td>0.601015</td>\n",
       "      <td>-0.345312</td>\n",
       "      <td>0.993457</td>\n",
       "      <td>1.351633</td>\n",
       "      <td>2.162675</td>\n",
       "      <td>2.768597</td>\n",
       "      <td>-0.9371970295906067</td>\n",
       "    </tr>\n",
       "    <tr>\n",
       "      <th>2</th>\n",
       "      <td>2</td>\n",
       "      <td>4.221673011779785</td>\n",
       "      <td>-1.497139</td>\n",
       "      <td>1.133570</td>\n",
       "      <td>-2.745607</td>\n",
       "      <td>-4.197045</td>\n",
       "      <td>-0.542392</td>\n",
       "      <td>-1.396256</td>\n",
       "      <td>1.838419</td>\n",
       "      <td>-6.066454</td>\n",
       "      <td>...</td>\n",
       "      <td>-4.582711</td>\n",
       "      <td>-1.056910</td>\n",
       "      <td>-2.568084</td>\n",
       "      <td>-2.038061</td>\n",
       "      <td>2.508719</td>\n",
       "      <td>-0.764789</td>\n",
       "      <td>-0.657116</td>\n",
       "      <td>3.252782</td>\n",
       "      <td>2.687366</td>\n",
       "      <td>0.8443320989608765</td>\n",
       "    </tr>\n",
       "    <tr>\n",
       "      <th>3</th>\n",
       "      <td>3</td>\n",
       "      <td>2.6579699516296387</td>\n",
       "      <td>-0.941863</td>\n",
       "      <td>1.121529</td>\n",
       "      <td>-5.109496</td>\n",
       "      <td>-0.279041</td>\n",
       "      <td>-0.351968</td>\n",
       "      <td>-1.086983</td>\n",
       "      <td>2.703607</td>\n",
       "      <td>-6.494977</td>\n",
       "      <td>...</td>\n",
       "      <td>-0.487683</td>\n",
       "      <td>-1.889119</td>\n",
       "      <td>0.943015</td>\n",
       "      <td>-2.834418</td>\n",
       "      <td>1.633184</td>\n",
       "      <td>2.001801</td>\n",
       "      <td>-2.333152</td>\n",
       "      <td>2.645595</td>\n",
       "      <td>2.280233</td>\n",
       "      <td>-0.6944484114646912</td>\n",
       "    </tr>\n",
       "    <tr>\n",
       "      <th>4</th>\n",
       "      <td>4</td>\n",
       "      <td>3.192194938659668</td>\n",
       "      <td>-1.936676</td>\n",
       "      <td>1.199909</td>\n",
       "      <td>-2.562152</td>\n",
       "      <td>-2.573456</td>\n",
       "      <td>0.575841</td>\n",
       "      <td>-2.358653</td>\n",
       "      <td>1.620844</td>\n",
       "      <td>-4.302936</td>\n",
       "      <td>...</td>\n",
       "      <td>-0.621475</td>\n",
       "      <td>-2.091410</td>\n",
       "      <td>0.501600</td>\n",
       "      <td>-3.083864</td>\n",
       "      <td>-1.060091</td>\n",
       "      <td>2.053600</td>\n",
       "      <td>-2.025008</td>\n",
       "      <td>2.399251</td>\n",
       "      <td>2.562317</td>\n",
       "      <td>0.6941336393356323</td>\n",
       "    </tr>\n",
       "    <tr>\n",
       "      <th>...</th>\n",
       "      <td>...</td>\n",
       "      <td>...</td>\n",
       "      <td>...</td>\n",
       "      <td>...</td>\n",
       "      <td>...</td>\n",
       "      <td>...</td>\n",
       "      <td>...</td>\n",
       "      <td>...</td>\n",
       "      <td>...</td>\n",
       "      <td>...</td>\n",
       "      <td>...</td>\n",
       "      <td>...</td>\n",
       "      <td>...</td>\n",
       "      <td>...</td>\n",
       "      <td>...</td>\n",
       "      <td>...</td>\n",
       "      <td>...</td>\n",
       "      <td>...</td>\n",
       "      <td>...</td>\n",
       "      <td>...</td>\n",
       "      <td>...</td>\n",
       "    </tr>\n",
       "    <tr>\n",
       "      <th>108911</th>\n",
       "      <td>108911</td>\n",
       "      <td>2.1436519622802734</td>\n",
       "      <td>-1.591184</td>\n",
       "      <td>-0.283598</td>\n",
       "      <td>-2.186552</td>\n",
       "      <td>-1.505779</td>\n",
       "      <td>0.876601</td>\n",
       "      <td>1.302617</td>\n",
       "      <td>-1.762244</td>\n",
       "      <td>-2.847601</td>\n",
       "      <td>...</td>\n",
       "      <td>-1.352005</td>\n",
       "      <td>-3.588055</td>\n",
       "      <td>2.803221</td>\n",
       "      <td>-2.160821</td>\n",
       "      <td>-1.153775</td>\n",
       "      <td>0.290783</td>\n",
       "      <td>1.518086</td>\n",
       "      <td>3.690181</td>\n",
       "      <td>5.391709</td>\n",
       "      <td>0.3289714455604553</td>\n",
       "    </tr>\n",
       "    <tr>\n",
       "      <th>108912</th>\n",
       "      <td>108912</td>\n",
       "      <td>0.8901849985122681</td>\n",
       "      <td>0.042669</td>\n",
       "      <td>2.842594</td>\n",
       "      <td>-4.322702</td>\n",
       "      <td>-1.107593</td>\n",
       "      <td>-0.033230</td>\n",
       "      <td>2.835225</td>\n",
       "      <td>-1.383299</td>\n",
       "      <td>-4.998042</td>\n",
       "      <td>...</td>\n",
       "      <td>0.416093</td>\n",
       "      <td>-0.917160</td>\n",
       "      <td>-0.028134</td>\n",
       "      <td>2.624365</td>\n",
       "      <td>1.574156</td>\n",
       "      <td>-0.014772</td>\n",
       "      <td>2.250575</td>\n",
       "      <td>2.005705</td>\n",
       "      <td>0.309760</td>\n",
       "      <td>0.9139738082885742</td>\n",
       "    </tr>\n",
       "    <tr>\n",
       "      <th>108913</th>\n",
       "      <td>108913</td>\n",
       "      <td>1.4589283466339111</td>\n",
       "      <td>-0.638677</td>\n",
       "      <td>-0.957509</td>\n",
       "      <td>-2.936515</td>\n",
       "      <td>-0.897658</td>\n",
       "      <td>-0.992379</td>\n",
       "      <td>0.574731</td>\n",
       "      <td>0.027216</td>\n",
       "      <td>-3.514133</td>\n",
       "      <td>...</td>\n",
       "      <td>1.468603</td>\n",
       "      <td>-2.667665</td>\n",
       "      <td>-0.988566</td>\n",
       "      <td>1.012626</td>\n",
       "      <td>1.046013</td>\n",
       "      <td>1.670171</td>\n",
       "      <td>0.804473</td>\n",
       "      <td>2.821836</td>\n",
       "      <td>3.285690</td>\n",
       "      <td>2.2152724266052246</td>\n",
       "    </tr>\n",
       "    <tr>\n",
       "      <th>108914</th>\n",
       "      <td>108914</td>\n",
       "      <td>3.3835203647613525</td>\n",
       "      <td>-1.669863</td>\n",
       "      <td>1.264212</td>\n",
       "      <td>-2.128029</td>\n",
       "      <td>-2.129893</td>\n",
       "      <td>2.562061</td>\n",
       "      <td>-1.778324</td>\n",
       "      <td>-0.861360</td>\n",
       "      <td>-5.312111</td>\n",
       "      <td>...</td>\n",
       "      <td>-1.577673</td>\n",
       "      <td>-1.983800</td>\n",
       "      <td>-0.830833</td>\n",
       "      <td>-2.517840</td>\n",
       "      <td>-0.387712</td>\n",
       "      <td>0.237070</td>\n",
       "      <td>-2.524445</td>\n",
       "      <td>1.908586</td>\n",
       "      <td>1.887787</td>\n",
       "      <td>1.0216277837753296</td>\n",
       "    </tr>\n",
       "    <tr>\n",
       "      <th>108915</th>\n",
       "      <td>108915</td>\n",
       "      <td>2.4478535652160645</td>\n",
       "      <td>-0.469942</td>\n",
       "      <td>1.873896</td>\n",
       "      <td>-4.149315</td>\n",
       "      <td>-3.618531</td>\n",
       "      <td>-0.558433</td>\n",
       "      <td>0.162609</td>\n",
       "      <td>1.975269</td>\n",
       "      <td>-5.732625</td>\n",
       "      <td>...</td>\n",
       "      <td>3.445529</td>\n",
       "      <td>-3.894981</td>\n",
       "      <td>0.318239</td>\n",
       "      <td>-3.956578</td>\n",
       "      <td>0.672438</td>\n",
       "      <td>2.741400</td>\n",
       "      <td>1.146402</td>\n",
       "      <td>3.278049</td>\n",
       "      <td>3.225166</td>\n",
       "      <td>-1.0926690101623535</td>\n",
       "    </tr>\n",
       "  </tbody>\n",
       "</table>\n",
       "<p>108916 rows × 257 columns</p>\n",
       "</div>"
      ],
      "text/plain": [
       "        mapped_item_id            txt_vec_0  txt_vec_1  txt_vec_2  txt_vec_3  \\\n",
       "0                    0    4.514945030212402  -2.383720   0.500414   0.407068   \n",
       "1                    1  -2.0029051303863525  -0.929881   0.790017  -1.380895   \n",
       "2                    2    4.221673011779785  -1.497139   1.133570  -2.745607   \n",
       "3                    3   2.6579699516296387  -0.941863   1.121529  -5.109496   \n",
       "4                    4    3.192194938659668  -1.936676   1.199909  -2.562152   \n",
       "...                ...                  ...        ...        ...        ...   \n",
       "108911          108911   2.1436519622802734  -1.591184  -0.283598  -2.186552   \n",
       "108912          108912   0.8901849985122681   0.042669   2.842594  -4.322702   \n",
       "108913          108913   1.4589283466339111  -0.638677  -0.957509  -2.936515   \n",
       "108914          108914   3.3835203647613525  -1.669863   1.264212  -2.128029   \n",
       "108915          108915   2.4478535652160645  -0.469942   1.873896  -4.149315   \n",
       "\n",
       "        txt_vec_4  txt_vec_5  txt_vec_6  txt_vec_7  txt_vec_8  ...  \\\n",
       "0       -1.995229   0.109078  -0.691775   2.227460  -6.437974  ...   \n",
       "1       -0.510463  -1.810096   1.363962   0.497401  -4.038903  ...   \n",
       "2       -4.197045  -0.542392  -1.396256   1.838419  -6.066454  ...   \n",
       "3       -0.279041  -0.351968  -1.086983   2.703607  -6.494977  ...   \n",
       "4       -2.573456   0.575841  -2.358653   1.620844  -4.302936  ...   \n",
       "...           ...        ...        ...        ...        ...  ...   \n",
       "108911  -1.505779   0.876601   1.302617  -1.762244  -2.847601  ...   \n",
       "108912  -1.107593  -0.033230   2.835225  -1.383299  -4.998042  ...   \n",
       "108913  -0.897658  -0.992379   0.574731   0.027216  -3.514133  ...   \n",
       "108914  -2.129893   2.562061  -1.778324  -0.861360  -5.312111  ...   \n",
       "108915  -3.618531  -0.558433   0.162609   1.975269  -5.732625  ...   \n",
       "\n",
       "        img_vec_118  img_vec_119  img_vec_120  img_vec_121  img_vec_122  \\\n",
       "0         -3.374727    -1.506969    -1.820180    -3.024644     0.445263   \n",
       "1         -0.538330    -2.620164     1.277195     0.601015    -0.345312   \n",
       "2         -4.582711    -1.056910    -2.568084    -2.038061     2.508719   \n",
       "3         -0.487683    -1.889119     0.943015    -2.834418     1.633184   \n",
       "4         -0.621475    -2.091410     0.501600    -3.083864    -1.060091   \n",
       "...             ...          ...          ...          ...          ...   \n",
       "108911    -1.352005    -3.588055     2.803221    -2.160821    -1.153775   \n",
       "108912     0.416093    -0.917160    -0.028134     2.624365     1.574156   \n",
       "108913     1.468603    -2.667665    -0.988566     1.012626     1.046013   \n",
       "108914    -1.577673    -1.983800    -0.830833    -2.517840    -0.387712   \n",
       "108915     3.445529    -3.894981     0.318239    -3.956578     0.672438   \n",
       "\n",
       "        img_vec_123  img_vec_124  img_vec_125  img_vec_126  \\\n",
       "0          0.013933    -1.300239     2.759948     2.056171   \n",
       "1          0.993457     1.351633     2.162675     2.768597   \n",
       "2         -0.764789    -0.657116     3.252782     2.687366   \n",
       "3          2.001801    -2.333152     2.645595     2.280233   \n",
       "4          2.053600    -2.025008     2.399251     2.562317   \n",
       "...             ...          ...          ...          ...   \n",
       "108911     0.290783     1.518086     3.690181     5.391709   \n",
       "108912    -0.014772     2.250575     2.005705     0.309760   \n",
       "108913     1.670171     0.804473     2.821836     3.285690   \n",
       "108914     0.237070    -2.524445     1.908586     1.887787   \n",
       "108915     2.741400     1.146402     3.278049     3.225166   \n",
       "\n",
       "                 img_vec_127  \n",
       "0         0.5087034702301025  \n",
       "1        -0.9371970295906067  \n",
       "2         0.8443320989608765  \n",
       "3        -0.6944484114646912  \n",
       "4         0.6941336393356323  \n",
       "...                      ...  \n",
       "108911    0.3289714455604553  \n",
       "108912    0.9139738082885742  \n",
       "108913    2.2152724266052246  \n",
       "108914    1.0216277837753296  \n",
       "108915   -1.0926690101623535  \n",
       "\n",
       "[108916 rows x 257 columns]"
      ]
     },
     "execution_count": 36,
     "metadata": {},
     "output_type": "execute_result"
    }
   ],
   "source": [
    "item_feat_df"
   ]
  },
  {
   "cell_type": "markdown",
   "metadata": {},
   "source": [
    "- for model class update embed_dict"
   ]
  },
  {
   "cell_type": "code",
   "execution_count": 37,
   "metadata": {},
   "outputs": [],
   "source": [
    "'''\n",
    "model.py\n",
    "'''\n",
    "import torch\n",
    "import torch.nn as nn\n",
    "import torch.nn.functional as F\n",
    "import dgl.function as fn\n",
    "\n",
    "class HeteroRGCNLayer(nn.Module):\n",
    "    def __init__(self, \n",
    "                 in_size, \n",
    "                 out_size, \n",
    "                 etypes, \n",
    "                 bias=True,\n",
    "                 self_loop=True, \n",
    "                 dropout=0.0):\n",
    "        \n",
    "        super(HeteroRGCNLayer, self).__init__()\n",
    "        self.bias = bias\n",
    "        self.self_loop = self_loop\n",
    "        \n",
    "        # W_r for each relation\n",
    "        self.weight = nn.ModuleDict({\n",
    "                name : nn.Linear(in_size, out_size) for name in etypes\n",
    "            })\n",
    "        \n",
    "        if self.bias:\n",
    "            self.h_bias = nn.Parameter(torch.Tensor(out_size))\n",
    "            nn.init.zeros_(self.h_bias)\n",
    "        \n",
    "        if self.self_loop:\n",
    "            self.loop_weight = nn.Parameter(torch.Tensor(in_size, out_size))\n",
    "            nn.init.xavier_uniform_(self.loop_weight,\n",
    "                                    gain=nn.init.calculate_gain('relu'))\n",
    "        self.dropout = nn.Dropout(dropout)\n",
    "        \n",
    "    def forward(self, G, feat_dict):\n",
    "        # The input is a dictionary of node features for each type\n",
    "        funcs = {}\n",
    "        for srctype, etype, dsttype in G.canonical_etypes:\n",
    "            # Compute W_r * h\n",
    "            Wh = self.weight[etype](feat_dict[srctype])\n",
    "            # Save it in graph for message passing\n",
    "            G.nodes[srctype].data['Wh_%s' % etype] = Wh\n",
    "            # Specify per-relation message passing functions: (message_func, reduce_func).\n",
    "            # Note that the results are saved to the same destination feature 'h', which\n",
    "            # hints the type wise reducer for aggregation.\n",
    "            funcs[etype] = (fn.copy_u('Wh_%s' % etype, 'm'), fn.mean('m', 'h'))\n",
    "        # Trigger message passing of multiple types.\n",
    "        # The first argument is the message passing functions for each relation.\n",
    "        # The second one is the type wise reducer, could be \"sum\", \"max\",\n",
    "        # \"min\", \"mean\", \"stack\"\n",
    "        G.multi_update_all(funcs, 'sum')\n",
    "        # return the updated node feature dictionary\n",
    "        \n",
    "        hs = {ntype: G.nodes[ntype].data['h'] for ntype in G.ntypes}\n",
    "        for ntype in hs:\n",
    "            h = hs[ntype]\n",
    "            # apply bias and activation\n",
    "            if self.self_loop:\n",
    "                h = h + torch.matmul(feat_dict[ntype], self.loop_weight)\n",
    "            if self.bias:\n",
    "                h = h + self.h_bias\n",
    "            h = self.dropout(h)\n",
    "            hs[ntype] = h\n",
    "        return hs\n",
    "    \n",
    "class HeteroRGCN(nn.Module):\n",
    "    def __init__(self, \n",
    "                G, \n",
    "                in_size, \n",
    "                hidden_size, \n",
    "                out_size,\n",
    "                bias=True,\n",
    "                self_loop=True, \n",
    "                dropout=0.0):\n",
    "\n",
    "        super(HeteroRGCN, self).__init__()\n",
    "        # Use trainable node embeddings as featureless inputs.\n",
    "        embed_dict = {ntype : nn.Parameter(torch.Tensor(G.number_of_nodes(ntype), in_size))\n",
    "                      for ntype in G.ntypes}\n",
    "        for key, embed in embed_dict.items():\n",
    "            if key == 'user':\n",
    "                nn.init.xavier_uniform_(embed)\n",
    "            if key == 'item':\n",
    "                embed_dict[key] = nn.Parameter(torch.tensor(item_feat_df.drop('mapped_item_id', axis = 1).values.astype(np.float32)))\n",
    "        self.embed = nn.ParameterDict(embed_dict)\n",
    "        # create layers\n",
    "        self.layer1 = HeteroRGCNLayer(in_size, hidden_size, G.etypes, bias, self_loop, dropout)\n",
    "        self.layer2 = HeteroRGCNLayer(hidden_size, out_size, G.etypes, bias, self_loop, dropout)\n",
    "\n",
    "    def forward(self, G):\n",
    "        h_dict_1 = self.layer1(G, self.embed)\n",
    "        h_dict = {k : F.leaky_relu(h) for k, h in h_dict_1.items()}\n",
    "        h_dict_2 = self.layer2(G, h_dict)\n",
    "        h_dict = {k: torch.cat([self.embed[k],\n",
    "                                h_dict_1[k], \n",
    "                                h_dict_2[k]\n",
    "                            ], dim=1) for k in h_dict_1}\n",
    "        return h_dict"
   ]
  },
  {
   "cell_type": "markdown",
   "metadata": {},
   "source": [
    "## main class- model setup"
   ]
  },
  {
   "cell_type": "markdown",
   "metadata": {},
   "source": [
    "- parameters"
   ]
  },
  {
   "cell_type": "code",
   "execution_count": 38,
   "metadata": {},
   "outputs": [],
   "source": [
    "in_size = 256\n",
    "hidden_size = 64\n",
    "out_size = 32\n",
    "bias = True\n",
    "self_loop = True\n",
    "drop_out = 0.0\n",
    "lr = 0.01\n",
    "wdc = 0.0\n",
    "patience = 5\n",
    "batch_size = 1024"
   ]
  },
  {
   "cell_type": "markdown",
   "metadata": {},
   "source": [
    "- setup"
   ]
  },
  {
   "cell_type": "code",
   "execution_count": 39,
   "metadata": {},
   "outputs": [],
   "source": [
    "model = HeteroRGCN(G,in_size,hidden_size,out_size,bias,self_loop,drop_out)"
   ]
  },
  {
   "cell_type": "code",
   "execution_count": 40,
   "metadata": {},
   "outputs": [],
   "source": [
    "opt = torch.optim.Adam(model.parameters(), lr = lr, weight_decay=wdc)"
   ]
  },
  {
   "cell_type": "code",
   "execution_count": null,
   "metadata": {},
   "outputs": [],
   "source": []
  },
  {
   "cell_type": "markdown",
   "metadata": {},
   "source": [
    "## Earlystop class- todo"
   ]
  },
  {
   "cell_type": "code",
   "execution_count": 42,
   "metadata": {},
   "outputs": [],
   "source": [
    "\n",
    "class EarlyStopping:\n",
    "    \"\"\"Early stops the training if validation loss doesn't improve after a given patience.\"\"\"\n",
    "    def __init__(self, patience=7, verbose=False, delta=0):\n",
    "        \"\"\"\n",
    "        Args:\n",
    "            patience (int): How long to wait after last time validation loss improved.\n",
    "                            Default: 7\n",
    "            verbose (bool): If True, prints a message for each validation loss improvement. \n",
    "                            Default: False\n",
    "            delta (float): Minimum change in the monitored quantity to qualify as an improvement.\n",
    "                            Default: 0\n",
    "        \"\"\"\n",
    "        self.patience = patience\n",
    "        self.verbose = verbose\n",
    "        self.counter = 0\n",
    "        self.best_score = None\n",
    "        self.early_stop = False\n",
    "        self.is_best = False\n",
    "        self.val_loss_min = np.Inf\n",
    "        self.delta = delta\n",
    "\n",
    "    def __call__(self, val_loss):\n",
    "\n",
    "        score = -val_loss\n",
    "\n",
    "        if self.best_score is None:\n",
    "            self.best_score = score\n",
    "            self.is_best = True\n",
    "        elif score < self.best_score + self.delta:\n",
    "            self.is_best = False\n",
    "            self.counter += 1\n",
    "            print('EarlyStopping counter: {} out of {}'.format(self.counter, self.patience))\n",
    "            if self.counter >= self.patience:\n",
    "                self.early_stop = True\n",
    "        else:\n",
    "            self.best_score = score\n",
    "            self.is_best = True\n",
    "            self.counter = 0\n",
    "        if self.is_best and self.verbose:\n",
    "            print('Validation loss decreased ({:.6f} --> {:.6f}).  Saving model ...'.format(self.val_loss_min, val_loss))\n",
    "            self.val_loss_min = val_loss"
   ]
  },
  {
   "cell_type": "code",
   "execution_count": 43,
   "metadata": {},
   "outputs": [],
   "source": [
    "early_stopping = EarlyStopping(patience = patience, verbose=True)"
   ]
  },
  {
   "cell_type": "code",
   "execution_count": null,
   "metadata": {},
   "outputs": [],
   "source": [
    "early_stopping = EarlyStopping(verbose=True)"
   ]
  },
  {
   "cell_type": "markdown",
   "metadata": {},
   "source": [
    "## loss class- todo"
   ]
  },
  {
   "cell_type": "code",
   "execution_count": 44,
   "metadata": {},
   "outputs": [],
   "source": [
    "import torch \n",
    "import torch.nn.functional as F\n",
    "\n",
    "def bpr_loss(users, pos_items, neg_items, decay=1):\n",
    "    pos_scores = torch.mul(users,pos_items).sum(1) \n",
    "    neg_scores = torch.mul(users,neg_items).sum(1) \n",
    "\n",
    "    regularizer = torch.sum(users**2)/2 + torch.sum(pos_items**2)/2 + torch.sum(neg_items**2)/2\n",
    "    regularizer = regularizer/users.shape[0]\n",
    "\n",
    "    # In the first version, we implement the bpr loss via the following codes:\n",
    "    # We report the performance in our paper using this implementation.\n",
    "    maxi = F.logsigmoid(pos_scores - neg_scores)\n",
    "    mf_loss = -torch.mean(maxi)\n",
    "\n",
    "    ## In the second version, we implement the bpr loss via the following codes to avoid 'NAN' loss during training:\n",
    "    ## However, it will change the training performance and training performance.\n",
    "    ## Please retrain the model and do a grid search for the best experimental setting.\n",
    "    # mf_loss = tf.reduce_sum(tf.nn.softplus(-(pos_scores - neg_scores)))\n",
    "\n",
    "    emb_loss = decay * regularizer\n",
    "\n",
    "    return mf_loss, emb_loss"
   ]
  },
  {
   "cell_type": "markdown",
   "metadata": {},
   "source": [
    "## main class- train"
   ]
  },
  {
   "cell_type": "code",
   "execution_count": 45,
   "metadata": {},
   "outputs": [],
   "source": [
    "weights_path = 'C:/FTP/data/amazon-book/mydata'"
   ]
  },
  {
   "cell_type": "code",
   "execution_count": 46,
   "metadata": {},
   "outputs": [],
   "source": [
    "del tqdm"
   ]
  },
  {
   "cell_type": "code",
   "execution_count": 47,
   "metadata": {},
   "outputs": [],
   "source": [
    "from tqdm.auto import tqdm"
   ]
  },
  {
   "cell_type": "code",
   "execution_count": null,
   "metadata": {},
   "outputs": [],
   "source": [
    "G"
   ]
  },
  {
   "cell_type": "code",
   "execution_count": 50,
   "metadata": {},
   "outputs": [
    {
     "data": {
      "application/vnd.jupyter.widget-view+json": {
       "model_id": "b16bf2917e744d4a87154860b235cf68",
       "version_major": 2,
       "version_minor": 0
      },
      "text/plain": [
       "HBox(children=(FloatProgress(value=0.0, max=500.0), HTML(value='')))"
      ]
     },
     "metadata": {},
     "output_type": "display_data"
    },
    {
     "data": {
      "application/vnd.jupyter.widget-view+json": {
       "model_id": "02d516d765b6462f8b95cee006942ca8",
       "version_major": 2,
       "version_minor": 0
      },
      "text/plain": [
       "HBox(children=(FloatProgress(value=0.0, description='epoch 0', max=699.0, style=ProgressStyle(description_widt…"
      ]
     },
     "metadata": {},
     "output_type": "display_data"
    },
    {
     "name": "stdout",
     "output_type": "stream",
     "text": [
      "\n",
      "Epoch 0: loss 1328311.25, emb_loss 1318156.6066894531, mf_loss 10156.600458145142\n",
      "Validation loss decreased (1622050.625000 --> 1328311.250000).  Saving model ...\n"
     ]
    },
    {
     "data": {
      "application/vnd.jupyter.widget-view+json": {
       "model_id": "7a7142ebe9864f179b072aefd3d67055",
       "version_major": 2,
       "version_minor": 0
      },
      "text/plain": [
       "HBox(children=(FloatProgress(value=0.0, description='epoch 1', max=699.0, style=ProgressStyle(description_widt…"
      ]
     },
     "metadata": {},
     "output_type": "display_data"
    },
    {
     "name": "stdout",
     "output_type": "stream",
     "text": [
      "\n",
      "Epoch 1: loss 1219975.375, emb_loss 1212750.2454833984, mf_loss 7225.819863319397\n",
      "Validation loss decreased (1328311.250000 --> 1219975.375000).  Saving model ...\n"
     ]
    },
    {
     "data": {
      "application/vnd.jupyter.widget-view+json": {
       "model_id": "a87f4301ae9d47738b0136c0db8f0492",
       "version_major": 2,
       "version_minor": 0
      },
      "text/plain": [
       "HBox(children=(FloatProgress(value=0.0, description='epoch 2', max=699.0, style=ProgressStyle(description_widt…"
      ]
     },
     "metadata": {},
     "output_type": "display_data"
    },
    {
     "name": "stdout",
     "output_type": "stream",
     "text": [
      "\n",
      "Epoch 2: loss 1167763.5, emb_loss 1160707.529296875, mf_loss 7056.009489059448\n",
      "Validation loss decreased (1219975.375000 --> 1167763.500000).  Saving model ...\n"
     ]
    },
    {
     "data": {
      "application/vnd.jupyter.widget-view+json": {
       "model_id": "541d7811ea004c92a199c987e6cbb31a",
       "version_major": 2,
       "version_minor": 0
      },
      "text/plain": [
       "HBox(children=(FloatProgress(value=0.0, description='epoch 3', max=699.0, style=ProgressStyle(description_widt…"
      ]
     },
     "metadata": {},
     "output_type": "display_data"
    },
    {
     "name": "stdout",
     "output_type": "stream",
     "text": [
      "\n",
      "Epoch 3: loss 1121963.625, emb_loss 1115155.0158691406, mf_loss 6808.338257789612\n",
      "Validation loss decreased (1167763.500000 --> 1121963.625000).  Saving model ...\n"
     ]
    },
    {
     "data": {
      "application/vnd.jupyter.widget-view+json": {
       "model_id": "66bb8446d76e4c93b9d45a5695b457c7",
       "version_major": 2,
       "version_minor": 0
      },
      "text/plain": [
       "HBox(children=(FloatProgress(value=0.0, description='epoch 4', max=699.0, style=ProgressStyle(description_widt…"
      ]
     },
     "metadata": {},
     "output_type": "display_data"
    },
    {
     "name": "stdout",
     "output_type": "stream",
     "text": [
      "\n",
      "Epoch 4: loss 1072827.75, emb_loss 1066329.6339111328, mf_loss 6498.518361568451\n",
      "Validation loss decreased (1121963.625000 --> 1072827.750000).  Saving model ...\n"
     ]
    },
    {
     "data": {
      "application/vnd.jupyter.widget-view+json": {
       "model_id": "5dac50ee84b947deb434130a8da857c9",
       "version_major": 2,
       "version_minor": 0
      },
      "text/plain": [
       "HBox(children=(FloatProgress(value=0.0, description='epoch 5', max=699.0, style=ProgressStyle(description_widt…"
      ]
     },
     "metadata": {},
     "output_type": "display_data"
    },
    {
     "name": "stdout",
     "output_type": "stream",
     "text": [
      "\n",
      "Epoch 5: loss 1022638.5, emb_loss 1016786.8586425781, mf_loss 5852.281480312347\n",
      "Validation loss decreased (1072827.750000 --> 1022638.500000).  Saving model ...\n"
     ]
    },
    {
     "data": {
      "application/vnd.jupyter.widget-view+json": {
       "model_id": "ae3d48f035a0430bb192c8846631caac",
       "version_major": 2,
       "version_minor": 0
      },
      "text/plain": [
       "HBox(children=(FloatProgress(value=0.0, description='epoch 6', max=699.0, style=ProgressStyle(description_widt…"
      ]
     },
     "metadata": {},
     "output_type": "display_data"
    },
    {
     "name": "stdout",
     "output_type": "stream",
     "text": [
      "\n",
      "Epoch 6: loss 979852.6875, emb_loss 974985.58203125, mf_loss 4867.274800777435\n",
      "Validation loss decreased (1022638.500000 --> 979852.687500).  Saving model ...\n"
     ]
    },
    {
     "data": {
      "application/vnd.jupyter.widget-view+json": {
       "model_id": "f7827f77797f4842bd7207dda8ef1aa8",
       "version_major": 2,
       "version_minor": 0
      },
      "text/plain": [
       "HBox(children=(FloatProgress(value=0.0, description='epoch 7', max=699.0, style=ProgressStyle(description_widt…"
      ]
     },
     "metadata": {},
     "output_type": "display_data"
    },
    {
     "name": "stdout",
     "output_type": "stream",
     "text": [
      "\n",
      "Epoch 7: loss 946352.6875, emb_loss 942681.2537841797, mf_loss 3670.6488485336304\n",
      "Validation loss decreased (979852.687500 --> 946352.687500).  Saving model ...\n"
     ]
    },
    {
     "data": {
      "application/vnd.jupyter.widget-view+json": {
       "model_id": "71621a4511c0461abec88b1087c3e99e",
       "version_major": 2,
       "version_minor": 0
      },
      "text/plain": [
       "HBox(children=(FloatProgress(value=0.0, description='epoch 8', max=699.0, style=ProgressStyle(description_widt…"
      ]
     },
     "metadata": {},
     "output_type": "display_data"
    },
    {
     "name": "stdout",
     "output_type": "stream",
     "text": [
      "\n",
      "Epoch 8: loss 921030.5, emb_loss 918327.0588378906, mf_loss 2703.204465866089\n",
      "Validation loss decreased (946352.687500 --> 921030.500000).  Saving model ...\n"
     ]
    },
    {
     "data": {
      "application/vnd.jupyter.widget-view+json": {
       "model_id": "b9d6be2989214d42829f82b7c9716ac2",
       "version_major": 2,
       "version_minor": 0
      },
      "text/plain": [
       "HBox(children=(FloatProgress(value=0.0, description='epoch 9', max=699.0, style=ProgressStyle(description_widt…"
      ]
     },
     "metadata": {},
     "output_type": "display_data"
    },
    {
     "name": "stdout",
     "output_type": "stream",
     "text": [
      "\n",
      "Epoch 9: loss 901706.625, emb_loss 899608.2858886719, mf_loss 2098.518510580063\n",
      "Validation loss decreased (921030.500000 --> 901706.625000).  Saving model ...\n"
     ]
    },
    {
     "data": {
      "application/vnd.jupyter.widget-view+json": {
       "model_id": "17a6bafff50d435eb3bd6cd94aa9f561",
       "version_major": 2,
       "version_minor": 0
      },
      "text/plain": [
       "HBox(children=(FloatProgress(value=0.0, description='epoch 10', max=699.0, style=ProgressStyle(description_wid…"
      ]
     },
     "metadata": {},
     "output_type": "display_data"
    },
    {
     "name": "stdout",
     "output_type": "stream",
     "text": [
      "\n",
      "Epoch 10: loss 884151.5625, emb_loss 882342.8582763672, mf_loss 1809.427887916565\n",
      "Validation loss decreased (901706.625000 --> 884151.562500).  Saving model ...\n"
     ]
    },
    {
     "data": {
      "application/vnd.jupyter.widget-view+json": {
       "model_id": "4f3e17f729434d359fae65fe7233eedd",
       "version_major": 2,
       "version_minor": 0
      },
      "text/plain": [
       "HBox(children=(FloatProgress(value=0.0, description='epoch 11', max=699.0, style=ProgressStyle(description_wid…"
      ]
     },
     "metadata": {},
     "output_type": "display_data"
    },
    {
     "name": "stdout",
     "output_type": "stream",
     "text": [
      "\n",
      "Epoch 11: loss 871182.5, emb_loss 869360.5280761719, mf_loss 1822.2289612293243\n",
      "Validation loss decreased (884151.562500 --> 871182.500000).  Saving model ...\n"
     ]
    },
    {
     "data": {
      "application/vnd.jupyter.widget-view+json": {
       "model_id": "8208ec3b1e654cc68b0bdfd108840a09",
       "version_major": 2,
       "version_minor": 0
      },
      "text/plain": [
       "HBox(children=(FloatProgress(value=0.0, description='epoch 12', max=699.0, style=ProgressStyle(description_wid…"
      ]
     },
     "metadata": {},
     "output_type": "display_data"
    },
    {
     "name": "stdout",
     "output_type": "stream",
     "text": [
      "\n",
      "Epoch 12: loss 859016.1875, emb_loss 857302.4825439453, mf_loss 1713.9579205513\n",
      "Validation loss decreased (871182.500000 --> 859016.187500).  Saving model ...\n"
     ]
    },
    {
     "data": {
      "application/vnd.jupyter.widget-view+json": {
       "model_id": "2029641d755c40ce91129300cd3d8d77",
       "version_major": 2,
       "version_minor": 0
      },
      "text/plain": [
       "HBox(children=(FloatProgress(value=0.0, description='epoch 13', max=699.0, style=ProgressStyle(description_wid…"
      ]
     },
     "metadata": {},
     "output_type": "display_data"
    },
    {
     "name": "stdout",
     "output_type": "stream",
     "text": [
      "\n",
      "Epoch 13: loss 846110.5, emb_loss 844572.3582763672, mf_loss 1538.733781337738\n",
      "Validation loss decreased (859016.187500 --> 846110.500000).  Saving model ...\n"
     ]
    },
    {
     "data": {
      "application/vnd.jupyter.widget-view+json": {
       "model_id": "cb317d9b24d745259542e8be5686aeaf",
       "version_major": 2,
       "version_minor": 0
      },
      "text/plain": [
       "HBox(children=(FloatProgress(value=0.0, description='epoch 14', max=699.0, style=ProgressStyle(description_wid…"
      ]
     },
     "metadata": {},
     "output_type": "display_data"
    },
    {
     "name": "stdout",
     "output_type": "stream",
     "text": [
      "\n",
      "Epoch 14: loss 834889.4375, emb_loss 833404.4211425781, mf_loss 1484.640308380127\n",
      "Validation loss decreased (846110.500000 --> 834889.437500).  Saving model ...\n"
     ]
    },
    {
     "data": {
      "application/vnd.jupyter.widget-view+json": {
       "model_id": "b3f6f6d0fd5a4300b55f81ad0646bc21",
       "version_major": 2,
       "version_minor": 0
      },
      "text/plain": [
       "HBox(children=(FloatProgress(value=0.0, description='epoch 15', max=699.0, style=ProgressStyle(description_wid…"
      ]
     },
     "metadata": {},
     "output_type": "display_data"
    },
    {
     "name": "stdout",
     "output_type": "stream",
     "text": [
      "\n",
      "Epoch 15: loss 824554.125, emb_loss 823323.3054199219, mf_loss 1231.0202300548553\n",
      "Validation loss decreased (834889.437500 --> 824554.125000).  Saving model ...\n"
     ]
    },
    {
     "data": {
      "application/vnd.jupyter.widget-view+json": {
       "model_id": "b3fef4dbdac24795815ac3f7031a0a5a",
       "version_major": 2,
       "version_minor": 0
      },
      "text/plain": [
       "HBox(children=(FloatProgress(value=0.0, description='epoch 16', max=699.0, style=ProgressStyle(description_wid…"
      ]
     },
     "metadata": {},
     "output_type": "display_data"
    },
    {
     "name": "stdout",
     "output_type": "stream",
     "text": [
      "\n",
      "Epoch 16: loss 811771.4375, emb_loss 810960.6785888672, mf_loss 810.5893023610115\n",
      "Validation loss decreased (824554.125000 --> 811771.437500).  Saving model ...\n"
     ]
    },
    {
     "data": {
      "application/vnd.jupyter.widget-view+json": {
       "model_id": "576080716ae446088dfa5744ab24c9a2",
       "version_major": 2,
       "version_minor": 0
      },
      "text/plain": [
       "HBox(children=(FloatProgress(value=0.0, description='epoch 17', max=699.0, style=ProgressStyle(description_wid…"
      ]
     },
     "metadata": {},
     "output_type": "display_data"
    },
    {
     "name": "stdout",
     "output_type": "stream",
     "text": [
      "\n",
      "Epoch 17: loss 800026.6875, emb_loss 799436.5015869141, mf_loss 590.044161438942\n",
      "Validation loss decreased (811771.437500 --> 800026.687500).  Saving model ...\n"
     ]
    },
    {
     "data": {
      "application/vnd.jupyter.widget-view+json": {
       "model_id": "a21b3654d2be4e3287a70b93eccf9453",
       "version_major": 2,
       "version_minor": 0
      },
      "text/plain": [
       "HBox(children=(FloatProgress(value=0.0, description='epoch 18', max=699.0, style=ProgressStyle(description_wid…"
      ]
     },
     "metadata": {},
     "output_type": "display_data"
    },
    {
     "name": "stdout",
     "output_type": "stream",
     "text": [
      "\n",
      "Epoch 18: loss 791376.0625, emb_loss 790843.3673095703, mf_loss 533.3344397544861\n",
      "Validation loss decreased (800026.687500 --> 791376.062500).  Saving model ...\n"
     ]
    },
    {
     "data": {
      "application/vnd.jupyter.widget-view+json": {
       "model_id": "f59c2c11439641d0bbccf532b9292474",
       "version_major": 2,
       "version_minor": 0
      },
      "text/plain": [
       "HBox(children=(FloatProgress(value=0.0, description='epoch 19', max=699.0, style=ProgressStyle(description_wid…"
      ]
     },
     "metadata": {},
     "output_type": "display_data"
    },
    {
     "name": "stdout",
     "output_type": "stream",
     "text": [
      "\n",
      "Epoch 19: loss 784140.625, emb_loss 783633.5205078125, mf_loss 507.3676260113716\n",
      "Validation loss decreased (791376.062500 --> 784140.625000).  Saving model ...\n"
     ]
    },
    {
     "data": {
      "application/vnd.jupyter.widget-view+json": {
       "model_id": "efa58fb5286b466590d44119d247cc2b",
       "version_major": 2,
       "version_minor": 0
      },
      "text/plain": [
       "HBox(children=(FloatProgress(value=0.0, description='epoch 20', max=699.0, style=ProgressStyle(description_wid…"
      ]
     },
     "metadata": {},
     "output_type": "display_data"
    },
    {
     "name": "stdout",
     "output_type": "stream",
     "text": [
      "\n",
      "Epoch 20: loss 777065.5625, emb_loss 776571.544921875, mf_loss 493.60210514068604\n",
      "Validation loss decreased (784140.625000 --> 777065.562500).  Saving model ...\n"
     ]
    },
    {
     "data": {
      "application/vnd.jupyter.widget-view+json": {
       "model_id": "cd538512dea24ff6af5f1c5ecc0c04c8",
       "version_major": 2,
       "version_minor": 0
      },
      "text/plain": [
       "HBox(children=(FloatProgress(value=0.0, description='epoch 21', max=699.0, style=ProgressStyle(description_wid…"
      ]
     },
     "metadata": {},
     "output_type": "display_data"
    },
    {
     "name": "stdout",
     "output_type": "stream",
     "text": [
      "\n",
      "Epoch 21: loss 770332.5, emb_loss 769880.5535888672, mf_loss 451.23121854662895\n",
      "Validation loss decreased (777065.562500 --> 770332.500000).  Saving model ...\n"
     ]
    },
    {
     "data": {
      "application/vnd.jupyter.widget-view+json": {
       "model_id": "ef82298aba9e4dfda67604908e69f7c3",
       "version_major": 2,
       "version_minor": 0
      },
      "text/plain": [
       "HBox(children=(FloatProgress(value=0.0, description='epoch 22', max=699.0, style=ProgressStyle(description_wid…"
      ]
     },
     "metadata": {},
     "output_type": "display_data"
    },
    {
     "name": "stdout",
     "output_type": "stream",
     "text": [
      "\n",
      "Epoch 22: loss 763913.9375, emb_loss 763518.2613525391, mf_loss 395.87035566568375\n",
      "Validation loss decreased (770332.500000 --> 763913.937500).  Saving model ...\n"
     ]
    },
    {
     "data": {
      "application/vnd.jupyter.widget-view+json": {
       "model_id": "bce37cc25cf841f988d3f58c2276eb97",
       "version_major": 2,
       "version_minor": 0
      },
      "text/plain": [
       "HBox(children=(FloatProgress(value=0.0, description='epoch 23', max=699.0, style=ProgressStyle(description_wid…"
      ]
     },
     "metadata": {},
     "output_type": "display_data"
    },
    {
     "name": "stdout",
     "output_type": "stream",
     "text": [
      "\n",
      "Epoch 23: loss 757512.1875, emb_loss 757162.0784912109, mf_loss 350.5104896724224\n",
      "Validation loss decreased (763913.937500 --> 757512.187500).  Saving model ...\n"
     ]
    },
    {
     "data": {
      "application/vnd.jupyter.widget-view+json": {
       "model_id": "a884eba36b434c9197f2bab0f65b44de",
       "version_major": 2,
       "version_minor": 0
      },
      "text/plain": [
       "HBox(children=(FloatProgress(value=0.0, description='epoch 24', max=699.0, style=ProgressStyle(description_wid…"
      ]
     },
     "metadata": {},
     "output_type": "display_data"
    },
    {
     "name": "stdout",
     "output_type": "stream",
     "text": [
      "\n",
      "Epoch 24: loss 750798.875, emb_loss 750492.4111328125, mf_loss 306.3832218647003\n",
      "Validation loss decreased (757512.187500 --> 750798.875000).  Saving model ...\n"
     ]
    },
    {
     "data": {
      "application/vnd.jupyter.widget-view+json": {
       "model_id": "381611a06b0d4f25a35ef5fbe34ab693",
       "version_major": 2,
       "version_minor": 0
      },
      "text/plain": [
       "HBox(children=(FloatProgress(value=0.0, description='epoch 25', max=699.0, style=ProgressStyle(description_wid…"
      ]
     },
     "metadata": {},
     "output_type": "display_data"
    },
    {
     "name": "stdout",
     "output_type": "stream",
     "text": [
      "\n",
      "Epoch 25: loss 744066.6875, emb_loss 743793.8717041016, mf_loss 273.03866839408875\n",
      "Validation loss decreased (750798.875000 --> 744066.687500).  Saving model ...\n"
     ]
    },
    {
     "data": {
      "application/vnd.jupyter.widget-view+json": {
       "model_id": "8a7d16a97bf94eaa8a3d04ac58e8f828",
       "version_major": 2,
       "version_minor": 0
      },
      "text/plain": [
       "HBox(children=(FloatProgress(value=0.0, description='epoch 26', max=699.0, style=ProgressStyle(description_wid…"
      ]
     },
     "metadata": {},
     "output_type": "display_data"
    },
    {
     "name": "stdout",
     "output_type": "stream",
     "text": [
      "\n",
      "Epoch 26: loss 737586.875, emb_loss 737339.6357421875, mf_loss 247.67495739459991\n",
      "Validation loss decreased (744066.687500 --> 737586.875000).  Saving model ...\n"
     ]
    },
    {
     "data": {
      "application/vnd.jupyter.widget-view+json": {
       "model_id": "6a9db4b0ffae4254bbb27226ffb2f46b",
       "version_major": 2,
       "version_minor": 0
      },
      "text/plain": [
       "HBox(children=(FloatProgress(value=0.0, description='epoch 27', max=699.0, style=ProgressStyle(description_wid…"
      ]
     },
     "metadata": {},
     "output_type": "display_data"
    },
    {
     "name": "stdout",
     "output_type": "stream",
     "text": [
      "\n",
      "Epoch 27: loss 731822.1875, emb_loss 731593.0255126953, mf_loss 229.55100043118\n",
      "Validation loss decreased (737586.875000 --> 731822.187500).  Saving model ...\n"
     ]
    },
    {
     "data": {
      "application/vnd.jupyter.widget-view+json": {
       "model_id": "01cb50dec3694a30984b29c5e83ed074",
       "version_major": 2,
       "version_minor": 0
      },
      "text/plain": [
       "HBox(children=(FloatProgress(value=0.0, description='epoch 28', max=699.0, style=ProgressStyle(description_wid…"
      ]
     },
     "metadata": {},
     "output_type": "display_data"
    },
    {
     "name": "stdout",
     "output_type": "stream",
     "text": [
      "\n",
      "Epoch 28: loss 726617.4375, emb_loss 726394.8070678711, mf_loss 222.48208241164684\n",
      "Validation loss decreased (731822.187500 --> 726617.437500).  Saving model ...\n"
     ]
    },
    {
     "data": {
      "application/vnd.jupyter.widget-view+json": {
       "model_id": "b30a0b75eca74b789cc56bbc6926c1dd",
       "version_major": 2,
       "version_minor": 0
      },
      "text/plain": [
       "HBox(children=(FloatProgress(value=0.0, description='epoch 29', max=699.0, style=ProgressStyle(description_wid…"
      ]
     },
     "metadata": {},
     "output_type": "display_data"
    },
    {
     "name": "stdout",
     "output_type": "stream",
     "text": [
      "\n",
      "Epoch 29: loss 720823.5, emb_loss 720610.5408935547, mf_loss 213.13545724749565\n",
      "Validation loss decreased (726617.437500 --> 720823.500000).  Saving model ...\n"
     ]
    },
    {
     "data": {
      "application/vnd.jupyter.widget-view+json": {
       "model_id": "db4d82245fcd410285908b41a106af37",
       "version_major": 2,
       "version_minor": 0
      },
      "text/plain": [
       "HBox(children=(FloatProgress(value=0.0, description='epoch 30', max=699.0, style=ProgressStyle(description_wid…"
      ]
     },
     "metadata": {},
     "output_type": "display_data"
    },
    {
     "name": "stdout",
     "output_type": "stream",
     "text": [
      "\n",
      "Epoch 30: loss 715610.75, emb_loss 715410.7808227539, mf_loss 199.7952163219452\n",
      "Validation loss decreased (720823.500000 --> 715610.750000).  Saving model ...\n"
     ]
    },
    {
     "data": {
      "application/vnd.jupyter.widget-view+json": {
       "model_id": "c249ffa3caed488d8df52bfcf08a2470",
       "version_major": 2,
       "version_minor": 0
      },
      "text/plain": [
       "HBox(children=(FloatProgress(value=0.0, description='epoch 31', max=699.0, style=ProgressStyle(description_wid…"
      ]
     },
     "metadata": {},
     "output_type": "display_data"
    },
    {
     "name": "stdout",
     "output_type": "stream",
     "text": [
      "\n",
      "Epoch 31: loss 710549.9375, emb_loss 710361.8524780273, mf_loss 187.64137820899487\n",
      "Validation loss decreased (715610.750000 --> 710549.937500).  Saving model ...\n"
     ]
    },
    {
     "data": {
      "application/vnd.jupyter.widget-view+json": {
       "model_id": "4474f4aa34f54178891c3ce93a37e738",
       "version_major": 2,
       "version_minor": 0
      },
      "text/plain": [
       "HBox(children=(FloatProgress(value=0.0, description='epoch 32', max=699.0, style=ProgressStyle(description_wid…"
      ]
     },
     "metadata": {},
     "output_type": "display_data"
    },
    {
     "name": "stdout",
     "output_type": "stream",
     "text": [
      "\n",
      "Epoch 32: loss 705803.125, emb_loss 705625.4193725586, mf_loss 177.6795129776001\n",
      "Validation loss decreased (710549.937500 --> 705803.125000).  Saving model ...\n"
     ]
    },
    {
     "data": {
      "application/vnd.jupyter.widget-view+json": {
       "model_id": "8dca089df39241de8da79bdc0decbde5",
       "version_major": 2,
       "version_minor": 0
      },
      "text/plain": [
       "HBox(children=(FloatProgress(value=0.0, description='epoch 33', max=699.0, style=ProgressStyle(description_wid…"
      ]
     },
     "metadata": {},
     "output_type": "display_data"
    },
    {
     "name": "stdout",
     "output_type": "stream",
     "text": [
      "\n",
      "Epoch 33: loss 700935.75, emb_loss 700766.204284668, mf_loss 169.8974912315607\n",
      "Validation loss decreased (705803.125000 --> 700935.750000).  Saving model ...\n"
     ]
    },
    {
     "data": {
      "application/vnd.jupyter.widget-view+json": {
       "model_id": "23df953e8fbf4b4fbe8ccd9fde367090",
       "version_major": 2,
       "version_minor": 0
      },
      "text/plain": [
       "HBox(children=(FloatProgress(value=0.0, description='epoch 34', max=699.0, style=ProgressStyle(description_wid…"
      ]
     },
     "metadata": {},
     "output_type": "display_data"
    },
    {
     "name": "stdout",
     "output_type": "stream",
     "text": [
      "\n",
      "Epoch 34: loss 696564.6875, emb_loss 696403.8272705078, mf_loss 161.23070184886456\n",
      "Validation loss decreased (700935.750000 --> 696564.687500).  Saving model ...\n"
     ]
    },
    {
     "data": {
      "application/vnd.jupyter.widget-view+json": {
       "model_id": "c0d15b03a29c461494af724f172f5fea",
       "version_major": 2,
       "version_minor": 0
      },
      "text/plain": [
       "HBox(children=(FloatProgress(value=0.0, description='epoch 35', max=699.0, style=ProgressStyle(description_wid…"
      ]
     },
     "metadata": {},
     "output_type": "display_data"
    },
    {
     "name": "stdout",
     "output_type": "stream",
     "text": [
      "\n",
      "Epoch 35: loss 691904.0, emb_loss 691748.400390625, mf_loss 155.58595672249794\n",
      "Validation loss decreased (696564.687500 --> 691904.000000).  Saving model ...\n"
     ]
    },
    {
     "data": {
      "application/vnd.jupyter.widget-view+json": {
       "model_id": "52e145abdc8c42d5b116d498b8ae2ccb",
       "version_major": 2,
       "version_minor": 0
      },
      "text/plain": [
       "HBox(children=(FloatProgress(value=0.0, description='epoch 36', max=699.0, style=ProgressStyle(description_wid…"
      ]
     },
     "metadata": {},
     "output_type": "display_data"
    },
    {
     "name": "stdout",
     "output_type": "stream",
     "text": [
      "\n",
      "Epoch 36: loss 687078.9375, emb_loss 686929.9036865234, mf_loss 149.0062000155449\n",
      "Validation loss decreased (691904.000000 --> 687078.937500).  Saving model ...\n"
     ]
    },
    {
     "data": {
      "application/vnd.jupyter.widget-view+json": {
       "model_id": "de9d4659d9cc4717aae4a9477bbe5094",
       "version_major": 2,
       "version_minor": 0
      },
      "text/plain": [
       "HBox(children=(FloatProgress(value=0.0, description='epoch 37', max=699.0, style=ProgressStyle(description_wid…"
      ]
     },
     "metadata": {},
     "output_type": "display_data"
    },
    {
     "name": "stdout",
     "output_type": "stream",
     "text": [
      "\n",
      "Epoch 37: loss 682182.625, emb_loss 682039.2144165039, mf_loss 144.1785378754139\n",
      "Validation loss decreased (687078.937500 --> 682182.625000).  Saving model ...\n"
     ]
    },
    {
     "data": {
      "application/vnd.jupyter.widget-view+json": {
       "model_id": "581067d580d34c6787d24a3c42446313",
       "version_major": 2,
       "version_minor": 0
      },
      "text/plain": [
       "HBox(children=(FloatProgress(value=0.0, description='epoch 38', max=699.0, style=ProgressStyle(description_wid…"
      ]
     },
     "metadata": {},
     "output_type": "display_data"
    },
    {
     "name": "stdout",
     "output_type": "stream",
     "text": [
      "\n",
      "Epoch 38: loss 678313.125, emb_loss 678172.8433227539, mf_loss 140.25916302204132\n",
      "Validation loss decreased (682182.625000 --> 678313.125000).  Saving model ...\n"
     ]
    },
    {
     "data": {
      "application/vnd.jupyter.widget-view+json": {
       "model_id": "560d8a8831cb43a5b1ded582b85d52fc",
       "version_major": 2,
       "version_minor": 0
      },
      "text/plain": [
       "HBox(children=(FloatProgress(value=0.0, description='epoch 39', max=699.0, style=ProgressStyle(description_wid…"
      ]
     },
     "metadata": {},
     "output_type": "display_data"
    },
    {
     "name": "stdout",
     "output_type": "stream",
     "text": [
      "\n",
      "Epoch 39: loss 674044.3125, emb_loss 673909.3982543945, mf_loss 134.79376602172852\n",
      "Validation loss decreased (678313.125000 --> 674044.312500).  Saving model ...\n"
     ]
    },
    {
     "data": {
      "application/vnd.jupyter.widget-view+json": {
       "model_id": "1b98208c8d0b45dda37462367bb52695",
       "version_major": 2,
       "version_minor": 0
      },
      "text/plain": [
       "HBox(children=(FloatProgress(value=0.0, description='epoch 40', max=699.0, style=ProgressStyle(description_wid…"
      ]
     },
     "metadata": {},
     "output_type": "display_data"
    },
    {
     "name": "stdout",
     "output_type": "stream",
     "text": [
      "\n",
      "Epoch 40: loss 669758.1875, emb_loss 669627.1002197266, mf_loss 130.95562162995338\n",
      "Validation loss decreased (674044.312500 --> 669758.187500).  Saving model ...\n"
     ]
    },
    {
     "data": {
      "application/vnd.jupyter.widget-view+json": {
       "model_id": "788f2b68a5d444db8e337d4967838e10",
       "version_major": 2,
       "version_minor": 0
      },
      "text/plain": [
       "HBox(children=(FloatProgress(value=0.0, description='epoch 41', max=699.0, style=ProgressStyle(description_wid…"
      ]
     },
     "metadata": {},
     "output_type": "display_data"
    },
    {
     "name": "stdout",
     "output_type": "stream",
     "text": [
      "\n",
      "Epoch 41: loss 665362.1875, emb_loss 665234.2448730469, mf_loss 128.1641209870577\n",
      "Validation loss decreased (669758.187500 --> 665362.187500).  Saving model ...\n"
     ]
    },
    {
     "data": {
      "application/vnd.jupyter.widget-view+json": {
       "model_id": "8b1cf78293474ce3b4f7a3d581af241d",
       "version_major": 2,
       "version_minor": 0
      },
      "text/plain": [
       "HBox(children=(FloatProgress(value=0.0, description='epoch 42', max=699.0, style=ProgressStyle(description_wid…"
      ]
     },
     "metadata": {},
     "output_type": "display_data"
    },
    {
     "name": "stdout",
     "output_type": "stream",
     "text": [
      "\n",
      "Epoch 42: loss 661666.9375, emb_loss 661541.0380249023, mf_loss 125.29304828494787\n",
      "Validation loss decreased (665362.187500 --> 661666.937500).  Saving model ...\n"
     ]
    },
    {
     "data": {
      "application/vnd.jupyter.widget-view+json": {
       "model_id": "be4c053c778f4f98a3ca5d8c295ef271",
       "version_major": 2,
       "version_minor": 0
      },
      "text/plain": [
       "HBox(children=(FloatProgress(value=0.0, description='epoch 43', max=699.0, style=ProgressStyle(description_wid…"
      ]
     },
     "metadata": {},
     "output_type": "display_data"
    },
    {
     "name": "stdout",
     "output_type": "stream",
     "text": [
      "\n",
      "Epoch 43: loss 657544.0, emb_loss 657420.6099243164, mf_loss 122.22900439798832\n",
      "Validation loss decreased (661666.937500 --> 657544.000000).  Saving model ...\n"
     ]
    },
    {
     "data": {
      "application/vnd.jupyter.widget-view+json": {
       "model_id": "eac7fa28574146139a6df700c5d6bedf",
       "version_major": 2,
       "version_minor": 0
      },
      "text/plain": [
       "HBox(children=(FloatProgress(value=0.0, description='epoch 44', max=699.0, style=ProgressStyle(description_wid…"
      ]
     },
     "metadata": {},
     "output_type": "display_data"
    },
    {
     "name": "stdout",
     "output_type": "stream",
     "text": [
      "\n",
      "Epoch 44: loss 653534.875, emb_loss 653413.9167480469, mf_loss 120.43647927045822\n",
      "Validation loss decreased (657544.000000 --> 653534.875000).  Saving model ...\n"
     ]
    },
    {
     "data": {
      "application/vnd.jupyter.widget-view+json": {
       "model_id": "6588b9b0bc2742598f1a3376c23c21c6",
       "version_major": 2,
       "version_minor": 0
      },
      "text/plain": [
       "HBox(children=(FloatProgress(value=0.0, description='epoch 45', max=699.0, style=ProgressStyle(description_wid…"
      ]
     },
     "metadata": {},
     "output_type": "display_data"
    },
    {
     "name": "stdout",
     "output_type": "stream",
     "text": [
      "\n",
      "Epoch 45: loss 649610.875, emb_loss 649492.0180053711, mf_loss 118.48941472917795\n",
      "Validation loss decreased (653534.875000 --> 649610.875000).  Saving model ...\n"
     ]
    },
    {
     "data": {
      "application/vnd.jupyter.widget-view+json": {
       "model_id": "51bb1aced26941ee90248f8ecfbd3d42",
       "version_major": 2,
       "version_minor": 0
      },
      "text/plain": [
       "HBox(children=(FloatProgress(value=0.0, description='epoch 46', max=699.0, style=ProgressStyle(description_wid…"
      ]
     },
     "metadata": {},
     "output_type": "display_data"
    },
    {
     "name": "stdout",
     "output_type": "stream",
     "text": [
      "\n",
      "Epoch 46: loss 645649.0, emb_loss 645532.3117675781, mf_loss 116.00850724428892\n",
      "Validation loss decreased (649610.875000 --> 645649.000000).  Saving model ...\n"
     ]
    },
    {
     "data": {
      "application/vnd.jupyter.widget-view+json": {
       "model_id": "d1dea18341de46f1892821da329e95a9",
       "version_major": 2,
       "version_minor": 0
      },
      "text/plain": [
       "HBox(children=(FloatProgress(value=0.0, description='epoch 47', max=699.0, style=ProgressStyle(description_wid…"
      ]
     },
     "metadata": {},
     "output_type": "display_data"
    },
    {
     "name": "stdout",
     "output_type": "stream",
     "text": [
      "\n",
      "Epoch 47: loss 641721.9375, emb_loss 641607.9691772461, mf_loss 113.50927526503801\n",
      "Validation loss decreased (645649.000000 --> 641721.937500).  Saving model ...\n"
     ]
    },
    {
     "data": {
      "application/vnd.jupyter.widget-view+json": {
       "model_id": "6e0d9e6fb4444f1fab966f6e5ab0bfea",
       "version_major": 2,
       "version_minor": 0
      },
      "text/plain": [
       "HBox(children=(FloatProgress(value=0.0, description='epoch 48', max=699.0, style=ProgressStyle(description_wid…"
      ]
     },
     "metadata": {},
     "output_type": "display_data"
    },
    {
     "name": "stdout",
     "output_type": "stream",
     "text": [
      "\n",
      "Epoch 48: loss 637989.0, emb_loss 637874.2109375, mf_loss 113.93710388243198\n",
      "Validation loss decreased (641721.937500 --> 637989.000000).  Saving model ...\n"
     ]
    },
    {
     "data": {
      "application/vnd.jupyter.widget-view+json": {
       "model_id": "fc8851caea2a493cbeb88bdf8d795198",
       "version_major": 2,
       "version_minor": 0
      },
      "text/plain": [
       "HBox(children=(FloatProgress(value=0.0, description='epoch 49', max=699.0, style=ProgressStyle(description_wid…"
      ]
     },
     "metadata": {},
     "output_type": "display_data"
    },
    {
     "name": "stdout",
     "output_type": "stream",
     "text": [
      "\n",
      "Epoch 49: loss 634402.875, emb_loss 634291.5643310547, mf_loss 111.37107092887163\n",
      "Validation loss decreased (637989.000000 --> 634402.875000).  Saving model ...\n"
     ]
    },
    {
     "data": {
      "application/vnd.jupyter.widget-view+json": {
       "model_id": "7b8d64fbfaf44038a86dceb926352c5a",
       "version_major": 2,
       "version_minor": 0
      },
      "text/plain": [
       "HBox(children=(FloatProgress(value=0.0, description='epoch 50', max=699.0, style=ProgressStyle(description_wid…"
      ]
     },
     "metadata": {},
     "output_type": "display_data"
    },
    {
     "name": "stdout",
     "output_type": "stream",
     "text": [
      "\n",
      "Epoch 50: loss 630567.5, emb_loss 630457.360534668, mf_loss 110.18298563361168\n",
      "Validation loss decreased (634402.875000 --> 630567.500000).  Saving model ...\n"
     ]
    },
    {
     "data": {
      "application/vnd.jupyter.widget-view+json": {
       "model_id": "3d4079268fd84537b0f0c68db0ee71df",
       "version_major": 2,
       "version_minor": 0
      },
      "text/plain": [
       "HBox(children=(FloatProgress(value=0.0, description='epoch 51', max=699.0, style=ProgressStyle(description_wid…"
      ]
     },
     "metadata": {},
     "output_type": "display_data"
    },
    {
     "name": "stdout",
     "output_type": "stream",
     "text": [
      "\n",
      "Epoch 51: loss 626975.875, emb_loss 626868.6243286133, mf_loss 108.11165980249643\n",
      "Validation loss decreased (630567.500000 --> 626975.875000).  Saving model ...\n"
     ]
    },
    {
     "data": {
      "application/vnd.jupyter.widget-view+json": {
       "model_id": "ca1a89c4a26845cca0045f4fc85c1490",
       "version_major": 2,
       "version_minor": 0
      },
      "text/plain": [
       "HBox(children=(FloatProgress(value=0.0, description='epoch 52', max=699.0, style=ProgressStyle(description_wid…"
      ]
     },
     "metadata": {},
     "output_type": "display_data"
    },
    {
     "name": "stdout",
     "output_type": "stream",
     "text": [
      "\n",
      "Epoch 52: loss 623074.125, emb_loss 622966.9494628906, mf_loss 106.93968560546637\n",
      "Validation loss decreased (626975.875000 --> 623074.125000).  Saving model ...\n"
     ]
    },
    {
     "data": {
      "application/vnd.jupyter.widget-view+json": {
       "model_id": "b935ad6e3a834291a9de15ec7f39e8fb",
       "version_major": 2,
       "version_minor": 0
      },
      "text/plain": [
       "HBox(children=(FloatProgress(value=0.0, description='epoch 53', max=699.0, style=ProgressStyle(description_wid…"
      ]
     },
     "metadata": {},
     "output_type": "display_data"
    },
    {
     "name": "stdout",
     "output_type": "stream",
     "text": [
      "\n",
      "Epoch 53: loss 619422.0, emb_loss 619317.6575317383, mf_loss 104.50751037150621\n",
      "Validation loss decreased (623074.125000 --> 619422.000000).  Saving model ...\n"
     ]
    },
    {
     "data": {
      "application/vnd.jupyter.widget-view+json": {
       "model_id": "4310695363ed405099aae4c000e453dc",
       "version_major": 2,
       "version_minor": 0
      },
      "text/plain": [
       "HBox(children=(FloatProgress(value=0.0, description='epoch 54', max=699.0, style=ProgressStyle(description_wid…"
      ]
     },
     "metadata": {},
     "output_type": "display_data"
    },
    {
     "name": "stdout",
     "output_type": "stream",
     "text": [
      "\n",
      "Epoch 54: loss 615470.0625, emb_loss 615368.6412353516, mf_loss 102.06611633300781\n",
      "Validation loss decreased (619422.000000 --> 615470.062500).  Saving model ...\n"
     ]
    },
    {
     "data": {
      "application/vnd.jupyter.widget-view+json": {
       "model_id": "4e1402c33f724d16b398209c4389e6b8",
       "version_major": 2,
       "version_minor": 0
      },
      "text/plain": [
       "HBox(children=(FloatProgress(value=0.0, description='epoch 55', max=699.0, style=ProgressStyle(description_wid…"
      ]
     },
     "metadata": {},
     "output_type": "display_data"
    },
    {
     "name": "stdout",
     "output_type": "stream",
     "text": [
      "\n",
      "Epoch 55: loss 611802.3125, emb_loss 611701.3096923828, mf_loss 102.07338920235634\n",
      "Validation loss decreased (615470.062500 --> 611802.312500).  Saving model ...\n"
     ]
    },
    {
     "data": {
      "application/vnd.jupyter.widget-view+json": {
       "model_id": "239fa2189a414d95ab25893ddeb5cf51",
       "version_major": 2,
       "version_minor": 0
      },
      "text/plain": [
       "HBox(children=(FloatProgress(value=0.0, description='epoch 56', max=699.0, style=ProgressStyle(description_wid…"
      ]
     },
     "metadata": {},
     "output_type": "display_data"
    },
    {
     "name": "stdout",
     "output_type": "stream",
     "text": [
      "\n",
      "Epoch 56: loss 608792.1875, emb_loss 608692.8306884766, mf_loss 100.03719405829906\n",
      "Validation loss decreased (611802.312500 --> 608792.187500).  Saving model ...\n"
     ]
    },
    {
     "data": {
      "application/vnd.jupyter.widget-view+json": {
       "model_id": "61bc72ca42554be3aa6a43d3cab4e27b",
       "version_major": 2,
       "version_minor": 0
      },
      "text/plain": [
       "HBox(children=(FloatProgress(value=0.0, description='epoch 57', max=699.0, style=ProgressStyle(description_wid…"
      ]
     },
     "metadata": {},
     "output_type": "display_data"
    },
    {
     "name": "stdout",
     "output_type": "stream",
     "text": [
      "\n",
      "Epoch 57: loss 604939.6875, emb_loss 604840.3755493164, mf_loss 99.59091013669968\n",
      "Validation loss decreased (608792.187500 --> 604939.687500).  Saving model ...\n"
     ]
    },
    {
     "data": {
      "application/vnd.jupyter.widget-view+json": {
       "model_id": "e562d3f77b114d2da0252b33b00fba5d",
       "version_major": 2,
       "version_minor": 0
      },
      "text/plain": [
       "HBox(children=(FloatProgress(value=0.0, description='epoch 58', max=699.0, style=ProgressStyle(description_wid…"
      ]
     },
     "metadata": {},
     "output_type": "display_data"
    },
    {
     "name": "stdout",
     "output_type": "stream",
     "text": [
      "\n",
      "Epoch 58: loss 601414.25, emb_loss 601317.1814575195, mf_loss 98.57129483669996\n",
      "Validation loss decreased (604939.687500 --> 601414.250000).  Saving model ...\n"
     ]
    },
    {
     "data": {
      "application/vnd.jupyter.widget-view+json": {
       "model_id": "75347d59d5cb4137a9e0f692a50cc899",
       "version_major": 2,
       "version_minor": 0
      },
      "text/plain": [
       "HBox(children=(FloatProgress(value=0.0, description='epoch 59', max=699.0, style=ProgressStyle(description_wid…"
      ]
     },
     "metadata": {},
     "output_type": "display_data"
    },
    {
     "name": "stdout",
     "output_type": "stream",
     "text": [
      "\n",
      "Epoch 59: loss 597727.75, emb_loss 597630.7299804688, mf_loss 98.01770291477442\n",
      "Validation loss decreased (601414.250000 --> 597727.750000).  Saving model ...\n"
     ]
    },
    {
     "data": {
      "application/vnd.jupyter.widget-view+json": {
       "model_id": "1f6621e9b1f94d169d26810c91987f71",
       "version_major": 2,
       "version_minor": 0
      },
      "text/plain": [
       "HBox(children=(FloatProgress(value=0.0, description='epoch 60', max=699.0, style=ProgressStyle(description_wid…"
      ]
     },
     "metadata": {},
     "output_type": "display_data"
    },
    {
     "name": "stdout",
     "output_type": "stream",
     "text": [
      "\n",
      "Epoch 60: loss 594283.8125, emb_loss 594186.5756835938, mf_loss 97.9094128087163\n",
      "Validation loss decreased (597727.750000 --> 594283.812500).  Saving model ...\n"
     ]
    },
    {
     "data": {
      "application/vnd.jupyter.widget-view+json": {
       "model_id": "18aa8f6258014018af56db776f8e4f5b",
       "version_major": 2,
       "version_minor": 0
      },
      "text/plain": [
       "HBox(children=(FloatProgress(value=0.0, description='epoch 61', max=699.0, style=ProgressStyle(description_wid…"
      ]
     },
     "metadata": {},
     "output_type": "display_data"
    },
    {
     "name": "stdout",
     "output_type": "stream",
     "text": [
      "\n",
      "Epoch 61: loss 591116.75, emb_loss 591020.9123535156, mf_loss 96.7252447605133\n",
      "Validation loss decreased (594283.812500 --> 591116.750000).  Saving model ...\n"
     ]
    },
    {
     "data": {
      "application/vnd.jupyter.widget-view+json": {
       "model_id": "86f8059ce30a49daafc6767225918b91",
       "version_major": 2,
       "version_minor": 0
      },
      "text/plain": [
       "HBox(children=(FloatProgress(value=0.0, description='epoch 62', max=699.0, style=ProgressStyle(description_wid…"
      ]
     },
     "metadata": {},
     "output_type": "display_data"
    },
    {
     "name": "stdout",
     "output_type": "stream",
     "text": [
      "\n",
      "Epoch 62: loss 587535.1875, emb_loss 587438.8200683594, mf_loss 97.09696654230356\n",
      "Validation loss decreased (591116.750000 --> 587535.187500).  Saving model ...\n"
     ]
    },
    {
     "data": {
      "application/vnd.jupyter.widget-view+json": {
       "model_id": "a714d09615dc4a3a825549d19a2d3c04",
       "version_major": 2,
       "version_minor": 0
      },
      "text/plain": [
       "HBox(children=(FloatProgress(value=0.0, description='epoch 63', max=699.0, style=ProgressStyle(description_wid…"
      ]
     },
     "metadata": {},
     "output_type": "display_data"
    },
    {
     "name": "stdout",
     "output_type": "stream",
     "text": [
      "\n",
      "Epoch 63: loss 583997.125, emb_loss 583901.3041381836, mf_loss 96.73567973077297\n",
      "Validation loss decreased (587535.187500 --> 583997.125000).  Saving model ...\n"
     ]
    },
    {
     "data": {
      "application/vnd.jupyter.widget-view+json": {
       "model_id": "8805f9510502477eb895e30d0cf30ea6",
       "version_major": 2,
       "version_minor": 0
      },
      "text/plain": [
       "HBox(children=(FloatProgress(value=0.0, description='epoch 64', max=699.0, style=ProgressStyle(description_wid…"
      ]
     },
     "metadata": {},
     "output_type": "display_data"
    },
    {
     "name": "stdout",
     "output_type": "stream",
     "text": [
      "\n",
      "Epoch 64: loss 580492.3125, emb_loss 580397.4782104492, mf_loss 95.4274999499321\n",
      "Validation loss decreased (583997.125000 --> 580492.312500).  Saving model ...\n"
     ]
    },
    {
     "data": {
      "application/vnd.jupyter.widget-view+json": {
       "model_id": "df2e19284baa48778fdede48ebe6b39f",
       "version_major": 2,
       "version_minor": 0
      },
      "text/plain": [
       "HBox(children=(FloatProgress(value=0.0, description='epoch 65', max=699.0, style=ProgressStyle(description_wid…"
      ]
     },
     "metadata": {},
     "output_type": "display_data"
    },
    {
     "name": "stdout",
     "output_type": "stream",
     "text": [
      "\n",
      "Epoch 65: loss 577103.5, emb_loss 577008.7258300781, mf_loss 95.05572805553675\n",
      "Validation loss decreased (580492.312500 --> 577103.500000).  Saving model ...\n"
     ]
    },
    {
     "data": {
      "application/vnd.jupyter.widget-view+json": {
       "model_id": "a8d8a8bc825147d090b006b30db2afe3",
       "version_major": 2,
       "version_minor": 0
      },
      "text/plain": [
       "HBox(children=(FloatProgress(value=0.0, description='epoch 66', max=699.0, style=ProgressStyle(description_wid…"
      ]
     },
     "metadata": {},
     "output_type": "display_data"
    },
    {
     "name": "stdout",
     "output_type": "stream",
     "text": [
      "\n",
      "Epoch 66: loss 573794.875, emb_loss 573700.5881347656, mf_loss 94.83105733245611\n",
      "Validation loss decreased (577103.500000 --> 573794.875000).  Saving model ...\n"
     ]
    },
    {
     "data": {
      "application/vnd.jupyter.widget-view+json": {
       "model_id": "7685763aa9e1427e86cc908bc4d4074e",
       "version_major": 2,
       "version_minor": 0
      },
      "text/plain": [
       "HBox(children=(FloatProgress(value=0.0, description='epoch 67', max=699.0, style=ProgressStyle(description_wid…"
      ]
     },
     "metadata": {},
     "output_type": "display_data"
    },
    {
     "name": "stdout",
     "output_type": "stream",
     "text": [
      "\n",
      "Epoch 67: loss 570442.5625, emb_loss 570348.6196289062, mf_loss 93.94619838893414\n",
      "Validation loss decreased (573794.875000 --> 570442.562500).  Saving model ...\n"
     ]
    },
    {
     "data": {
      "application/vnd.jupyter.widget-view+json": {
       "model_id": "06d251ed9d934da69d0b1350f90ee735",
       "version_major": 2,
       "version_minor": 0
      },
      "text/plain": [
       "HBox(children=(FloatProgress(value=0.0, description='epoch 68', max=699.0, style=ProgressStyle(description_wid…"
      ]
     },
     "metadata": {},
     "output_type": "display_data"
    },
    {
     "name": "stdout",
     "output_type": "stream",
     "text": [
      "\n",
      "Epoch 68: loss 566895.375, emb_loss 566802.2753295898, mf_loss 93.82443726807833\n",
      "Validation loss decreased (570442.562500 --> 566895.375000).  Saving model ...\n"
     ]
    },
    {
     "data": {
      "application/vnd.jupyter.widget-view+json": {
       "model_id": "6b2400cfcaac48519d93cf704a12ea72",
       "version_major": 2,
       "version_minor": 0
      },
      "text/plain": [
       "HBox(children=(FloatProgress(value=0.0, description='epoch 69', max=699.0, style=ProgressStyle(description_wid…"
      ]
     },
     "metadata": {},
     "output_type": "display_data"
    },
    {
     "name": "stdout",
     "output_type": "stream",
     "text": [
      "\n",
      "Epoch 69: loss 563428.875, emb_loss 563335.196472168, mf_loss 93.71890892833471\n",
      "Validation loss decreased (566895.375000 --> 563428.875000).  Saving model ...\n"
     ]
    },
    {
     "data": {
      "application/vnd.jupyter.widget-view+json": {
       "model_id": "f33601ffaf274ba5a9d00b483ae604c2",
       "version_major": 2,
       "version_minor": 0
      },
      "text/plain": [
       "HBox(children=(FloatProgress(value=0.0, description='epoch 70', max=699.0, style=ProgressStyle(description_wid…"
      ]
     },
     "metadata": {},
     "output_type": "display_data"
    },
    {
     "name": "stdout",
     "output_type": "stream",
     "text": [
      "\n",
      "Epoch 70: loss 560167.5, emb_loss 560075.034362793, mf_loss 93.01599778234959\n",
      "Validation loss decreased (563428.875000 --> 560167.500000).  Saving model ...\n"
     ]
    },
    {
     "data": {
      "application/vnd.jupyter.widget-view+json": {
       "model_id": "6b3b1e30da014f46865087a80d10de85",
       "version_major": 2,
       "version_minor": 0
      },
      "text/plain": [
       "HBox(children=(FloatProgress(value=0.0, description='epoch 71', max=699.0, style=ProgressStyle(description_wid…"
      ]
     },
     "metadata": {},
     "output_type": "display_data"
    },
    {
     "name": "stdout",
     "output_type": "stream",
     "text": [
      "\n",
      "Epoch 71: loss 557047.25, emb_loss 556954.5906982422, mf_loss 93.02646706998348\n",
      "Validation loss decreased (560167.500000 --> 557047.250000).  Saving model ...\n"
     ]
    },
    {
     "data": {
      "application/vnd.jupyter.widget-view+json": {
       "model_id": "f267bb459f0044b49ccf104caee5c112",
       "version_major": 2,
       "version_minor": 0
      },
      "text/plain": [
       "HBox(children=(FloatProgress(value=0.0, description='epoch 72', max=699.0, style=ProgressStyle(description_wid…"
      ]
     },
     "metadata": {},
     "output_type": "display_data"
    },
    {
     "name": "stdout",
     "output_type": "stream",
     "text": [
      "\n",
      "Epoch 72: loss 553979.625, emb_loss 553887.4116210938, mf_loss 92.39249248057604\n",
      "Validation loss decreased (557047.250000 --> 553979.625000).  Saving model ...\n"
     ]
    },
    {
     "data": {
      "application/vnd.jupyter.widget-view+json": {
       "model_id": "12f3fec0ceee409c91b395cc0064038e",
       "version_major": 2,
       "version_minor": 0
      },
      "text/plain": [
       "HBox(children=(FloatProgress(value=0.0, description='epoch 73', max=699.0, style=ProgressStyle(description_wid…"
      ]
     },
     "metadata": {},
     "output_type": "display_data"
    },
    {
     "name": "stdout",
     "output_type": "stream",
     "text": [
      "\n",
      "Epoch 73: loss 550401.25, emb_loss 550309.6757202148, mf_loss 92.10663506388664\n",
      "Validation loss decreased (553979.625000 --> 550401.250000).  Saving model ...\n"
     ]
    },
    {
     "data": {
      "application/vnd.jupyter.widget-view+json": {
       "model_id": "4d8fafcfc26a4710aec56d3b8c3e7a5a",
       "version_major": 2,
       "version_minor": 0
      },
      "text/plain": [
       "HBox(children=(FloatProgress(value=0.0, description='epoch 74', max=699.0, style=ProgressStyle(description_wid…"
      ]
     },
     "metadata": {},
     "output_type": "display_data"
    },
    {
     "name": "stdout",
     "output_type": "stream",
     "text": [
      "\n",
      "Epoch 74: loss 547319.0625, emb_loss 547227.4029541016, mf_loss 91.49680667370558\n",
      "Validation loss decreased (550401.250000 --> 547319.062500).  Saving model ...\n"
     ]
    },
    {
     "data": {
      "application/vnd.jupyter.widget-view+json": {
       "model_id": "f4df75034ccb44458beea2502c5ae7f6",
       "version_major": 2,
       "version_minor": 0
      },
      "text/plain": [
       "HBox(children=(FloatProgress(value=0.0, description='epoch 75', max=699.0, style=ProgressStyle(description_wid…"
      ]
     },
     "metadata": {},
     "output_type": "display_data"
    },
    {
     "name": "stdout",
     "output_type": "stream",
     "text": [
      "\n",
      "Epoch 75: loss 543820.625, emb_loss 543728.8380126953, mf_loss 92.20151393860579\n",
      "Validation loss decreased (547319.062500 --> 543820.625000).  Saving model ...\n"
     ]
    },
    {
     "data": {
      "application/vnd.jupyter.widget-view+json": {
       "model_id": "cbf90c277be3452c9f50f9a7e6fa0ba8",
       "version_major": 2,
       "version_minor": 0
      },
      "text/plain": [
       "HBox(children=(FloatProgress(value=0.0, description='epoch 76', max=699.0, style=ProgressStyle(description_wid…"
      ]
     },
     "metadata": {},
     "output_type": "display_data"
    },
    {
     "name": "stdout",
     "output_type": "stream",
     "text": [
      "\n",
      "Epoch 76: loss 540460.4375, emb_loss 540368.4392089844, mf_loss 92.12416001409292\n",
      "Validation loss decreased (543820.625000 --> 540460.437500).  Saving model ...\n"
     ]
    },
    {
     "data": {
      "application/vnd.jupyter.widget-view+json": {
       "model_id": "be4e6174abb74b769b8bbdc5ff1fe2c6",
       "version_major": 2,
       "version_minor": 0
      },
      "text/plain": [
       "HBox(children=(FloatProgress(value=0.0, description='epoch 77', max=699.0, style=ProgressStyle(description_wid…"
      ]
     },
     "metadata": {},
     "output_type": "display_data"
    },
    {
     "name": "stdout",
     "output_type": "stream",
     "text": [
      "\n",
      "Epoch 77: loss 537234.125, emb_loss 537142.6264648438, mf_loss 92.06200661510229\n",
      "Validation loss decreased (540460.437500 --> 537234.125000).  Saving model ...\n"
     ]
    },
    {
     "data": {
      "application/vnd.jupyter.widget-view+json": {
       "model_id": "c2363bed2f4045b6928e8ab8d540d706",
       "version_major": 2,
       "version_minor": 0
      },
      "text/plain": [
       "HBox(children=(FloatProgress(value=0.0, description='epoch 78', max=699.0, style=ProgressStyle(description_wid…"
      ]
     },
     "metadata": {},
     "output_type": "display_data"
    },
    {
     "name": "stdout",
     "output_type": "stream",
     "text": [
      "\n",
      "Epoch 78: loss 534365.8125, emb_loss 534274.3736572266, mf_loss 92.17637027055025\n",
      "Validation loss decreased (537234.125000 --> 534365.812500).  Saving model ...\n"
     ]
    },
    {
     "data": {
      "application/vnd.jupyter.widget-view+json": {
       "model_id": "ae2fa00bb3ae4cf3b9c1072b5efb3380",
       "version_major": 2,
       "version_minor": 0
      },
      "text/plain": [
       "HBox(children=(FloatProgress(value=0.0, description='epoch 79', max=699.0, style=ProgressStyle(description_wid…"
      ]
     },
     "metadata": {},
     "output_type": "display_data"
    },
    {
     "name": "stdout",
     "output_type": "stream",
     "text": [
      "\n",
      "Epoch 79: loss 531313.125, emb_loss 531221.764465332, mf_loss 91.6223379150033\n",
      "Validation loss decreased (534365.812500 --> 531313.125000).  Saving model ...\n"
     ]
    },
    {
     "data": {
      "application/vnd.jupyter.widget-view+json": {
       "model_id": "3f60caa37cc84855951411b43290e74d",
       "version_major": 2,
       "version_minor": 0
      },
      "text/plain": [
       "HBox(children=(FloatProgress(value=0.0, description='epoch 80', max=699.0, style=ProgressStyle(description_wid…"
      ]
     },
     "metadata": {},
     "output_type": "display_data"
    },
    {
     "name": "stdout",
     "output_type": "stream",
     "text": [
      "\n",
      "Epoch 80: loss 528214.8125, emb_loss 528123.088684082, mf_loss 91.62867486476898\n",
      "Validation loss decreased (531313.125000 --> 528214.812500).  Saving model ...\n"
     ]
    },
    {
     "data": {
      "application/vnd.jupyter.widget-view+json": {
       "model_id": "ac670e3877294eb19f726cf119f8ee3d",
       "version_major": 2,
       "version_minor": 0
      },
      "text/plain": [
       "HBox(children=(FloatProgress(value=0.0, description='epoch 81', max=699.0, style=ProgressStyle(description_wid…"
      ]
     },
     "metadata": {},
     "output_type": "display_data"
    },
    {
     "name": "stdout",
     "output_type": "stream",
     "text": [
      "\n",
      "Epoch 81: loss 524856.875, emb_loss 524765.3580932617, mf_loss 91.92420379072428\n",
      "Validation loss decreased (528214.812500 --> 524856.875000).  Saving model ...\n"
     ]
    },
    {
     "data": {
      "application/vnd.jupyter.widget-view+json": {
       "model_id": "00f2ee5429674ec7a992064cd85eb975",
       "version_major": 2,
       "version_minor": 0
      },
      "text/plain": [
       "HBox(children=(FloatProgress(value=0.0, description='epoch 82', max=699.0, style=ProgressStyle(description_wid…"
      ]
     },
     "metadata": {},
     "output_type": "display_data"
    },
    {
     "name": "stdout",
     "output_type": "stream",
     "text": [
      "\n",
      "Epoch 82: loss 521672.34375, emb_loss 521580.60162353516, mf_loss 91.9272555783391\n",
      "Validation loss decreased (524856.875000 --> 521672.343750).  Saving model ...\n"
     ]
    },
    {
     "data": {
      "application/vnd.jupyter.widget-view+json": {
       "model_id": "12da87fcc81b4e84bdf093c22e702e57",
       "version_major": 2,
       "version_minor": 0
      },
      "text/plain": [
       "HBox(children=(FloatProgress(value=0.0, description='epoch 83', max=699.0, style=ProgressStyle(description_wid…"
      ]
     },
     "metadata": {},
     "output_type": "display_data"
    },
    {
     "name": "stdout",
     "output_type": "stream",
     "text": [
      "\n",
      "Epoch 83: loss 518415.875, emb_loss 518324.15686035156, mf_loss 92.32033032178879\n",
      "Validation loss decreased (521672.343750 --> 518415.875000).  Saving model ...\n"
     ]
    },
    {
     "data": {
      "application/vnd.jupyter.widget-view+json": {
       "model_id": "08fb0c0c0bdb4f018b25950aadafaadc",
       "version_major": 2,
       "version_minor": 0
      },
      "text/plain": [
       "HBox(children=(FloatProgress(value=0.0, description='epoch 84', max=699.0, style=ProgressStyle(description_wid…"
      ]
     },
     "metadata": {},
     "output_type": "display_data"
    },
    {
     "name": "stdout",
     "output_type": "stream",
     "text": [
      "\n",
      "Epoch 84: loss 515194.5625, emb_loss 515102.7015991211, mf_loss 92.25525040179491\n",
      "Validation loss decreased (518415.875000 --> 515194.562500).  Saving model ...\n"
     ]
    },
    {
     "data": {
      "application/vnd.jupyter.widget-view+json": {
       "model_id": "bfd202084de14ea78153f609122991cb",
       "version_major": 2,
       "version_minor": 0
      },
      "text/plain": [
       "HBox(children=(FloatProgress(value=0.0, description='epoch 85', max=699.0, style=ProgressStyle(description_wid…"
      ]
     },
     "metadata": {},
     "output_type": "display_data"
    },
    {
     "name": "stdout",
     "output_type": "stream",
     "text": [
      "\n",
      "Epoch 85: loss 512182.71875, emb_loss 512090.96478271484, mf_loss 92.350401699543\n",
      "Validation loss decreased (515194.562500 --> 512182.718750).  Saving model ...\n"
     ]
    },
    {
     "data": {
      "application/vnd.jupyter.widget-view+json": {
       "model_id": "e84bf07016c14367959bda8f52f1a30b",
       "version_major": 2,
       "version_minor": 0
      },
      "text/plain": [
       "HBox(children=(FloatProgress(value=0.0, description='epoch 86', max=699.0, style=ProgressStyle(description_wid…"
      ]
     },
     "metadata": {},
     "output_type": "display_data"
    },
    {
     "name": "stdout",
     "output_type": "stream",
     "text": [
      "\n",
      "Epoch 86: loss 509385.84375, emb_loss 509294.06494140625, mf_loss 92.43704711645842\n",
      "Validation loss decreased (512182.718750 --> 509385.843750).  Saving model ...\n"
     ]
    },
    {
     "data": {
      "application/vnd.jupyter.widget-view+json": {
       "model_id": "bf4506d13f8842f0b04bd4830baa18ff",
       "version_major": 2,
       "version_minor": 0
      },
      "text/plain": [
       "HBox(children=(FloatProgress(value=0.0, description='epoch 87', max=699.0, style=ProgressStyle(description_wid…"
      ]
     },
     "metadata": {},
     "output_type": "display_data"
    },
    {
     "name": "stdout",
     "output_type": "stream",
     "text": [
      "\n",
      "Epoch 87: loss 505759.03125, emb_loss 505667.1159057617, mf_loss 92.1023486405611\n",
      "Validation loss decreased (509385.843750 --> 505759.031250).  Saving model ...\n"
     ]
    },
    {
     "data": {
      "application/vnd.jupyter.widget-view+json": {
       "model_id": "2d243cdbe1b14714a0c3eebddd7b407e",
       "version_major": 2,
       "version_minor": 0
      },
      "text/plain": [
       "HBox(children=(FloatProgress(value=0.0, description='epoch 88', max=699.0, style=ProgressStyle(description_wid…"
      ]
     },
     "metadata": {},
     "output_type": "display_data"
    },
    {
     "name": "stdout",
     "output_type": "stream",
     "text": [
      "\n",
      "Epoch 88: loss 503010.46875, emb_loss 502918.22814941406, mf_loss 92.45577243715525\n",
      "Validation loss decreased (505759.031250 --> 503010.468750).  Saving model ...\n"
     ]
    },
    {
     "data": {
      "application/vnd.jupyter.widget-view+json": {
       "model_id": "601c0b9f99b54c2c86606697cfd13d4d",
       "version_major": 2,
       "version_minor": 0
      },
      "text/plain": [
       "HBox(children=(FloatProgress(value=0.0, description='epoch 89', max=699.0, style=ProgressStyle(description_wid…"
      ]
     },
     "metadata": {},
     "output_type": "display_data"
    },
    {
     "name": "stdout",
     "output_type": "stream",
     "text": [
      "\n",
      "Epoch 89: loss 500017.3125, emb_loss 499925.48834228516, mf_loss 92.66833896189928\n",
      "Validation loss decreased (503010.468750 --> 500017.312500).  Saving model ...\n"
     ]
    },
    {
     "data": {
      "application/vnd.jupyter.widget-view+json": {
       "model_id": "f6865fa48dfd4046b7cb6fa37fb4bf7c",
       "version_major": 2,
       "version_minor": 0
      },
      "text/plain": [
       "HBox(children=(FloatProgress(value=0.0, description='epoch 90', max=699.0, style=ProgressStyle(description_wid…"
      ]
     },
     "metadata": {},
     "output_type": "display_data"
    },
    {
     "name": "stdout",
     "output_type": "stream",
     "text": [
      "\n",
      "Epoch 90: loss 497062.6875, emb_loss 496970.5092163086, mf_loss 92.73814066499472\n",
      "Validation loss decreased (500017.312500 --> 497062.687500).  Saving model ...\n"
     ]
    },
    {
     "data": {
      "application/vnd.jupyter.widget-view+json": {
       "model_id": "34c99344a02f4fea82fcee2e1005a820",
       "version_major": 2,
       "version_minor": 0
      },
      "text/plain": [
       "HBox(children=(FloatProgress(value=0.0, description='epoch 91', max=699.0, style=ProgressStyle(description_wid…"
      ]
     },
     "metadata": {},
     "output_type": "display_data"
    },
    {
     "name": "stdout",
     "output_type": "stream",
     "text": [
      "\n",
      "Epoch 91: loss 494226.0625, emb_loss 494133.94567871094, mf_loss 93.03827372938395\n",
      "Validation loss decreased (497062.687500 --> 494226.062500).  Saving model ...\n"
     ]
    },
    {
     "data": {
      "application/vnd.jupyter.widget-view+json": {
       "model_id": "04f0672a04c946bfb9c5bfb200cae0c5",
       "version_major": 2,
       "version_minor": 0
      },
      "text/plain": [
       "HBox(children=(FloatProgress(value=0.0, description='epoch 92', max=699.0, style=ProgressStyle(description_wid…"
      ]
     },
     "metadata": {},
     "output_type": "display_data"
    },
    {
     "name": "stdout",
     "output_type": "stream",
     "text": [
      "\n",
      "Epoch 92: loss 491450.21875, emb_loss 491357.4398803711, mf_loss 93.44123419374228\n",
      "Validation loss decreased (494226.062500 --> 491450.218750).  Saving model ...\n"
     ]
    },
    {
     "data": {
      "application/vnd.jupyter.widget-view+json": {
       "model_id": "8fe48e51aa14496da7d2d018006aa630",
       "version_major": 2,
       "version_minor": 0
      },
      "text/plain": [
       "HBox(children=(FloatProgress(value=0.0, description='epoch 93', max=699.0, style=ProgressStyle(description_wid…"
      ]
     },
     "metadata": {},
     "output_type": "display_data"
    },
    {
     "name": "stdout",
     "output_type": "stream",
     "text": [
      "\n",
      "Epoch 93: loss 488164.78125, emb_loss 488071.7536010742, mf_loss 93.04841221123934\n",
      "Validation loss decreased (491450.218750 --> 488164.781250).  Saving model ...\n"
     ]
    },
    {
     "data": {
      "application/vnd.jupyter.widget-view+json": {
       "model_id": "1dd4cb38163f4a0c89a9723f05755a8e",
       "version_major": 2,
       "version_minor": 0
      },
      "text/plain": [
       "HBox(children=(FloatProgress(value=0.0, description='epoch 94', max=699.0, style=ProgressStyle(description_wid…"
      ]
     },
     "metadata": {},
     "output_type": "display_data"
    },
    {
     "name": "stdout",
     "output_type": "stream",
     "text": [
      "\n",
      "Epoch 94: loss 485052.5625, emb_loss 484959.2216796875, mf_loss 93.69028762727976\n",
      "Validation loss decreased (488164.781250 --> 485052.562500).  Saving model ...\n"
     ]
    },
    {
     "data": {
      "application/vnd.jupyter.widget-view+json": {
       "model_id": "547e060659674cc7ad45531a4c45b470",
       "version_major": 2,
       "version_minor": 0
      },
      "text/plain": [
       "HBox(children=(FloatProgress(value=0.0, description='epoch 95', max=699.0, style=ProgressStyle(description_wid…"
      ]
     },
     "metadata": {},
     "output_type": "display_data"
    },
    {
     "name": "stdout",
     "output_type": "stream",
     "text": [
      "\n",
      "Epoch 95: loss 481936.46875, emb_loss 481843.43493652344, mf_loss 93.83777799457312\n",
      "Validation loss decreased (485052.562500 --> 481936.468750).  Saving model ...\n"
     ]
    },
    {
     "data": {
      "application/vnd.jupyter.widget-view+json": {
       "model_id": "a51a23c39ec1445d859557e9db72d609",
       "version_major": 2,
       "version_minor": 0
      },
      "text/plain": [
       "HBox(children=(FloatProgress(value=0.0, description='epoch 96', max=699.0, style=ProgressStyle(description_wid…"
      ]
     },
     "metadata": {},
     "output_type": "display_data"
    },
    {
     "name": "stdout",
     "output_type": "stream",
     "text": [
      "\n",
      "Epoch 96: loss 479148.5, emb_loss 479054.5803222656, mf_loss 94.49693897366524\n",
      "Validation loss decreased (481936.468750 --> 479148.500000).  Saving model ...\n"
     ]
    },
    {
     "data": {
      "application/vnd.jupyter.widget-view+json": {
       "model_id": "01b61b4a241246b2bebdcea12e8cc940",
       "version_major": 2,
       "version_minor": 0
      },
      "text/plain": [
       "HBox(children=(FloatProgress(value=0.0, description='epoch 97', max=699.0, style=ProgressStyle(description_wid…"
      ]
     },
     "metadata": {},
     "output_type": "display_data"
    },
    {
     "name": "stdout",
     "output_type": "stream",
     "text": [
      "\n",
      "Epoch 97: loss 476052.84375, emb_loss 475959.4558105469, mf_loss 93.86234247684479\n",
      "Validation loss decreased (479148.500000 --> 476052.843750).  Saving model ...\n"
     ]
    },
    {
     "data": {
      "application/vnd.jupyter.widget-view+json": {
       "model_id": "d71a630aa6ad4320aa674767e3ecdf3b",
       "version_major": 2,
       "version_minor": 0
      },
      "text/plain": [
       "HBox(children=(FloatProgress(value=0.0, description='epoch 98', max=699.0, style=ProgressStyle(description_wid…"
      ]
     },
     "metadata": {},
     "output_type": "display_data"
    },
    {
     "name": "stdout",
     "output_type": "stream",
     "text": [
      "\n",
      "Epoch 98: loss 473545.90625, emb_loss 473451.48150634766, mf_loss 94.9851648285985\n",
      "Validation loss decreased (476052.843750 --> 473545.906250).  Saving model ...\n"
     ]
    },
    {
     "data": {
      "application/vnd.jupyter.widget-view+json": {
       "model_id": "75bf1fb2aa214b5192ff4b8efddd23ca",
       "version_major": 2,
       "version_minor": 0
      },
      "text/plain": [
       "HBox(children=(FloatProgress(value=0.0, description='epoch 99', max=699.0, style=ProgressStyle(description_wid…"
      ]
     },
     "metadata": {},
     "output_type": "display_data"
    },
    {
     "name": "stdout",
     "output_type": "stream",
     "text": [
      "\n",
      "Epoch 99: loss 470501.625, emb_loss 470406.43029785156, mf_loss 95.10338877886534\n",
      "Validation loss decreased (473545.906250 --> 470501.625000).  Saving model ...\n"
     ]
    },
    {
     "data": {
      "application/vnd.jupyter.widget-view+json": {
       "model_id": "3e425b2caa2647558b5304162c119934",
       "version_major": 2,
       "version_minor": 0
      },
      "text/plain": [
       "HBox(children=(FloatProgress(value=0.0, description='epoch 100', max=699.0, style=ProgressStyle(description_wi…"
      ]
     },
     "metadata": {},
     "output_type": "display_data"
    },
    {
     "name": "stdout",
     "output_type": "stream",
     "text": [
      "\n",
      "Epoch 100: loss 467614.6875, emb_loss 467520.5401611328, mf_loss 95.08026385307312\n",
      "Validation loss decreased (470501.625000 --> 467614.687500).  Saving model ...\n"
     ]
    },
    {
     "data": {
      "application/vnd.jupyter.widget-view+json": {
       "model_id": "1ca21b7930cd4648816bc1d0cf7efdea",
       "version_major": 2,
       "version_minor": 0
      },
      "text/plain": [
       "HBox(children=(FloatProgress(value=0.0, description='epoch 101', max=699.0, style=ProgressStyle(description_wi…"
      ]
     },
     "metadata": {},
     "output_type": "display_data"
    },
    {
     "name": "stdout",
     "output_type": "stream",
     "text": [
      "\n",
      "Epoch 101: loss 464880.1875, emb_loss 464784.4030151367, mf_loss 95.93360564857721\n",
      "Validation loss decreased (467614.687500 --> 464880.187500).  Saving model ...\n"
     ]
    },
    {
     "data": {
      "application/vnd.jupyter.widget-view+json": {
       "model_id": "dad4c21ddc8f458ca65572582c5b3404",
       "version_major": 2,
       "version_minor": 0
      },
      "text/plain": [
       "HBox(children=(FloatProgress(value=0.0, description='epoch 102', max=699.0, style=ProgressStyle(description_wi…"
      ]
     },
     "metadata": {},
     "output_type": "display_data"
    },
    {
     "name": "stdout",
     "output_type": "stream",
     "text": [
      "\n",
      "Epoch 102: loss 461965.40625, emb_loss 461870.4924926758, mf_loss 95.46892634034157\n",
      "Validation loss decreased (464880.187500 --> 461965.406250).  Saving model ...\n"
     ]
    },
    {
     "data": {
      "application/vnd.jupyter.widget-view+json": {
       "model_id": "2608b3d6ee904ea3afd3b56f59011ea2",
       "version_major": 2,
       "version_minor": 0
      },
      "text/plain": [
       "HBox(children=(FloatProgress(value=0.0, description='epoch 103', max=699.0, style=ProgressStyle(description_wi…"
      ]
     },
     "metadata": {},
     "output_type": "display_data"
    },
    {
     "name": "stdout",
     "output_type": "stream",
     "text": [
      "\n",
      "Epoch 103: loss 459149.40625, emb_loss 459054.0726928711, mf_loss 95.76163801550865\n",
      "Validation loss decreased (461965.406250 --> 459149.406250).  Saving model ...\n"
     ]
    },
    {
     "data": {
      "application/vnd.jupyter.widget-view+json": {
       "model_id": "b05cfb24a31747c2a98b54165cbd4d44",
       "version_major": 2,
       "version_minor": 0
      },
      "text/plain": [
       "HBox(children=(FloatProgress(value=0.0, description='epoch 104', max=699.0, style=ProgressStyle(description_wi…"
      ]
     },
     "metadata": {},
     "output_type": "display_data"
    },
    {
     "name": "stdout",
     "output_type": "stream",
     "text": [
      "\n",
      "Epoch 104: loss 456369.15625, emb_loss 456273.2984008789, mf_loss 96.24114889651537\n",
      "Validation loss decreased (459149.406250 --> 456369.156250).  Saving model ...\n"
     ]
    },
    {
     "data": {
      "application/vnd.jupyter.widget-view+json": {
       "model_id": "eb33d40b4b384a6ab9bb4206c65b3f6f",
       "version_major": 2,
       "version_minor": 0
      },
      "text/plain": [
       "HBox(children=(FloatProgress(value=0.0, description='epoch 105', max=699.0, style=ProgressStyle(description_wi…"
      ]
     },
     "metadata": {},
     "output_type": "display_data"
    },
    {
     "name": "stdout",
     "output_type": "stream",
     "text": [
      "\n",
      "Epoch 105: loss 453633.90625, emb_loss 453537.53479003906, mf_loss 96.71815948188305\n",
      "Validation loss decreased (456369.156250 --> 453633.906250).  Saving model ...\n"
     ]
    },
    {
     "data": {
      "application/vnd.jupyter.widget-view+json": {
       "model_id": "5f0d3b26639044fca1db449079f5d42f",
       "version_major": 2,
       "version_minor": 0
      },
      "text/plain": [
       "HBox(children=(FloatProgress(value=0.0, description='epoch 106', max=699.0, style=ProgressStyle(description_wi…"
      ]
     },
     "metadata": {},
     "output_type": "display_data"
    },
    {
     "name": "stdout",
     "output_type": "stream",
     "text": [
      "\n",
      "Epoch 106: loss 450583.03125, emb_loss 450487.00634765625, mf_loss 96.44144118577242\n",
      "Validation loss decreased (453633.906250 --> 450583.031250).  Saving model ...\n"
     ]
    },
    {
     "data": {
      "application/vnd.jupyter.widget-view+json": {
       "model_id": "3541f6b445b24126a545145fe53d02d9",
       "version_major": 2,
       "version_minor": 0
      },
      "text/plain": [
       "HBox(children=(FloatProgress(value=0.0, description='epoch 107', max=699.0, style=ProgressStyle(description_wi…"
      ]
     },
     "metadata": {},
     "output_type": "display_data"
    },
    {
     "name": "stdout",
     "output_type": "stream",
     "text": [
      "\n",
      "Epoch 107: loss 447919.21875, emb_loss 447822.91876220703, mf_loss 96.74627837538719\n",
      "Validation loss decreased (450583.031250 --> 447919.218750).  Saving model ...\n"
     ]
    },
    {
     "data": {
      "application/vnd.jupyter.widget-view+json": {
       "model_id": "42c26d2ad5c24f128a478496b769b010",
       "version_major": 2,
       "version_minor": 0
      },
      "text/plain": [
       "HBox(children=(FloatProgress(value=0.0, description='epoch 108', max=699.0, style=ProgressStyle(description_wi…"
      ]
     },
     "metadata": {},
     "output_type": "display_data"
    },
    {
     "name": "stdout",
     "output_type": "stream",
     "text": [
      "\n",
      "Epoch 108: loss 445141.34375, emb_loss 445044.18395996094, mf_loss 97.21045272052288\n",
      "Validation loss decreased (447919.218750 --> 445141.343750).  Saving model ...\n"
     ]
    },
    {
     "data": {
      "application/vnd.jupyter.widget-view+json": {
       "model_id": "bd796b3f859c4875bf3f9e5c810f5676",
       "version_major": 2,
       "version_minor": 0
      },
      "text/plain": [
       "HBox(children=(FloatProgress(value=0.0, description='epoch 109', max=699.0, style=ProgressStyle(description_wi…"
      ]
     },
     "metadata": {},
     "output_type": "display_data"
    },
    {
     "name": "stdout",
     "output_type": "stream",
     "text": [
      "\n",
      "Epoch 109: loss 442457.5625, emb_loss 442360.18072509766, mf_loss 97.55436722189188\n",
      "Validation loss decreased (445141.343750 --> 442457.562500).  Saving model ...\n"
     ]
    },
    {
     "data": {
      "application/vnd.jupyter.widget-view+json": {
       "model_id": "e8533619de5c40e9bfebbdf63cd7f704",
       "version_major": 2,
       "version_minor": 0
      },
      "text/plain": [
       "HBox(children=(FloatProgress(value=0.0, description='epoch 110', max=699.0, style=ProgressStyle(description_wi…"
      ]
     },
     "metadata": {},
     "output_type": "display_data"
    },
    {
     "name": "stdout",
     "output_type": "stream",
     "text": [
      "\n",
      "Epoch 110: loss 439527.5, emb_loss 439430.0255126953, mf_loss 97.71883483231068\n",
      "Validation loss decreased (442457.562500 --> 439527.500000).  Saving model ...\n"
     ]
    },
    {
     "data": {
      "application/vnd.jupyter.widget-view+json": {
       "model_id": "14877d80b3124a63ada2a9b4b28886e8",
       "version_major": 2,
       "version_minor": 0
      },
      "text/plain": [
       "HBox(children=(FloatProgress(value=0.0, description='epoch 111', max=699.0, style=ProgressStyle(description_wi…"
      ]
     },
     "metadata": {},
     "output_type": "display_data"
    },
    {
     "name": "stdout",
     "output_type": "stream",
     "text": [
      "\n",
      "Epoch 111: loss 437066.625, emb_loss 436969.0107421875, mf_loss 97.80395598709583\n",
      "Validation loss decreased (439527.500000 --> 437066.625000).  Saving model ...\n"
     ]
    },
    {
     "data": {
      "application/vnd.jupyter.widget-view+json": {
       "model_id": "7094701bfdab4655b50eeb93bfcc2d58",
       "version_major": 2,
       "version_minor": 0
      },
      "text/plain": [
       "HBox(children=(FloatProgress(value=0.0, description='epoch 112', max=699.0, style=ProgressStyle(description_wi…"
      ]
     },
     "metadata": {},
     "output_type": "display_data"
    },
    {
     "name": "stdout",
     "output_type": "stream",
     "text": [
      "\n",
      "Epoch 112: loss 434463.78125, emb_loss 434365.67248535156, mf_loss 98.26862192898989\n",
      "Validation loss decreased (437066.625000 --> 434463.781250).  Saving model ...\n"
     ]
    },
    {
     "data": {
      "application/vnd.jupyter.widget-view+json": {
       "model_id": "360777f916014a58a76b2178cfad2266",
       "version_major": 2,
       "version_minor": 0
      },
      "text/plain": [
       "HBox(children=(FloatProgress(value=0.0, description='epoch 113', max=699.0, style=ProgressStyle(description_wi…"
      ]
     },
     "metadata": {},
     "output_type": "display_data"
    },
    {
     "name": "stdout",
     "output_type": "stream",
     "text": [
      "\n",
      "Epoch 113: loss 431776.8125, emb_loss 431678.3220214844, mf_loss 98.76367642730474\n",
      "Validation loss decreased (434463.781250 --> 431776.812500).  Saving model ...\n"
     ]
    },
    {
     "data": {
      "application/vnd.jupyter.widget-view+json": {
       "model_id": "ba9d793774b44510bbcda7be3dedc608",
       "version_major": 2,
       "version_minor": 0
      },
      "text/plain": [
       "HBox(children=(FloatProgress(value=0.0, description='epoch 114', max=699.0, style=ProgressStyle(description_wi…"
      ]
     },
     "metadata": {},
     "output_type": "display_data"
    },
    {
     "name": "stdout",
     "output_type": "stream",
     "text": [
      "\n",
      "Epoch 114: loss 429108.375, emb_loss 429009.7556152344, mf_loss 98.67440033704042\n",
      "Validation loss decreased (431776.812500 --> 429108.375000).  Saving model ...\n"
     ]
    },
    {
     "data": {
      "application/vnd.jupyter.widget-view+json": {
       "model_id": "0e3e8288cb65478a8019d056b7bef951",
       "version_major": 2,
       "version_minor": 0
      },
      "text/plain": [
       "HBox(children=(FloatProgress(value=0.0, description='epoch 115', max=699.0, style=ProgressStyle(description_wi…"
      ]
     },
     "metadata": {},
     "output_type": "display_data"
    },
    {
     "name": "stdout",
     "output_type": "stream",
     "text": [
      "\n",
      "Epoch 115: loss 426604.4375, emb_loss 426504.8579711914, mf_loss 99.39328140765429\n",
      "Validation loss decreased (429108.375000 --> 426604.437500).  Saving model ...\n"
     ]
    },
    {
     "data": {
      "application/vnd.jupyter.widget-view+json": {
       "model_id": "e150d142b16d4997b952173b068a0b7b",
       "version_major": 2,
       "version_minor": 0
      },
      "text/plain": [
       "HBox(children=(FloatProgress(value=0.0, description='epoch 116', max=699.0, style=ProgressStyle(description_wi…"
      ]
     },
     "metadata": {},
     "output_type": "display_data"
    },
    {
     "name": "stdout",
     "output_type": "stream",
     "text": [
      "\n",
      "Epoch 116: loss 423672.9375, emb_loss 423573.6923828125, mf_loss 99.59902768582106\n",
      "Validation loss decreased (426604.437500 --> 423672.937500).  Saving model ...\n"
     ]
    },
    {
     "data": {
      "application/vnd.jupyter.widget-view+json": {
       "model_id": "f3c0ab630bc942339956fbd9856ebb13",
       "version_major": 2,
       "version_minor": 0
      },
      "text/plain": [
       "HBox(children=(FloatProgress(value=0.0, description='epoch 117', max=699.0, style=ProgressStyle(description_wi…"
      ]
     },
     "metadata": {},
     "output_type": "display_data"
    },
    {
     "name": "stdout",
     "output_type": "stream",
     "text": [
      "\n",
      "Epoch 117: loss 420965.9375, emb_loss 420866.494140625, mf_loss 99.44658814370632\n",
      "Validation loss decreased (423672.937500 --> 420965.937500).  Saving model ...\n"
     ]
    },
    {
     "data": {
      "application/vnd.jupyter.widget-view+json": {
       "model_id": "3292b54be5e944ca98bd54fcc86b8aef",
       "version_major": 2,
       "version_minor": 0
      },
      "text/plain": [
       "HBox(children=(FloatProgress(value=0.0, description='epoch 118', max=699.0, style=ProgressStyle(description_wi…"
      ]
     },
     "metadata": {},
     "output_type": "display_data"
    },
    {
     "name": "stdout",
     "output_type": "stream",
     "text": [
      "\n",
      "Epoch 118: loss 418330.25, emb_loss 418229.6834716797, mf_loss 100.1320426389575\n",
      "Validation loss decreased (420965.937500 --> 418330.250000).  Saving model ...\n"
     ]
    },
    {
     "data": {
      "application/vnd.jupyter.widget-view+json": {
       "model_id": "874b6f569461487a8e3e95c6f1a71117",
       "version_major": 2,
       "version_minor": 0
      },
      "text/plain": [
       "HBox(children=(FloatProgress(value=0.0, description='epoch 119', max=699.0, style=ProgressStyle(description_wi…"
      ]
     },
     "metadata": {},
     "output_type": "display_data"
    },
    {
     "name": "stdout",
     "output_type": "stream",
     "text": [
      "\n",
      "Epoch 119: loss 415950.75, emb_loss 415849.55615234375, mf_loss 100.78114499896765\n",
      "Validation loss decreased (418330.250000 --> 415950.750000).  Saving model ...\n"
     ]
    },
    {
     "data": {
      "application/vnd.jupyter.widget-view+json": {
       "model_id": "48adaa646fa54441a85bc01af9fd24b6",
       "version_major": 2,
       "version_minor": 0
      },
      "text/plain": [
       "HBox(children=(FloatProgress(value=0.0, description='epoch 120', max=699.0, style=ProgressStyle(description_wi…"
      ]
     },
     "metadata": {},
     "output_type": "display_data"
    },
    {
     "name": "stdout",
     "output_type": "stream",
     "text": [
      "\n",
      "Epoch 120: loss 413444.21875, emb_loss 413343.20349121094, mf_loss 100.73600956052542\n",
      "Validation loss decreased (415950.750000 --> 413444.218750).  Saving model ...\n"
     ]
    },
    {
     "data": {
      "application/vnd.jupyter.widget-view+json": {
       "model_id": "d7055ba63f69491190c719b5f94805a7",
       "version_major": 2,
       "version_minor": 0
      },
      "text/plain": [
       "HBox(children=(FloatProgress(value=0.0, description='epoch 121', max=699.0, style=ProgressStyle(description_wi…"
      ]
     },
     "metadata": {},
     "output_type": "display_data"
    },
    {
     "name": "stdout",
     "output_type": "stream",
     "text": [
      "\n",
      "Epoch 121: loss 410809.03125, emb_loss 410707.0382080078, mf_loss 101.303477704525\n",
      "Validation loss decreased (413444.218750 --> 410809.031250).  Saving model ...\n"
     ]
    },
    {
     "data": {
      "application/vnd.jupyter.widget-view+json": {
       "model_id": "97e231befea9462baaa293583fe1452c",
       "version_major": 2,
       "version_minor": 0
      },
      "text/plain": [
       "HBox(children=(FloatProgress(value=0.0, description='epoch 122', max=699.0, style=ProgressStyle(description_wi…"
      ]
     },
     "metadata": {},
     "output_type": "display_data"
    },
    {
     "name": "stdout",
     "output_type": "stream",
     "text": [
      "\n",
      "Epoch 122: loss 407983.8125, emb_loss 407881.6233520508, mf_loss 101.71342036873102\n",
      "Validation loss decreased (410809.031250 --> 407983.812500).  Saving model ...\n"
     ]
    },
    {
     "data": {
      "application/vnd.jupyter.widget-view+json": {
       "model_id": "c31f2b52058048b586f2bc3d9ab4d271",
       "version_major": 2,
       "version_minor": 0
      },
      "text/plain": [
       "HBox(children=(FloatProgress(value=0.0, description='epoch 123', max=699.0, style=ProgressStyle(description_wi…"
      ]
     },
     "metadata": {},
     "output_type": "display_data"
    },
    {
     "name": "stdout",
     "output_type": "stream",
     "text": [
      "\n",
      "Epoch 123: loss 405586.09375, emb_loss 405483.57653808594, mf_loss 101.86631140112877\n",
      "Validation loss decreased (407983.812500 --> 405586.093750).  Saving model ...\n"
     ]
    },
    {
     "data": {
      "application/vnd.jupyter.widget-view+json": {
       "model_id": "498db375fd674bc3840914a5949eecd6",
       "version_major": 2,
       "version_minor": 0
      },
      "text/plain": [
       "HBox(children=(FloatProgress(value=0.0, description='epoch 124', max=699.0, style=ProgressStyle(description_wi…"
      ]
     },
     "metadata": {},
     "output_type": "display_data"
    },
    {
     "name": "stdout",
     "output_type": "stream",
     "text": [
      "\n",
      "Epoch 124: loss 402841.40625, emb_loss 402739.47869873047, mf_loss 101.86245558410883\n",
      "Validation loss decreased (405586.093750 --> 402841.406250).  Saving model ...\n"
     ]
    },
    {
     "data": {
      "application/vnd.jupyter.widget-view+json": {
       "model_id": "6039768d715148a188b0b2a81d1aabeb",
       "version_major": 2,
       "version_minor": 0
      },
      "text/plain": [
       "HBox(children=(FloatProgress(value=0.0, description='epoch 125', max=699.0, style=ProgressStyle(description_wi…"
      ]
     },
     "metadata": {},
     "output_type": "display_data"
    },
    {
     "name": "stdout",
     "output_type": "stream",
     "text": [
      "\n",
      "Epoch 125: loss 400395.5, emb_loss 400292.8565673828, mf_loss 102.21334982663393\n",
      "Validation loss decreased (402841.406250 --> 400395.500000).  Saving model ...\n"
     ]
    },
    {
     "data": {
      "application/vnd.jupyter.widget-view+json": {
       "model_id": "78a811aa91294d42a5221f66bbb342bd",
       "version_major": 2,
       "version_minor": 0
      },
      "text/plain": [
       "HBox(children=(FloatProgress(value=0.0, description='epoch 126', max=699.0, style=ProgressStyle(description_wi…"
      ]
     },
     "metadata": {},
     "output_type": "display_data"
    },
    {
     "name": "stdout",
     "output_type": "stream",
     "text": [
      "\n",
      "Epoch 126: loss 398079.25, emb_loss 397976.9497680664, mf_loss 102.47695490717888\n",
      "Validation loss decreased (400395.500000 --> 398079.250000).  Saving model ...\n"
     ]
    },
    {
     "data": {
      "application/vnd.jupyter.widget-view+json": {
       "model_id": "c786de611ba44bd4a6dd5a80c38f9d1d",
       "version_major": 2,
       "version_minor": 0
      },
      "text/plain": [
       "HBox(children=(FloatProgress(value=0.0, description='epoch 127', max=699.0, style=ProgressStyle(description_wi…"
      ]
     },
     "metadata": {},
     "output_type": "display_data"
    },
    {
     "name": "stdout",
     "output_type": "stream",
     "text": [
      "\n",
      "Epoch 127: loss 395635.34375, emb_loss 395532.6407470703, mf_loss 102.32835784554482\n",
      "Validation loss decreased (398079.250000 --> 395635.343750).  Saving model ...\n"
     ]
    },
    {
     "data": {
      "application/vnd.jupyter.widget-view+json": {
       "model_id": "1cb06499ac8747968268168a6285fb07",
       "version_major": 2,
       "version_minor": 0
      },
      "text/plain": [
       "HBox(children=(FloatProgress(value=0.0, description='epoch 128', max=699.0, style=ProgressStyle(description_wi…"
      ]
     },
     "metadata": {},
     "output_type": "display_data"
    },
    {
     "name": "stdout",
     "output_type": "stream",
     "text": [
      "\n",
      "Epoch 128: loss 392933.75, emb_loss 392830.81439208984, mf_loss 102.80433773249388\n",
      "Validation loss decreased (395635.343750 --> 392933.750000).  Saving model ...\n"
     ]
    },
    {
     "data": {
      "application/vnd.jupyter.widget-view+json": {
       "model_id": "8aa1dd200b3344e791c14718be36674b",
       "version_major": 2,
       "version_minor": 0
      },
      "text/plain": [
       "HBox(children=(FloatProgress(value=0.0, description='epoch 129', max=699.0, style=ProgressStyle(description_wi…"
      ]
     },
     "metadata": {},
     "output_type": "display_data"
    },
    {
     "name": "stdout",
     "output_type": "stream",
     "text": [
      "\n",
      "Epoch 129: loss 390487.46875, emb_loss 390383.7237548828, mf_loss 103.404705747962\n",
      "Validation loss decreased (392933.750000 --> 390487.468750).  Saving model ...\n"
     ]
    },
    {
     "data": {
      "application/vnd.jupyter.widget-view+json": {
       "model_id": "04057a50825b4130a3604cb97f7b5519",
       "version_major": 2,
       "version_minor": 0
      },
      "text/plain": [
       "HBox(children=(FloatProgress(value=0.0, description='epoch 130', max=699.0, style=ProgressStyle(description_wi…"
      ]
     },
     "metadata": {},
     "output_type": "display_data"
    },
    {
     "name": "stdout",
     "output_type": "stream",
     "text": [
      "\n",
      "Epoch 130: loss 388064.71875, emb_loss 387960.56561279297, mf_loss 103.60536590963602\n",
      "Validation loss decreased (390487.468750 --> 388064.718750).  Saving model ...\n"
     ]
    },
    {
     "data": {
      "application/vnd.jupyter.widget-view+json": {
       "model_id": "6f4ccddb2eaa44b48fff5d43a35acd26",
       "version_major": 2,
       "version_minor": 0
      },
      "text/plain": [
       "HBox(children=(FloatProgress(value=0.0, description='epoch 131', max=699.0, style=ProgressStyle(description_wi…"
      ]
     },
     "metadata": {},
     "output_type": "display_data"
    },
    {
     "name": "stdout",
     "output_type": "stream",
     "text": [
      "\n",
      "Epoch 131: loss 385845.65625, emb_loss 385741.5118408203, mf_loss 103.66050941497087\n",
      "Validation loss decreased (388064.718750 --> 385845.656250).  Saving model ...\n"
     ]
    },
    {
     "data": {
      "application/vnd.jupyter.widget-view+json": {
       "model_id": "ebc9b20df5e8443fa15dc9e1f29842a4",
       "version_major": 2,
       "version_minor": 0
      },
      "text/plain": [
       "HBox(children=(FloatProgress(value=0.0, description='epoch 132', max=699.0, style=ProgressStyle(description_wi…"
      ]
     },
     "metadata": {},
     "output_type": "display_data"
    },
    {
     "name": "stdout",
     "output_type": "stream",
     "text": [
      "\n",
      "Epoch 132: loss 383163.46875, emb_loss 383059.3087158203, mf_loss 103.75171775370836\n",
      "Validation loss decreased (385845.656250 --> 383163.468750).  Saving model ...\n"
     ]
    },
    {
     "data": {
      "application/vnd.jupyter.widget-view+json": {
       "model_id": "4c9ab0cbe2274183b6d14c45f06edce2",
       "version_major": 2,
       "version_minor": 0
      },
      "text/plain": [
       "HBox(children=(FloatProgress(value=0.0, description='epoch 133', max=699.0, style=ProgressStyle(description_wi…"
      ]
     },
     "metadata": {},
     "output_type": "display_data"
    },
    {
     "name": "stdout",
     "output_type": "stream",
     "text": [
      "\n",
      "Epoch 133: loss 380794.03125, emb_loss 380689.37561035156, mf_loss 104.24957503378391\n",
      "Validation loss decreased (383163.468750 --> 380794.031250).  Saving model ...\n"
     ]
    },
    {
     "data": {
      "application/vnd.jupyter.widget-view+json": {
       "model_id": "0672a114ae054456b4a6e06b5f2256f2",
       "version_major": 2,
       "version_minor": 0
      },
      "text/plain": [
       "HBox(children=(FloatProgress(value=0.0, description='epoch 134', max=699.0, style=ProgressStyle(description_wi…"
      ]
     },
     "metadata": {},
     "output_type": "display_data"
    },
    {
     "name": "stdout",
     "output_type": "stream",
     "text": [
      "\n",
      "Epoch 134: loss 378469.1875, emb_loss 378364.2047729492, mf_loss 104.60909861326218\n",
      "Validation loss decreased (380794.031250 --> 378469.187500).  Saving model ...\n"
     ]
    },
    {
     "data": {
      "application/vnd.jupyter.widget-view+json": {
       "model_id": "3a13c86acea14a0890635f6ce599996f",
       "version_major": 2,
       "version_minor": 0
      },
      "text/plain": [
       "HBox(children=(FloatProgress(value=0.0, description='epoch 135', max=699.0, style=ProgressStyle(description_wi…"
      ]
     },
     "metadata": {},
     "output_type": "display_data"
    },
    {
     "name": "stdout",
     "output_type": "stream",
     "text": [
      "\n",
      "Epoch 135: loss 376118.25, emb_loss 376013.0960083008, mf_loss 104.6680323779583\n",
      "Validation loss decreased (378469.187500 --> 376118.250000).  Saving model ...\n"
     ]
    },
    {
     "data": {
      "application/vnd.jupyter.widget-view+json": {
       "model_id": "4c1e6cc3c60b465a8bea396dfc5573bc",
       "version_major": 2,
       "version_minor": 0
      },
      "text/plain": [
       "HBox(children=(FloatProgress(value=0.0, description='epoch 136', max=699.0, style=ProgressStyle(description_wi…"
      ]
     },
     "metadata": {},
     "output_type": "display_data"
    },
    {
     "name": "stdout",
     "output_type": "stream",
     "text": [
      "\n",
      "Epoch 136: loss 373571.9375, emb_loss 373466.5881347656, mf_loss 105.26021841168404\n",
      "Validation loss decreased (376118.250000 --> 373571.937500).  Saving model ...\n"
     ]
    },
    {
     "data": {
      "application/vnd.jupyter.widget-view+json": {
       "model_id": "a696c43d59f449119bc5091cf8564fd2",
       "version_major": 2,
       "version_minor": 0
      },
      "text/plain": [
       "HBox(children=(FloatProgress(value=0.0, description='epoch 137', max=699.0, style=ProgressStyle(description_wi…"
      ]
     },
     "metadata": {},
     "output_type": "display_data"
    },
    {
     "name": "stdout",
     "output_type": "stream",
     "text": [
      "\n",
      "Epoch 137: loss 371502.46875, emb_loss 371396.35705566406, mf_loss 105.40781930088997\n",
      "Validation loss decreased (373571.937500 --> 371502.468750).  Saving model ...\n"
     ]
    },
    {
     "data": {
      "application/vnd.jupyter.widget-view+json": {
       "model_id": "53d343de3eca493aa28fbc802b86a6fb",
       "version_major": 2,
       "version_minor": 0
      },
      "text/plain": [
       "HBox(children=(FloatProgress(value=0.0, description='epoch 138', max=699.0, style=ProgressStyle(description_wi…"
      ]
     },
     "metadata": {},
     "output_type": "display_data"
    },
    {
     "name": "stdout",
     "output_type": "stream",
     "text": [
      "\n",
      "Epoch 138: loss 369172.15625, emb_loss 369066.1525878906, mf_loss 105.82438151538372\n",
      "Validation loss decreased (371502.468750 --> 369172.156250).  Saving model ...\n"
     ]
    },
    {
     "data": {
      "application/vnd.jupyter.widget-view+json": {
       "model_id": "2f97db54290e41638b7e1f0593312858",
       "version_major": 2,
       "version_minor": 0
      },
      "text/plain": [
       "HBox(children=(FloatProgress(value=0.0, description='epoch 139', max=699.0, style=ProgressStyle(description_wi…"
      ]
     },
     "metadata": {},
     "output_type": "display_data"
    },
    {
     "name": "stdout",
     "output_type": "stream",
     "text": [
      "\n",
      "Epoch 139: loss 366869.625, emb_loss 366763.60723876953, mf_loss 105.70611916482449\n",
      "Validation loss decreased (369172.156250 --> 366869.625000).  Saving model ...\n"
     ]
    },
    {
     "data": {
      "application/vnd.jupyter.widget-view+json": {
       "model_id": "e6817eccc8604cadae9d5b2e0fe598e3",
       "version_major": 2,
       "version_minor": 0
      },
      "text/plain": [
       "HBox(children=(FloatProgress(value=0.0, description='epoch 140', max=699.0, style=ProgressStyle(description_wi…"
      ]
     },
     "metadata": {},
     "output_type": "display_data"
    },
    {
     "name": "stdout",
     "output_type": "stream",
     "text": [
      "\n",
      "Epoch 140: loss 364451.21875, emb_loss 364344.8723449707, mf_loss 105.76637184619904\n",
      "Validation loss decreased (366869.625000 --> 364451.218750).  Saving model ...\n"
     ]
    },
    {
     "data": {
      "application/vnd.jupyter.widget-view+json": {
       "model_id": "0245c897994c470b8e70c5f98704b565",
       "version_major": 2,
       "version_minor": 0
      },
      "text/plain": [
       "HBox(children=(FloatProgress(value=0.0, description='epoch 141', max=699.0, style=ProgressStyle(description_wi…"
      ]
     },
     "metadata": {},
     "output_type": "display_data"
    },
    {
     "name": "stdout",
     "output_type": "stream",
     "text": [
      "\n",
      "Epoch 141: loss 362095.90625, emb_loss 361989.54598999023, mf_loss 106.03859108686447\n",
      "Validation loss decreased (364451.218750 --> 362095.906250).  Saving model ...\n"
     ]
    },
    {
     "data": {
      "application/vnd.jupyter.widget-view+json": {
       "model_id": "4b2c164bb477436c86402e6c3cd34676",
       "version_major": 2,
       "version_minor": 0
      },
      "text/plain": [
       "HBox(children=(FloatProgress(value=0.0, description='epoch 142', max=699.0, style=ProgressStyle(description_wi…"
      ]
     },
     "metadata": {},
     "output_type": "display_data"
    },
    {
     "name": "stdout",
     "output_type": "stream",
     "text": [
      "\n",
      "Epoch 142: loss 360022.84375, emb_loss 359916.3310546875, mf_loss 106.23898386955261\n",
      "Validation loss decreased (362095.906250 --> 360022.843750).  Saving model ...\n"
     ]
    },
    {
     "data": {
      "application/vnd.jupyter.widget-view+json": {
       "model_id": "130829e8fb1b4b888c838f5c07fbaad2",
       "version_major": 2,
       "version_minor": 0
      },
      "text/plain": [
       "HBox(children=(FloatProgress(value=0.0, description='epoch 143', max=699.0, style=ProgressStyle(description_wi…"
      ]
     },
     "metadata": {},
     "output_type": "display_data"
    },
    {
     "name": "stdout",
     "output_type": "stream",
     "text": [
      "\n",
      "Epoch 143: loss 357708.3125, emb_loss 357601.27252197266, mf_loss 106.9540233463049\n",
      "Validation loss decreased (360022.843750 --> 357708.312500).  Saving model ...\n"
     ]
    },
    {
     "data": {
      "application/vnd.jupyter.widget-view+json": {
       "model_id": "9cb05b02c69d490bab4cb0af8ec67ccf",
       "version_major": 2,
       "version_minor": 0
      },
      "text/plain": [
       "HBox(children=(FloatProgress(value=0.0, description='epoch 144', max=699.0, style=ProgressStyle(description_wi…"
      ]
     },
     "metadata": {},
     "output_type": "display_data"
    },
    {
     "name": "stdout",
     "output_type": "stream",
     "text": [
      "\n",
      "Epoch 144: loss 355145.96875, emb_loss 355038.8009033203, mf_loss 106.60142840445042\n",
      "Validation loss decreased (357708.312500 --> 355145.968750).  Saving model ...\n"
     ]
    },
    {
     "data": {
      "application/vnd.jupyter.widget-view+json": {
       "model_id": "0531687be22645dba7a69564a2d29b73",
       "version_major": 2,
       "version_minor": 0
      },
      "text/plain": [
       "HBox(children=(FloatProgress(value=0.0, description='epoch 145', max=699.0, style=ProgressStyle(description_wi…"
      ]
     },
     "metadata": {},
     "output_type": "display_data"
    },
    {
     "name": "stdout",
     "output_type": "stream",
     "text": [
      "\n",
      "Epoch 145: loss 353269.53125, emb_loss 353162.0277404785, mf_loss 107.26928524672985\n",
      "Validation loss decreased (355145.968750 --> 353269.531250).  Saving model ...\n"
     ]
    },
    {
     "data": {
      "application/vnd.jupyter.widget-view+json": {
       "model_id": "a63d9f67289b40d1a5e3f0cd927acea5",
       "version_major": 2,
       "version_minor": 0
      },
      "text/plain": [
       "HBox(children=(FloatProgress(value=0.0, description='epoch 146', max=699.0, style=ProgressStyle(description_wi…"
      ]
     },
     "metadata": {},
     "output_type": "display_data"
    },
    {
     "name": "stdout",
     "output_type": "stream",
     "text": [
      "\n",
      "Epoch 146: loss 351134.65625, emb_loss 351026.98818969727, mf_loss 107.23440062999725\n",
      "Validation loss decreased (353269.531250 --> 351134.656250).  Saving model ...\n"
     ]
    },
    {
     "data": {
      "application/vnd.jupyter.widget-view+json": {
       "model_id": "fa7569b013ef4df5ba9f86f328fffcab",
       "version_major": 2,
       "version_minor": 0
      },
      "text/plain": [
       "HBox(children=(FloatProgress(value=0.0, description='epoch 147', max=699.0, style=ProgressStyle(description_wi…"
      ]
     },
     "metadata": {},
     "output_type": "display_data"
    },
    {
     "name": "stdout",
     "output_type": "stream",
     "text": [
      "\n",
      "Epoch 147: loss 348556.65625, emb_loss 348448.88568115234, mf_loss 107.62198331952095\n",
      "Validation loss decreased (351134.656250 --> 348556.656250).  Saving model ...\n"
     ]
    },
    {
     "data": {
      "application/vnd.jupyter.widget-view+json": {
       "model_id": "16000048548243559941142541ca27c7",
       "version_major": 2,
       "version_minor": 0
      },
      "text/plain": [
       "HBox(children=(FloatProgress(value=0.0, description='epoch 148', max=699.0, style=ProgressStyle(description_wi…"
      ]
     },
     "metadata": {},
     "output_type": "display_data"
    },
    {
     "name": "stdout",
     "output_type": "stream",
     "text": [
      "\n",
      "Epoch 148: loss 346594.59375, emb_loss 346486.40625, mf_loss 107.95609225332737\n",
      "Validation loss decreased (348556.656250 --> 346594.593750).  Saving model ...\n"
     ]
    },
    {
     "data": {
      "application/vnd.jupyter.widget-view+json": {
       "model_id": "962d65be6b2d4ae9a628d0132737721f",
       "version_major": 2,
       "version_minor": 0
      },
      "text/plain": [
       "HBox(children=(FloatProgress(value=0.0, description='epoch 149', max=699.0, style=ProgressStyle(description_wi…"
      ]
     },
     "metadata": {},
     "output_type": "display_data"
    },
    {
     "name": "stdout",
     "output_type": "stream",
     "text": [
      "\n",
      "Epoch 149: loss 344295.15625, emb_loss 344186.1828918457, mf_loss 108.46337112784386\n",
      "Validation loss decreased (346594.593750 --> 344295.156250).  Saving model ...\n"
     ]
    },
    {
     "data": {
      "application/vnd.jupyter.widget-view+json": {
       "model_id": "6a2afea6db5a430dacae8c2c7bcfcdfb",
       "version_major": 2,
       "version_minor": 0
      },
      "text/plain": [
       "HBox(children=(FloatProgress(value=0.0, description='epoch 150', max=699.0, style=ProgressStyle(description_wi…"
      ]
     },
     "metadata": {},
     "output_type": "display_data"
    },
    {
     "name": "stdout",
     "output_type": "stream",
     "text": [
      "\n",
      "Epoch 150: loss 342165.40625, emb_loss 342057.21322631836, mf_loss 108.36007182300091\n",
      "Validation loss decreased (344295.156250 --> 342165.406250).  Saving model ...\n"
     ]
    },
    {
     "data": {
      "application/vnd.jupyter.widget-view+json": {
       "model_id": "62657ddc7ba34374a0b1c130b60ea07f",
       "version_major": 2,
       "version_minor": 0
      },
      "text/plain": [
       "HBox(children=(FloatProgress(value=0.0, description='epoch 151', max=699.0, style=ProgressStyle(description_wi…"
      ]
     },
     "metadata": {},
     "output_type": "display_data"
    },
    {
     "name": "stdout",
     "output_type": "stream",
     "text": [
      "\n",
      "Epoch 151: loss 340106.5, emb_loss 339997.3217468262, mf_loss 108.84394006431103\n",
      "Validation loss decreased (342165.406250 --> 340106.500000).  Saving model ...\n"
     ]
    },
    {
     "data": {
      "application/vnd.jupyter.widget-view+json": {
       "model_id": "825602ee2eff4bfa896c650ca93697d2",
       "version_major": 2,
       "version_minor": 0
      },
      "text/plain": [
       "HBox(children=(FloatProgress(value=0.0, description='epoch 152', max=699.0, style=ProgressStyle(description_wi…"
      ]
     },
     "metadata": {},
     "output_type": "display_data"
    },
    {
     "name": "stdout",
     "output_type": "stream",
     "text": [
      "\n",
      "Epoch 152: loss 337868.5625, emb_loss 337759.3882446289, mf_loss 109.09877213835716\n",
      "Validation loss decreased (340106.500000 --> 337868.562500).  Saving model ...\n"
     ]
    },
    {
     "data": {
      "application/vnd.jupyter.widget-view+json": {
       "model_id": "f1864a467cef4c2abb14ff88be106fce",
       "version_major": 2,
       "version_minor": 0
      },
      "text/plain": [
       "HBox(children=(FloatProgress(value=0.0, description='epoch 153', max=699.0, style=ProgressStyle(description_wi…"
      ]
     },
     "metadata": {},
     "output_type": "display_data"
    },
    {
     "name": "stdout",
     "output_type": "stream",
     "text": [
      "\n",
      "Epoch 153: loss 335677.6875, emb_loss 335568.7341003418, mf_loss 108.96882125735283\n",
      "Validation loss decreased (337868.562500 --> 335677.687500).  Saving model ...\n"
     ]
    },
    {
     "data": {
      "application/vnd.jupyter.widget-view+json": {
       "model_id": "9ac7ad6df21b44ba9233c4d416b3bedd",
       "version_major": 2,
       "version_minor": 0
      },
      "text/plain": [
       "HBox(children=(FloatProgress(value=0.0, description='epoch 154', max=699.0, style=ProgressStyle(description_wi…"
      ]
     },
     "metadata": {},
     "output_type": "display_data"
    },
    {
     "name": "stdout",
     "output_type": "stream",
     "text": [
      "\n",
      "Epoch 154: loss 333568.40625, emb_loss 333458.7413330078, mf_loss 109.74204815924168\n",
      "Validation loss decreased (335677.687500 --> 333568.406250).  Saving model ...\n"
     ]
    },
    {
     "data": {
      "application/vnd.jupyter.widget-view+json": {
       "model_id": "577755ff9542462ca0333189ae53b84a",
       "version_major": 2,
       "version_minor": 0
      },
      "text/plain": [
       "HBox(children=(FloatProgress(value=0.0, description='epoch 155', max=699.0, style=ProgressStyle(description_wi…"
      ]
     },
     "metadata": {},
     "output_type": "display_data"
    },
    {
     "name": "stdout",
     "output_type": "stream",
     "text": [
      "\n",
      "Epoch 155: loss 331420.75, emb_loss 331310.7321777344, mf_loss 109.88676416873932\n",
      "Validation loss decreased (333568.406250 --> 331420.750000).  Saving model ...\n"
     ]
    },
    {
     "data": {
      "application/vnd.jupyter.widget-view+json": {
       "model_id": "8fb6fd05fb3e4c0591fbb109b3dd6998",
       "version_major": 2,
       "version_minor": 0
      },
      "text/plain": [
       "HBox(children=(FloatProgress(value=0.0, description='epoch 156', max=699.0, style=ProgressStyle(description_wi…"
      ]
     },
     "metadata": {},
     "output_type": "display_data"
    },
    {
     "name": "stdout",
     "output_type": "stream",
     "text": [
      "\n",
      "Epoch 156: loss 329260.8125, emb_loss 329151.4475097656, mf_loss 109.55757062137127\n",
      "Validation loss decreased (331420.750000 --> 329260.812500).  Saving model ...\n"
     ]
    },
    {
     "data": {
      "application/vnd.jupyter.widget-view+json": {
       "model_id": "664f8bf4ec6e4970a36024b6f8c1b519",
       "version_major": 2,
       "version_minor": 0
      },
      "text/plain": [
       "HBox(children=(FloatProgress(value=0.0, description='epoch 157', max=699.0, style=ProgressStyle(description_wi…"
      ]
     },
     "metadata": {},
     "output_type": "display_data"
    },
    {
     "name": "stdout",
     "output_type": "stream",
     "text": [
      "\n",
      "Epoch 157: loss 327169.0, emb_loss 327058.4941711426, mf_loss 110.25456355512142\n",
      "Validation loss decreased (329260.812500 --> 327169.000000).  Saving model ...\n"
     ]
    },
    {
     "data": {
      "application/vnd.jupyter.widget-view+json": {
       "model_id": "a693ae47576a44ee8b18349e4560c17f",
       "version_major": 2,
       "version_minor": 0
      },
      "text/plain": [
       "HBox(children=(FloatProgress(value=0.0, description='epoch 158', max=699.0, style=ProgressStyle(description_wi…"
      ]
     },
     "metadata": {},
     "output_type": "display_data"
    },
    {
     "name": "stdout",
     "output_type": "stream",
     "text": [
      "\n",
      "Epoch 158: loss 324924.0, emb_loss 324813.80087280273, mf_loss 110.55335132777691\n",
      "Validation loss decreased (327169.000000 --> 324924.000000).  Saving model ...\n"
     ]
    },
    {
     "data": {
      "application/vnd.jupyter.widget-view+json": {
       "model_id": "cdab223f7b7e4f83a2c2e71ad2a55232",
       "version_major": 2,
       "version_minor": 0
      },
      "text/plain": [
       "HBox(children=(FloatProgress(value=0.0, description='epoch 159', max=699.0, style=ProgressStyle(description_wi…"
      ]
     },
     "metadata": {},
     "output_type": "display_data"
    },
    {
     "name": "stdout",
     "output_type": "stream",
     "text": [
      "\n",
      "Epoch 159: loss 323135.6875, emb_loss 323025.03912353516, mf_loss 110.31766524910927\n",
      "Validation loss decreased (324924.000000 --> 323135.687500).  Saving model ...\n"
     ]
    },
    {
     "data": {
      "application/vnd.jupyter.widget-view+json": {
       "model_id": "0e9fd9c353fd4663981e19e898799129",
       "version_major": 2,
       "version_minor": 0
      },
      "text/plain": [
       "HBox(children=(FloatProgress(value=0.0, description='epoch 160', max=699.0, style=ProgressStyle(description_wi…"
      ]
     },
     "metadata": {},
     "output_type": "display_data"
    },
    {
     "name": "stdout",
     "output_type": "stream",
     "text": [
      "\n",
      "Epoch 160: loss 321151.375, emb_loss 321041.0564880371, mf_loss 110.57957382500172\n",
      "Validation loss decreased (323135.687500 --> 321151.375000).  Saving model ...\n"
     ]
    },
    {
     "data": {
      "application/vnd.jupyter.widget-view+json": {
       "model_id": "221ad817884c43e6a4dfcac47f293e07",
       "version_major": 2,
       "version_minor": 0
      },
      "text/plain": [
       "HBox(children=(FloatProgress(value=0.0, description='epoch 161', max=699.0, style=ProgressStyle(description_wi…"
      ]
     },
     "metadata": {},
     "output_type": "display_data"
    },
    {
     "name": "stdout",
     "output_type": "stream",
     "text": [
      "\n",
      "Epoch 161: loss 318916.25, emb_loss 318805.65408325195, mf_loss 111.09151697158813\n",
      "Validation loss decreased (321151.375000 --> 318916.250000).  Saving model ...\n"
     ]
    },
    {
     "data": {
      "application/vnd.jupyter.widget-view+json": {
       "model_id": "34d416962ced4805a6c0b2c1417cb7c9",
       "version_major": 2,
       "version_minor": 0
      },
      "text/plain": [
       "HBox(children=(FloatProgress(value=0.0, description='epoch 162', max=699.0, style=ProgressStyle(description_wi…"
      ]
     },
     "metadata": {},
     "output_type": "display_data"
    },
    {
     "name": "stdout",
     "output_type": "stream",
     "text": [
      "\n",
      "Epoch 162: loss 316819.125, emb_loss 316707.96405029297, mf_loss 111.19985580444336\n",
      "Validation loss decreased (318916.250000 --> 316819.125000).  Saving model ...\n"
     ]
    },
    {
     "data": {
      "application/vnd.jupyter.widget-view+json": {
       "model_id": "50d4e0bafe7a441880382d489f01989f",
       "version_major": 2,
       "version_minor": 0
      },
      "text/plain": [
       "HBox(children=(FloatProgress(value=0.0, description='epoch 163', max=699.0, style=ProgressStyle(description_wi…"
      ]
     },
     "metadata": {},
     "output_type": "display_data"
    },
    {
     "name": "stdout",
     "output_type": "stream",
     "text": [
      "\n",
      "Epoch 163: loss 314896.75, emb_loss 314785.3427429199, mf_loss 111.77513018250465\n",
      "Validation loss decreased (316819.125000 --> 314896.750000).  Saving model ...\n"
     ]
    },
    {
     "data": {
      "application/vnd.jupyter.widget-view+json": {
       "model_id": "ab4a5056a49146ebbd8862cb77e5f03d",
       "version_major": 2,
       "version_minor": 0
      },
      "text/plain": [
       "HBox(children=(FloatProgress(value=0.0, description='epoch 164', max=699.0, style=ProgressStyle(description_wi…"
      ]
     },
     "metadata": {},
     "output_type": "display_data"
    },
    {
     "name": "stdout",
     "output_type": "stream",
     "text": [
      "\n",
      "Epoch 164: loss 312859.53125, emb_loss 312748.3929748535, mf_loss 111.23328150808811\n",
      "Validation loss decreased (314896.750000 --> 312859.531250).  Saving model ...\n"
     ]
    },
    {
     "data": {
      "application/vnd.jupyter.widget-view+json": {
       "model_id": "db7d6441f801448f92931d25ad98cf3b",
       "version_major": 2,
       "version_minor": 0
      },
      "text/plain": [
       "HBox(children=(FloatProgress(value=0.0, description='epoch 165', max=699.0, style=ProgressStyle(description_wi…"
      ]
     },
     "metadata": {},
     "output_type": "display_data"
    },
    {
     "name": "stdout",
     "output_type": "stream",
     "text": [
      "\n",
      "Epoch 165: loss 310885.4375, emb_loss 310773.50759887695, mf_loss 112.01982007920742\n",
      "Validation loss decreased (312859.531250 --> 310885.437500).  Saving model ...\n"
     ]
    },
    {
     "data": {
      "application/vnd.jupyter.widget-view+json": {
       "model_id": "32d69cfdfddb48b6889ef34b97bd464b",
       "version_major": 2,
       "version_minor": 0
      },
      "text/plain": [
       "HBox(children=(FloatProgress(value=0.0, description='epoch 166', max=699.0, style=ProgressStyle(description_wi…"
      ]
     },
     "metadata": {},
     "output_type": "display_data"
    },
    {
     "name": "stdout",
     "output_type": "stream",
     "text": [
      "\n",
      "Epoch 166: loss 308793.40625, emb_loss 308681.1501159668, mf_loss 112.28106592595577\n",
      "Validation loss decreased (310885.437500 --> 308793.406250).  Saving model ...\n"
     ]
    },
    {
     "data": {
      "application/vnd.jupyter.widget-view+json": {
       "model_id": "b6c4194cd73f4cbab98788f9b22f7ca3",
       "version_major": 2,
       "version_minor": 0
      },
      "text/plain": [
       "HBox(children=(FloatProgress(value=0.0, description='epoch 167', max=699.0, style=ProgressStyle(description_wi…"
      ]
     },
     "metadata": {},
     "output_type": "display_data"
    },
    {
     "name": "stdout",
     "output_type": "stream",
     "text": [
      "\n",
      "Epoch 167: loss 306880.625, emb_loss 306767.8575744629, mf_loss 112.901620849967\n",
      "Validation loss decreased (308793.406250 --> 306880.625000).  Saving model ...\n"
     ]
    },
    {
     "data": {
      "application/vnd.jupyter.widget-view+json": {
       "model_id": "b0fc996b87184821b4debc0154440f3d",
       "version_major": 2,
       "version_minor": 0
      },
      "text/plain": [
       "HBox(children=(FloatProgress(value=0.0, description='epoch 168', max=699.0, style=ProgressStyle(description_wi…"
      ]
     },
     "metadata": {},
     "output_type": "display_data"
    },
    {
     "name": "stdout",
     "output_type": "stream",
     "text": [
      "\n",
      "Epoch 168: loss 304897.8125, emb_loss 304785.24014282227, mf_loss 112.77638067305088\n",
      "Validation loss decreased (306880.625000 --> 304897.812500).  Saving model ...\n"
     ]
    },
    {
     "data": {
      "application/vnd.jupyter.widget-view+json": {
       "model_id": "008d6942de994359adb19c3354961b56",
       "version_major": 2,
       "version_minor": 0
      },
      "text/plain": [
       "HBox(children=(FloatProgress(value=0.0, description='epoch 169', max=699.0, style=ProgressStyle(description_wi…"
      ]
     },
     "metadata": {},
     "output_type": "display_data"
    },
    {
     "name": "stdout",
     "output_type": "stream",
     "text": [
      "\n",
      "Epoch 169: loss 302767.75, emb_loss 302655.0892944336, mf_loss 112.85749123990536\n",
      "Validation loss decreased (304897.812500 --> 302767.750000).  Saving model ...\n"
     ]
    },
    {
     "data": {
      "application/vnd.jupyter.widget-view+json": {
       "model_id": "f0eae60e75974248bf110521e5b20206",
       "version_major": 2,
       "version_minor": 0
      },
      "text/plain": [
       "HBox(children=(FloatProgress(value=0.0, description='epoch 170', max=699.0, style=ProgressStyle(description_wi…"
      ]
     },
     "metadata": {},
     "output_type": "display_data"
    },
    {
     "name": "stdout",
     "output_type": "stream",
     "text": [
      "\n",
      "Epoch 170: loss 301012.28125, emb_loss 300898.9574584961, mf_loss 113.50316777825356\n",
      "Validation loss decreased (302767.750000 --> 301012.281250).  Saving model ...\n"
     ]
    },
    {
     "data": {
      "application/vnd.jupyter.widget-view+json": {
       "model_id": "3a1951ed46aa4f659a1606239784092e",
       "version_major": 2,
       "version_minor": 0
      },
      "text/plain": [
       "HBox(children=(FloatProgress(value=0.0, description='epoch 171', max=699.0, style=ProgressStyle(description_wi…"
      ]
     },
     "metadata": {},
     "output_type": "display_data"
    },
    {
     "name": "stdout",
     "output_type": "stream",
     "text": [
      "\n",
      "Epoch 171: loss 299308.6875, emb_loss 299195.3618774414, mf_loss 113.40589028596878\n",
      "Validation loss decreased (301012.281250 --> 299308.687500).  Saving model ...\n"
     ]
    },
    {
     "data": {
      "application/vnd.jupyter.widget-view+json": {
       "model_id": "1f34b8e4a3c54f6a86a2ba504bdf3c55",
       "version_major": 2,
       "version_minor": 0
      },
      "text/plain": [
       "HBox(children=(FloatProgress(value=0.0, description='epoch 172', max=699.0, style=ProgressStyle(description_wi…"
      ]
     },
     "metadata": {},
     "output_type": "display_data"
    },
    {
     "name": "stdout",
     "output_type": "stream",
     "text": [
      "\n",
      "Epoch 172: loss 297238.1875, emb_loss 297124.44259643555, mf_loss 113.7823715209961\n",
      "Validation loss decreased (299308.687500 --> 297238.187500).  Saving model ...\n"
     ]
    },
    {
     "data": {
      "application/vnd.jupyter.widget-view+json": {
       "model_id": "1e89665da19c4603a6c864e207fe38e9",
       "version_major": 2,
       "version_minor": 0
      },
      "text/plain": [
       "HBox(children=(FloatProgress(value=0.0, description='epoch 173', max=699.0, style=ProgressStyle(description_wi…"
      ]
     },
     "metadata": {},
     "output_type": "display_data"
    },
    {
     "name": "stdout",
     "output_type": "stream",
     "text": [
      "\n",
      "Epoch 173: loss 295283.71875, emb_loss 295170.3001098633, mf_loss 113.77958779036999\n",
      "Validation loss decreased (297238.187500 --> 295283.718750).  Saving model ...\n"
     ]
    },
    {
     "data": {
      "application/vnd.jupyter.widget-view+json": {
       "model_id": "7f76a6f22c774159b81deea3fb0b60c1",
       "version_major": 2,
       "version_minor": 0
      },
      "text/plain": [
       "HBox(children=(FloatProgress(value=0.0, description='epoch 174', max=699.0, style=ProgressStyle(description_wi…"
      ]
     },
     "metadata": {},
     "output_type": "display_data"
    },
    {
     "name": "stdout",
     "output_type": "stream",
     "text": [
      "\n",
      "Epoch 174: loss 293398.0, emb_loss 293284.1466064453, mf_loss 114.08448182046413\n",
      "Validation loss decreased (295283.718750 --> 293398.000000).  Saving model ...\n"
     ]
    },
    {
     "data": {
      "application/vnd.jupyter.widget-view+json": {
       "model_id": "31a083bfc4094b8aa2bb260d1eeb3b20",
       "version_major": 2,
       "version_minor": 0
      },
      "text/plain": [
       "HBox(children=(FloatProgress(value=0.0, description='epoch 175', max=699.0, style=ProgressStyle(description_wi…"
      ]
     },
     "metadata": {},
     "output_type": "display_data"
    },
    {
     "name": "stdout",
     "output_type": "stream",
     "text": [
      "\n",
      "Epoch 175: loss 291600.40625, emb_loss 291486.1732788086, mf_loss 114.40572442114353\n",
      "Validation loss decreased (293398.000000 --> 291600.406250).  Saving model ...\n"
     ]
    },
    {
     "data": {
      "application/vnd.jupyter.widget-view+json": {
       "model_id": "cffcce66d37a48b5a81646b2c81aaa1e",
       "version_major": 2,
       "version_minor": 0
      },
      "text/plain": [
       "HBox(children=(FloatProgress(value=0.0, description='epoch 176', max=699.0, style=ProgressStyle(description_wi…"
      ]
     },
     "metadata": {},
     "output_type": "display_data"
    },
    {
     "name": "stdout",
     "output_type": "stream",
     "text": [
      "\n",
      "Epoch 176: loss 289666.4375, emb_loss 289551.9887390137, mf_loss 114.61414198577404\n",
      "Validation loss decreased (291600.406250 --> 289666.437500).  Saving model ...\n"
     ]
    },
    {
     "data": {
      "application/vnd.jupyter.widget-view+json": {
       "model_id": "11de3306093645bc80e2823c0023629f",
       "version_major": 2,
       "version_minor": 0
      },
      "text/plain": [
       "HBox(children=(FloatProgress(value=0.0, description='epoch 177', max=699.0, style=ProgressStyle(description_wi…"
      ]
     },
     "metadata": {},
     "output_type": "display_data"
    },
    {
     "name": "stdout",
     "output_type": "stream",
     "text": [
      "\n",
      "Epoch 177: loss 287844.90625, emb_loss 287730.03143310547, mf_loss 115.10941264033318\n",
      "Validation loss decreased (289666.437500 --> 287844.906250).  Saving model ...\n"
     ]
    },
    {
     "data": {
      "application/vnd.jupyter.widget-view+json": {
       "model_id": "8a8e356af4c246d3bcdd715ef12b0398",
       "version_major": 2,
       "version_minor": 0
      },
      "text/plain": [
       "HBox(children=(FloatProgress(value=0.0, description='epoch 178', max=699.0, style=ProgressStyle(description_wi…"
      ]
     },
     "metadata": {},
     "output_type": "display_data"
    },
    {
     "name": "stdout",
     "output_type": "stream",
     "text": [
      "\n",
      "Epoch 178: loss 286042.03125, emb_loss 285927.1317138672, mf_loss 115.21246814727783\n",
      "Validation loss decreased (287844.906250 --> 286042.031250).  Saving model ...\n"
     ]
    },
    {
     "data": {
      "application/vnd.jupyter.widget-view+json": {
       "model_id": "dee0367c91764c4ca409bbd217192a43",
       "version_major": 2,
       "version_minor": 0
      },
      "text/plain": [
       "HBox(children=(FloatProgress(value=0.0, description='epoch 179', max=699.0, style=ProgressStyle(description_wi…"
      ]
     },
     "metadata": {},
     "output_type": "display_data"
    },
    {
     "name": "stdout",
     "output_type": "stream",
     "text": [
      "\n",
      "Epoch 179: loss 284135.0625, emb_loss 284019.49127197266, mf_loss 115.55335067212582\n",
      "Validation loss decreased (286042.031250 --> 284135.062500).  Saving model ...\n"
     ]
    },
    {
     "data": {
      "application/vnd.jupyter.widget-view+json": {
       "model_id": "e8e132c11efd4d2f87a61aa600d6898e",
       "version_major": 2,
       "version_minor": 0
      },
      "text/plain": [
       "HBox(children=(FloatProgress(value=0.0, description='epoch 180', max=699.0, style=ProgressStyle(description_wi…"
      ]
     },
     "metadata": {},
     "output_type": "display_data"
    },
    {
     "name": "stdout",
     "output_type": "stream",
     "text": [
      "\n",
      "Epoch 180: loss 282466.78125, emb_loss 282351.31756591797, mf_loss 115.67054149508476\n",
      "Validation loss decreased (284135.062500 --> 282466.781250).  Saving model ...\n"
     ]
    },
    {
     "data": {
      "application/vnd.jupyter.widget-view+json": {
       "model_id": "6e69dd74238a44789785a235f39dd633",
       "version_major": 2,
       "version_minor": 0
      },
      "text/plain": [
       "HBox(children=(FloatProgress(value=0.0, description='epoch 181', max=699.0, style=ProgressStyle(description_wi…"
      ]
     },
     "metadata": {},
     "output_type": "display_data"
    },
    {
     "name": "stdout",
     "output_type": "stream",
     "text": [
      "\n",
      "Epoch 181: loss 280431.65625, emb_loss 280315.4960632324, mf_loss 115.9654857814312\n",
      "Validation loss decreased (282466.781250 --> 280431.656250).  Saving model ...\n"
     ]
    },
    {
     "data": {
      "application/vnd.jupyter.widget-view+json": {
       "model_id": "551af5d94fa94d908eed8fea4d279bfb",
       "version_major": 2,
       "version_minor": 0
      },
      "text/plain": [
       "HBox(children=(FloatProgress(value=0.0, description='epoch 182', max=699.0, style=ProgressStyle(description_wi…"
      ]
     },
     "metadata": {},
     "output_type": "display_data"
    },
    {
     "name": "stdout",
     "output_type": "stream",
     "text": [
      "\n",
      "Epoch 182: loss 278569.0625, emb_loss 278453.36306762695, mf_loss 115.76434034109116\n",
      "Validation loss decreased (280431.656250 --> 278569.062500).  Saving model ...\n"
     ]
    },
    {
     "data": {
      "application/vnd.jupyter.widget-view+json": {
       "model_id": "0d9eb3bbd26547b89f614c2233a2f047",
       "version_major": 2,
       "version_minor": 0
      },
      "text/plain": [
       "HBox(children=(FloatProgress(value=0.0, description='epoch 183', max=699.0, style=ProgressStyle(description_wi…"
      ]
     },
     "metadata": {},
     "output_type": "display_data"
    },
    {
     "name": "stdout",
     "output_type": "stream",
     "text": [
      "\n",
      "Epoch 183: loss 276773.40625, emb_loss 276657.28314208984, mf_loss 116.1347648948431\n",
      "Validation loss decreased (278569.062500 --> 276773.406250).  Saving model ...\n"
     ]
    },
    {
     "data": {
      "application/vnd.jupyter.widget-view+json": {
       "model_id": "82205cf3fbab4bffb27240e84d1cfc51",
       "version_major": 2,
       "version_minor": 0
      },
      "text/plain": [
       "HBox(children=(FloatProgress(value=0.0, description='epoch 184', max=699.0, style=ProgressStyle(description_wi…"
      ]
     },
     "metadata": {},
     "output_type": "display_data"
    },
    {
     "name": "stdout",
     "output_type": "stream",
     "text": [
      "\n",
      "Epoch 184: loss 275031.625, emb_loss 274914.9302062988, mf_loss 116.62149515748024\n",
      "Validation loss decreased (276773.406250 --> 275031.625000).  Saving model ...\n"
     ]
    },
    {
     "data": {
      "application/vnd.jupyter.widget-view+json": {
       "model_id": "94e4a846f33742a69ed25102273d2d47",
       "version_major": 2,
       "version_minor": 0
      },
      "text/plain": [
       "HBox(children=(FloatProgress(value=0.0, description='epoch 185', max=699.0, style=ProgressStyle(description_wi…"
      ]
     },
     "metadata": {},
     "output_type": "display_data"
    },
    {
     "name": "stdout",
     "output_type": "stream",
     "text": [
      "\n",
      "Epoch 185: loss 273541.78125, emb_loss 273425.11877441406, mf_loss 116.95408365130424\n",
      "Validation loss decreased (275031.625000 --> 273541.781250).  Saving model ...\n"
     ]
    },
    {
     "data": {
      "application/vnd.jupyter.widget-view+json": {
       "model_id": "66fd55db0ae54398bd97aecea8a48b7e",
       "version_major": 2,
       "version_minor": 0
      },
      "text/plain": [
       "HBox(children=(FloatProgress(value=0.0, description='epoch 186', max=699.0, style=ProgressStyle(description_wi…"
      ]
     },
     "metadata": {},
     "output_type": "display_data"
    },
    {
     "name": "stdout",
     "output_type": "stream",
     "text": [
      "\n",
      "Epoch 186: loss 271495.9375, emb_loss 271378.9347229004, mf_loss 117.07883821427822\n",
      "Validation loss decreased (273541.781250 --> 271495.937500).  Saving model ...\n"
     ]
    },
    {
     "data": {
      "application/vnd.jupyter.widget-view+json": {
       "model_id": "44ea103196714b6db01fd24e058dfeaa",
       "version_major": 2,
       "version_minor": 0
      },
      "text/plain": [
       "HBox(children=(FloatProgress(value=0.0, description='epoch 187', max=699.0, style=ProgressStyle(description_wi…"
      ]
     },
     "metadata": {},
     "output_type": "display_data"
    },
    {
     "name": "stdout",
     "output_type": "stream",
     "text": [
      "\n",
      "Epoch 187: loss 269909.28125, emb_loss 269791.41247558594, mf_loss 117.73857009410858\n",
      "Validation loss decreased (271495.937500 --> 269909.281250).  Saving model ...\n"
     ]
    },
    {
     "data": {
      "application/vnd.jupyter.widget-view+json": {
       "model_id": "f2226220f6ce4d238eb9883fc37b47d0",
       "version_major": 2,
       "version_minor": 0
      },
      "text/plain": [
       "HBox(children=(FloatProgress(value=0.0, description='epoch 188', max=699.0, style=ProgressStyle(description_wi…"
      ]
     },
     "metadata": {},
     "output_type": "display_data"
    },
    {
     "name": "stdout",
     "output_type": "stream",
     "text": [
      "\n",
      "Epoch 188: loss 268183.03125, emb_loss 268065.40997314453, mf_loss 117.43981103599072\n",
      "Validation loss decreased (269909.281250 --> 268183.031250).  Saving model ...\n"
     ]
    },
    {
     "data": {
      "application/vnd.jupyter.widget-view+json": {
       "model_id": "38c761351eeb45fa8422876cc6459175",
       "version_major": 2,
       "version_minor": 0
      },
      "text/plain": [
       "HBox(children=(FloatProgress(value=0.0, description='epoch 189', max=699.0, style=ProgressStyle(description_wi…"
      ]
     },
     "metadata": {},
     "output_type": "display_data"
    },
    {
     "name": "stdout",
     "output_type": "stream",
     "text": [
      "\n",
      "Epoch 189: loss 266287.75, emb_loss 266170.2426147461, mf_loss 117.69704842567444\n",
      "Validation loss decreased (268183.031250 --> 266287.750000).  Saving model ...\n"
     ]
    },
    {
     "data": {
      "application/vnd.jupyter.widget-view+json": {
       "model_id": "a88205267f294637a071004f2aa05da9",
       "version_major": 2,
       "version_minor": 0
      },
      "text/plain": [
       "HBox(children=(FloatProgress(value=0.0, description='epoch 190', max=699.0, style=ProgressStyle(description_wi…"
      ]
     },
     "metadata": {},
     "output_type": "display_data"
    },
    {
     "name": "stdout",
     "output_type": "stream",
     "text": [
      "\n",
      "Epoch 190: loss 264774.53125, emb_loss 264656.3817138672, mf_loss 118.0480100363493\n",
      "Validation loss decreased (266287.750000 --> 264774.531250).  Saving model ...\n"
     ]
    },
    {
     "data": {
      "application/vnd.jupyter.widget-view+json": {
       "model_id": "c18210ab22514a798d608ca92d492adb",
       "version_major": 2,
       "version_minor": 0
      },
      "text/plain": [
       "HBox(children=(FloatProgress(value=0.0, description='epoch 191', max=699.0, style=ProgressStyle(description_wi…"
      ]
     },
     "metadata": {},
     "output_type": "display_data"
    },
    {
     "name": "stdout",
     "output_type": "stream",
     "text": [
      "\n",
      "Epoch 191: loss 262900.09375, emb_loss 262781.72637939453, mf_loss 118.27816553413868\n",
      "Validation loss decreased (264774.531250 --> 262900.093750).  Saving model ...\n"
     ]
    },
    {
     "data": {
      "application/vnd.jupyter.widget-view+json": {
       "model_id": "6e4be6abb25d4b249bdd69bd915e58a0",
       "version_major": 2,
       "version_minor": 0
      },
      "text/plain": [
       "HBox(children=(FloatProgress(value=0.0, description='epoch 192', max=699.0, style=ProgressStyle(description_wi…"
      ]
     },
     "metadata": {},
     "output_type": "display_data"
    },
    {
     "name": "stdout",
     "output_type": "stream",
     "text": [
      "\n",
      "Epoch 192: loss 261317.234375, emb_loss 261198.71728515625, mf_loss 118.50456254184246\n",
      "Validation loss decreased (262900.093750 --> 261317.234375).  Saving model ...\n"
     ]
    },
    {
     "data": {
      "application/vnd.jupyter.widget-view+json": {
       "model_id": "53ad015ce60b48acb45aa715af9d0caf",
       "version_major": 2,
       "version_minor": 0
      },
      "text/plain": [
       "HBox(children=(FloatProgress(value=0.0, description='epoch 193', max=699.0, style=ProgressStyle(description_wi…"
      ]
     },
     "metadata": {},
     "output_type": "display_data"
    },
    {
     "name": "stdout",
     "output_type": "stream",
     "text": [
      "\n",
      "Epoch 193: loss 259900.28125, emb_loss 259781.7734375, mf_loss 118.54919719696045\n",
      "Validation loss decreased (261317.234375 --> 259900.281250).  Saving model ...\n"
     ]
    },
    {
     "data": {
      "application/vnd.jupyter.widget-view+json": {
       "model_id": "2de1b70dc1934f7eba5cba9beb18ff7f",
       "version_major": 2,
       "version_minor": 0
      },
      "text/plain": [
       "HBox(children=(FloatProgress(value=0.0, description='epoch 194', max=699.0, style=ProgressStyle(description_wi…"
      ]
     },
     "metadata": {},
     "output_type": "display_data"
    },
    {
     "name": "stdout",
     "output_type": "stream",
     "text": [
      "\n",
      "Epoch 194: loss 258051.5, emb_loss 257932.41659545898, mf_loss 119.16208827495575\n",
      "Validation loss decreased (259900.281250 --> 258051.500000).  Saving model ...\n"
     ]
    },
    {
     "data": {
      "application/vnd.jupyter.widget-view+json": {
       "model_id": "885b8b8de68e497cad8bb68aff467771",
       "version_major": 2,
       "version_minor": 0
      },
      "text/plain": [
       "HBox(children=(FloatProgress(value=0.0, description='epoch 195', max=699.0, style=ProgressStyle(description_wi…"
      ]
     },
     "metadata": {},
     "output_type": "display_data"
    },
    {
     "name": "stdout",
     "output_type": "stream",
     "text": [
      "\n",
      "Epoch 195: loss 256030.859375, emb_loss 255911.7979736328, mf_loss 119.12623520195484\n",
      "Validation loss decreased (258051.500000 --> 256030.859375).  Saving model ...\n"
     ]
    },
    {
     "data": {
      "application/vnd.jupyter.widget-view+json": {
       "model_id": "e147b18d3ec646ec99400d785fbb3981",
       "version_major": 2,
       "version_minor": 0
      },
      "text/plain": [
       "HBox(children=(FloatProgress(value=0.0, description='epoch 196', max=699.0, style=ProgressStyle(description_wi…"
      ]
     },
     "metadata": {},
     "output_type": "display_data"
    },
    {
     "name": "stdout",
     "output_type": "stream",
     "text": [
      "\n",
      "Epoch 196: loss 254635.109375, emb_loss 254515.4005432129, mf_loss 119.57967512309551\n",
      "Validation loss decreased (256030.859375 --> 254635.109375).  Saving model ...\n"
     ]
    },
    {
     "data": {
      "application/vnd.jupyter.widget-view+json": {
       "model_id": "2da077ff75cd4987afcd508668013719",
       "version_major": 2,
       "version_minor": 0
      },
      "text/plain": [
       "HBox(children=(FloatProgress(value=0.0, description='epoch 197', max=699.0, style=ProgressStyle(description_wi…"
      ]
     },
     "metadata": {},
     "output_type": "display_data"
    },
    {
     "name": "stdout",
     "output_type": "stream",
     "text": [
      "\n",
      "Epoch 197: loss 252920.453125, emb_loss 252800.3528137207, mf_loss 119.9832860827446\n",
      "Validation loss decreased (254635.109375 --> 252920.453125).  Saving model ...\n"
     ]
    },
    {
     "data": {
      "application/vnd.jupyter.widget-view+json": {
       "model_id": "336ef5397f71440c88428a763f1bfb28",
       "version_major": 2,
       "version_minor": 0
      },
      "text/plain": [
       "HBox(children=(FloatProgress(value=0.0, description='epoch 198', max=699.0, style=ProgressStyle(description_wi…"
      ]
     },
     "metadata": {},
     "output_type": "display_data"
    },
    {
     "name": "stdout",
     "output_type": "stream",
     "text": [
      "\n",
      "Epoch 198: loss 251488.21875, emb_loss 251367.70858764648, mf_loss 120.43569301068783\n",
      "Validation loss decreased (252920.453125 --> 251488.218750).  Saving model ...\n"
     ]
    },
    {
     "data": {
      "application/vnd.jupyter.widget-view+json": {
       "model_id": "c7c1696f3d4a49f1926b92ca693a7f37",
       "version_major": 2,
       "version_minor": 0
      },
      "text/plain": [
       "HBox(children=(FloatProgress(value=0.0, description='epoch 199', max=699.0, style=ProgressStyle(description_wi…"
      ]
     },
     "metadata": {},
     "output_type": "display_data"
    },
    {
     "name": "stdout",
     "output_type": "stream",
     "text": [
      "\n",
      "Epoch 199: loss 249953.09375, emb_loss 249833.1788635254, mf_loss 120.00829534232616\n",
      "Validation loss decreased (251488.218750 --> 249953.093750).  Saving model ...\n"
     ]
    },
    {
     "data": {
      "application/vnd.jupyter.widget-view+json": {
       "model_id": "da18c171e4924fe4a835c1b5d513839d",
       "version_major": 2,
       "version_minor": 0
      },
      "text/plain": [
       "HBox(children=(FloatProgress(value=0.0, description='epoch 200', max=699.0, style=ProgressStyle(description_wi…"
      ]
     },
     "metadata": {},
     "output_type": "display_data"
    },
    {
     "name": "stdout",
     "output_type": "stream",
     "text": [
      "\n",
      "Epoch 200: loss 248195.40625, emb_loss 248075.11944580078, mf_loss 120.49074701964855\n",
      "Validation loss decreased (249953.093750 --> 248195.406250).  Saving model ...\n"
     ]
    },
    {
     "data": {
      "application/vnd.jupyter.widget-view+json": {
       "model_id": "0ffd72b9c8d4429cbab06791b7db87a2",
       "version_major": 2,
       "version_minor": 0
      },
      "text/plain": [
       "HBox(children=(FloatProgress(value=0.0, description='epoch 201', max=699.0, style=ProgressStyle(description_wi…"
      ]
     },
     "metadata": {},
     "output_type": "display_data"
    },
    {
     "name": "stdout",
     "output_type": "stream",
     "text": [
      "\n",
      "Epoch 201: loss 246449.765625, emb_loss 246329.00900268555, mf_loss 120.76596060395241\n",
      "Validation loss decreased (248195.406250 --> 246449.765625).  Saving model ...\n"
     ]
    },
    {
     "data": {
      "application/vnd.jupyter.widget-view+json": {
       "model_id": "1d78eef8ff884a63bb89bd30f5b93612",
       "version_major": 2,
       "version_minor": 0
      },
      "text/plain": [
       "HBox(children=(FloatProgress(value=0.0, description='epoch 202', max=699.0, style=ProgressStyle(description_wi…"
      ]
     },
     "metadata": {},
     "output_type": "display_data"
    },
    {
     "name": "stdout",
     "output_type": "stream",
     "text": [
      "\n",
      "Epoch 202: loss 245001.515625, emb_loss 244880.4086303711, mf_loss 121.20247654616833\n",
      "Validation loss decreased (246449.765625 --> 245001.515625).  Saving model ...\n"
     ]
    },
    {
     "data": {
      "application/vnd.jupyter.widget-view+json": {
       "model_id": "1b8726aa8c2d4c74b0e01a15f289b953",
       "version_major": 2,
       "version_minor": 0
      },
      "text/plain": [
       "HBox(children=(FloatProgress(value=0.0, description='epoch 203', max=699.0, style=ProgressStyle(description_wi…"
      ]
     },
     "metadata": {},
     "output_type": "display_data"
    },
    {
     "name": "stdout",
     "output_type": "stream",
     "text": [
      "\n",
      "Epoch 203: loss 243585.53125, emb_loss 243464.40432739258, mf_loss 121.07475031912327\n",
      "Validation loss decreased (245001.515625 --> 243585.531250).  Saving model ...\n"
     ]
    },
    {
     "data": {
      "application/vnd.jupyter.widget-view+json": {
       "model_id": "7554bae821a24fa998ccf017be78ed2c",
       "version_major": 2,
       "version_minor": 0
      },
      "text/plain": [
       "HBox(children=(FloatProgress(value=0.0, description='epoch 204', max=699.0, style=ProgressStyle(description_wi…"
      ]
     },
     "metadata": {},
     "output_type": "display_data"
    },
    {
     "name": "stdout",
     "output_type": "stream",
     "text": [
      "\n",
      "Epoch 204: loss 241893.703125, emb_loss 241772.23010253906, mf_loss 121.64577166736126\n",
      "Validation loss decreased (243585.531250 --> 241893.703125).  Saving model ...\n"
     ]
    },
    {
     "data": {
      "application/vnd.jupyter.widget-view+json": {
       "model_id": "9ffb42a309cf43d7b852c794231312c6",
       "version_major": 2,
       "version_minor": 0
      },
      "text/plain": [
       "HBox(children=(FloatProgress(value=0.0, description='epoch 205', max=699.0, style=ProgressStyle(description_wi…"
      ]
     },
     "metadata": {},
     "output_type": "display_data"
    },
    {
     "name": "stdout",
     "output_type": "stream",
     "text": [
      "\n",
      "Epoch 205: loss 240184.25, emb_loss 240062.59365844727, mf_loss 121.76712104678154\n",
      "Validation loss decreased (241893.703125 --> 240184.250000).  Saving model ...\n"
     ]
    },
    {
     "data": {
      "application/vnd.jupyter.widget-view+json": {
       "model_id": "5f685618d9b548caac314f412b8ee0f8",
       "version_major": 2,
       "version_minor": 0
      },
      "text/plain": [
       "HBox(children=(FloatProgress(value=0.0, description='epoch 206', max=699.0, style=ProgressStyle(description_wi…"
      ]
     },
     "metadata": {},
     "output_type": "display_data"
    },
    {
     "name": "stdout",
     "output_type": "stream",
     "text": [
      "\n",
      "Epoch 206: loss 238516.015625, emb_loss 238393.7241821289, mf_loss 122.20782792568207\n",
      "Validation loss decreased (240184.250000 --> 238516.015625).  Saving model ...\n"
     ]
    },
    {
     "data": {
      "application/vnd.jupyter.widget-view+json": {
       "model_id": "fccf71b4761f4b63a05ac6d2d32181de",
       "version_major": 2,
       "version_minor": 0
      },
      "text/plain": [
       "HBox(children=(FloatProgress(value=0.0, description='epoch 207', max=699.0, style=ProgressStyle(description_wi…"
      ]
     },
     "metadata": {},
     "output_type": "display_data"
    },
    {
     "name": "stdout",
     "output_type": "stream",
     "text": [
      "\n",
      "Epoch 207: loss 237013.125, emb_loss 236891.02404785156, mf_loss 122.04593899846077\n",
      "Validation loss decreased (238516.015625 --> 237013.125000).  Saving model ...\n"
     ]
    },
    {
     "data": {
      "application/vnd.jupyter.widget-view+json": {
       "model_id": "931752e213c148128b953e6ff72d1bce",
       "version_major": 2,
       "version_minor": 0
      },
      "text/plain": [
       "HBox(children=(FloatProgress(value=0.0, description='epoch 208', max=699.0, style=ProgressStyle(description_wi…"
      ]
     },
     "metadata": {},
     "output_type": "display_data"
    },
    {
     "name": "stdout",
     "output_type": "stream",
     "text": [
      "\n",
      "Epoch 208: loss 235582.0625, emb_loss 235459.63815307617, mf_loss 122.51968589425087\n",
      "Validation loss decreased (237013.125000 --> 235582.062500).  Saving model ...\n"
     ]
    },
    {
     "data": {
      "application/vnd.jupyter.widget-view+json": {
       "model_id": "72bb75d9b5654ff087f174247a6a890f",
       "version_major": 2,
       "version_minor": 0
      },
      "text/plain": [
       "HBox(children=(FloatProgress(value=0.0, description='epoch 209', max=699.0, style=ProgressStyle(description_wi…"
      ]
     },
     "metadata": {},
     "output_type": "display_data"
    },
    {
     "name": "stdout",
     "output_type": "stream",
     "text": [
      "\n",
      "Epoch 209: loss 234112.171875, emb_loss 233989.22229003906, mf_loss 122.9388562142849\n",
      "Validation loss decreased (235582.062500 --> 234112.171875).  Saving model ...\n"
     ]
    },
    {
     "data": {
      "application/vnd.jupyter.widget-view+json": {
       "model_id": "ac886c35ad8945b48de140a2aa4e644f",
       "version_major": 2,
       "version_minor": 0
      },
      "text/plain": [
       "HBox(children=(FloatProgress(value=0.0, description='epoch 210', max=699.0, style=ProgressStyle(description_wi…"
      ]
     },
     "metadata": {},
     "output_type": "display_data"
    },
    {
     "name": "stdout",
     "output_type": "stream",
     "text": [
      "\n",
      "Epoch 210: loss 232526.453125, emb_loss 232403.14395141602, mf_loss 123.0849606692791\n",
      "Validation loss decreased (234112.171875 --> 232526.453125).  Saving model ...\n"
     ]
    },
    {
     "data": {
      "application/vnd.jupyter.widget-view+json": {
       "model_id": "c7c5c8a057b444909de0cb6a120c2446",
       "version_major": 2,
       "version_minor": 0
      },
      "text/plain": [
       "HBox(children=(FloatProgress(value=0.0, description='epoch 211', max=699.0, style=ProgressStyle(description_wi…"
      ]
     },
     "metadata": {},
     "output_type": "display_data"
    },
    {
     "name": "stdout",
     "output_type": "stream",
     "text": [
      "\n",
      "Epoch 211: loss 230966.5, emb_loss 230843.1707763672, mf_loss 123.38334666192532\n",
      "Validation loss decreased (232526.453125 --> 230966.500000).  Saving model ...\n"
     ]
    },
    {
     "data": {
      "application/vnd.jupyter.widget-view+json": {
       "model_id": "3b6bea4425024798b3621945efdd48e0",
       "version_major": 2,
       "version_minor": 0
      },
      "text/plain": [
       "HBox(children=(FloatProgress(value=0.0, description='epoch 212', max=699.0, style=ProgressStyle(description_wi…"
      ]
     },
     "metadata": {},
     "output_type": "display_data"
    },
    {
     "name": "stdout",
     "output_type": "stream",
     "text": [
      "\n",
      "Epoch 212: loss 229470.625, emb_loss 229346.8464050293, mf_loss 123.6679689437151\n",
      "Validation loss decreased (230966.500000 --> 229470.625000).  Saving model ...\n"
     ]
    },
    {
     "data": {
      "application/vnd.jupyter.widget-view+json": {
       "model_id": "4a3e152f735d41e99a6913777e371f41",
       "version_major": 2,
       "version_minor": 0
      },
      "text/plain": [
       "HBox(children=(FloatProgress(value=0.0, description='epoch 213', max=699.0, style=ProgressStyle(description_wi…"
      ]
     },
     "metadata": {},
     "output_type": "display_data"
    },
    {
     "name": "stdout",
     "output_type": "stream",
     "text": [
      "\n",
      "Epoch 213: loss 227993.046875, emb_loss 227868.89764404297, mf_loss 124.1067435592413\n",
      "Validation loss decreased (229470.625000 --> 227993.046875).  Saving model ...\n"
     ]
    },
    {
     "data": {
      "application/vnd.jupyter.widget-view+json": {
       "model_id": "f4932075711b45b39d56af70b6cb1da5",
       "version_major": 2,
       "version_minor": 0
      },
      "text/plain": [
       "HBox(children=(FloatProgress(value=0.0, description='epoch 214', max=699.0, style=ProgressStyle(description_wi…"
      ]
     },
     "metadata": {},
     "output_type": "display_data"
    },
    {
     "name": "stdout",
     "output_type": "stream",
     "text": [
      "\n",
      "Epoch 214: loss 226726.046875, emb_loss 226601.86697387695, mf_loss 123.95243203639984\n",
      "Validation loss decreased (227993.046875 --> 226726.046875).  Saving model ...\n"
     ]
    },
    {
     "data": {
      "application/vnd.jupyter.widget-view+json": {
       "model_id": "3434ba5ea94d4bd790e15619083c6739",
       "version_major": 2,
       "version_minor": 0
      },
      "text/plain": [
       "HBox(children=(FloatProgress(value=0.0, description='epoch 215', max=699.0, style=ProgressStyle(description_wi…"
      ]
     },
     "metadata": {},
     "output_type": "display_data"
    },
    {
     "name": "stdout",
     "output_type": "stream",
     "text": [
      "\n",
      "Epoch 215: loss 225098.09375, emb_loss 224973.63012695312, mf_loss 124.60731014609337\n",
      "Validation loss decreased (226726.046875 --> 225098.093750).  Saving model ...\n"
     ]
    },
    {
     "data": {
      "application/vnd.jupyter.widget-view+json": {
       "model_id": "e6c45ac545134e74abeb79d3367734fb",
       "version_major": 2,
       "version_minor": 0
      },
      "text/plain": [
       "HBox(children=(FloatProgress(value=0.0, description='epoch 216', max=699.0, style=ProgressStyle(description_wi…"
      ]
     },
     "metadata": {},
     "output_type": "display_data"
    },
    {
     "name": "stdout",
     "output_type": "stream",
     "text": [
      "\n",
      "Epoch 216: loss 223760.5, emb_loss 223636.39221191406, mf_loss 124.22494854032993\n",
      "Validation loss decreased (225098.093750 --> 223760.500000).  Saving model ...\n"
     ]
    },
    {
     "data": {
      "application/vnd.jupyter.widget-view+json": {
       "model_id": "2fd37c819b904219abb1ea979d728e73",
       "version_major": 2,
       "version_minor": 0
      },
      "text/plain": [
       "HBox(children=(FloatProgress(value=0.0, description='epoch 217', max=699.0, style=ProgressStyle(description_wi…"
      ]
     },
     "metadata": {},
     "output_type": "display_data"
    },
    {
     "name": "stdout",
     "output_type": "stream",
     "text": [
      "\n",
      "Epoch 217: loss 222275.4375, emb_loss 222150.29638671875, mf_loss 125.14731039106846\n",
      "Validation loss decreased (223760.500000 --> 222275.437500).  Saving model ...\n"
     ]
    },
    {
     "data": {
      "application/vnd.jupyter.widget-view+json": {
       "model_id": "d6f56714c4cc4df9aa237c67bf02442a",
       "version_major": 2,
       "version_minor": 0
      },
      "text/plain": [
       "HBox(children=(FloatProgress(value=0.0, description='epoch 218', max=699.0, style=ProgressStyle(description_wi…"
      ]
     },
     "metadata": {},
     "output_type": "display_data"
    },
    {
     "name": "stdout",
     "output_type": "stream",
     "text": [
      "\n",
      "Epoch 218: loss 220763.984375, emb_loss 220639.13446044922, mf_loss 124.93035154044628\n",
      "Validation loss decreased (222275.437500 --> 220763.984375).  Saving model ...\n"
     ]
    },
    {
     "data": {
      "application/vnd.jupyter.widget-view+json": {
       "model_id": "9fd79f5ecd1d47cd82d4332d667be65e",
       "version_major": 2,
       "version_minor": 0
      },
      "text/plain": [
       "HBox(children=(FloatProgress(value=0.0, description='epoch 219', max=699.0, style=ProgressStyle(description_wi…"
      ]
     },
     "metadata": {},
     "output_type": "display_data"
    },
    {
     "name": "stdout",
     "output_type": "stream",
     "text": [
      "\n",
      "Epoch 219: loss 219509.28125, emb_loss 219383.67977905273, mf_loss 125.76184272766113\n",
      "Validation loss decreased (220763.984375 --> 219509.281250).  Saving model ...\n"
     ]
    },
    {
     "data": {
      "application/vnd.jupyter.widget-view+json": {
       "model_id": "42341bb38bbb41f38d468dabebd0e7e8",
       "version_major": 2,
       "version_minor": 0
      },
      "text/plain": [
       "HBox(children=(FloatProgress(value=0.0, description='epoch 220', max=699.0, style=ProgressStyle(description_wi…"
      ]
     },
     "metadata": {},
     "output_type": "display_data"
    },
    {
     "name": "stdout",
     "output_type": "stream",
     "text": [
      "\n",
      "Epoch 220: loss 217911.015625, emb_loss 217785.3680114746, mf_loss 125.7432367503643\n",
      "Validation loss decreased (219509.281250 --> 217911.015625).  Saving model ...\n"
     ]
    },
    {
     "data": {
      "application/vnd.jupyter.widget-view+json": {
       "model_id": "44e12a279944404e838d7619dfe7754b",
       "version_major": 2,
       "version_minor": 0
      },
      "text/plain": [
       "HBox(children=(FloatProgress(value=0.0, description='epoch 221', max=699.0, style=ProgressStyle(description_wi…"
      ]
     },
     "metadata": {},
     "output_type": "display_data"
    },
    {
     "name": "stdout",
     "output_type": "stream",
     "text": [
      "\n",
      "Epoch 221: loss 216619.421875, emb_loss 216493.72830200195, mf_loss 125.65193800628185\n",
      "Validation loss decreased (217911.015625 --> 216619.421875).  Saving model ...\n"
     ]
    },
    {
     "data": {
      "application/vnd.jupyter.widget-view+json": {
       "model_id": "0efa1a6b59cf4bb7b906014beee4c759",
       "version_major": 2,
       "version_minor": 0
      },
      "text/plain": [
       "HBox(children=(FloatProgress(value=0.0, description='epoch 222', max=699.0, style=ProgressStyle(description_wi…"
      ]
     },
     "metadata": {},
     "output_type": "display_data"
    },
    {
     "name": "stdout",
     "output_type": "stream",
     "text": [
      "\n",
      "Epoch 222: loss 215254.453125, emb_loss 215128.69842529297, mf_loss 126.07630164921284\n",
      "Validation loss decreased (216619.421875 --> 215254.453125).  Saving model ...\n"
     ]
    },
    {
     "data": {
      "application/vnd.jupyter.widget-view+json": {
       "model_id": "583dc07ffb0944b6ba3d544c4e6a1e68",
       "version_major": 2,
       "version_minor": 0
      },
      "text/plain": [
       "HBox(children=(FloatProgress(value=0.0, description='epoch 223', max=699.0, style=ProgressStyle(description_wi…"
      ]
     },
     "metadata": {},
     "output_type": "display_data"
    },
    {
     "name": "stdout",
     "output_type": "stream",
     "text": [
      "\n",
      "Epoch 223: loss 213559.390625, emb_loss 213432.8946838379, mf_loss 126.47536002099514\n",
      "Validation loss decreased (215254.453125 --> 213559.390625).  Saving model ...\n"
     ]
    },
    {
     "data": {
      "application/vnd.jupyter.widget-view+json": {
       "model_id": "5ecf70e461d04f03b8462ee1b83c5a18",
       "version_major": 2,
       "version_minor": 0
      },
      "text/plain": [
       "HBox(children=(FloatProgress(value=0.0, description='epoch 224', max=699.0, style=ProgressStyle(description_wi…"
      ]
     },
     "metadata": {},
     "output_type": "display_data"
    },
    {
     "name": "stdout",
     "output_type": "stream",
     "text": [
      "\n",
      "Epoch 224: loss 212430.65625, emb_loss 212304.01681518555, mf_loss 126.6238649636507\n",
      "Validation loss decreased (213559.390625 --> 212430.656250).  Saving model ...\n"
     ]
    },
    {
     "data": {
      "application/vnd.jupyter.widget-view+json": {
       "model_id": "0d084855cb704748b32ffcb7a9cecd1b",
       "version_major": 2,
       "version_minor": 0
      },
      "text/plain": [
       "HBox(children=(FloatProgress(value=0.0, description='epoch 225', max=699.0, style=ProgressStyle(description_wi…"
      ]
     },
     "metadata": {},
     "output_type": "display_data"
    },
    {
     "name": "stdout",
     "output_type": "stream",
     "text": [
      "\n",
      "Epoch 225: loss 210939.84375, emb_loss 210812.98028564453, mf_loss 126.94557696580887\n",
      "Validation loss decreased (212430.656250 --> 210939.843750).  Saving model ...\n"
     ]
    },
    {
     "data": {
      "application/vnd.jupyter.widget-view+json": {
       "model_id": "5bdc891900754bee9158844be3358736",
       "version_major": 2,
       "version_minor": 0
      },
      "text/plain": [
       "HBox(children=(FloatProgress(value=0.0, description='epoch 226', max=699.0, style=ProgressStyle(description_wi…"
      ]
     },
     "metadata": {},
     "output_type": "display_data"
    },
    {
     "name": "stdout",
     "output_type": "stream",
     "text": [
      "\n",
      "Epoch 226: loss 209464.96875, emb_loss 209337.56939697266, mf_loss 127.33493292331696\n",
      "Validation loss decreased (210939.843750 --> 209464.968750).  Saving model ...\n"
     ]
    },
    {
     "data": {
      "application/vnd.jupyter.widget-view+json": {
       "model_id": "3b3a9c093e7f48aa988d769e76cdcb74",
       "version_major": 2,
       "version_minor": 0
      },
      "text/plain": [
       "HBox(children=(FloatProgress(value=0.0, description='epoch 227', max=699.0, style=ProgressStyle(description_wi…"
      ]
     },
     "metadata": {},
     "output_type": "display_data"
    },
    {
     "name": "stdout",
     "output_type": "stream",
     "text": [
      "\n",
      "Epoch 227: loss 208302.703125, emb_loss 208174.8969116211, mf_loss 127.72713968157768\n",
      "Validation loss decreased (209464.968750 --> 208302.703125).  Saving model ...\n"
     ]
    },
    {
     "data": {
      "application/vnd.jupyter.widget-view+json": {
       "model_id": "9b9a127c2d344228976a7a40a27b2ff0",
       "version_major": 2,
       "version_minor": 0
      },
      "text/plain": [
       "HBox(children=(FloatProgress(value=0.0, description='epoch 228', max=699.0, style=ProgressStyle(description_wi…"
      ]
     },
     "metadata": {},
     "output_type": "display_data"
    },
    {
     "name": "stdout",
     "output_type": "stream",
     "text": [
      "\n",
      "Epoch 228: loss 206885.484375, emb_loss 206757.6068725586, mf_loss 127.9155241549015\n",
      "Validation loss decreased (208302.703125 --> 206885.484375).  Saving model ...\n"
     ]
    },
    {
     "data": {
      "application/vnd.jupyter.widget-view+json": {
       "model_id": "16d0ee179f98478ab924c3156964daf5",
       "version_major": 2,
       "version_minor": 0
      },
      "text/plain": [
       "HBox(children=(FloatProgress(value=0.0, description='epoch 229', max=699.0, style=ProgressStyle(description_wi…"
      ]
     },
     "metadata": {},
     "output_type": "display_data"
    },
    {
     "name": "stdout",
     "output_type": "stream",
     "text": [
      "\n",
      "Epoch 229: loss 205438.515625, emb_loss 205310.17520141602, mf_loss 128.2389614880085\n",
      "Validation loss decreased (206885.484375 --> 205438.515625).  Saving model ...\n"
     ]
    },
    {
     "data": {
      "application/vnd.jupyter.widget-view+json": {
       "model_id": "3e8c204bf94c4911b26a4a5fc6de9e35",
       "version_major": 2,
       "version_minor": 0
      },
      "text/plain": [
       "HBox(children=(FloatProgress(value=0.0, description='epoch 230', max=699.0, style=ProgressStyle(description_wi…"
      ]
     },
     "metadata": {},
     "output_type": "display_data"
    },
    {
     "name": "stdout",
     "output_type": "stream",
     "text": [
      "\n",
      "Epoch 230: loss 204176.65625, emb_loss 204048.24609375, mf_loss 128.33957670629025\n",
      "Validation loss decreased (205438.515625 --> 204176.656250).  Saving model ...\n"
     ]
    },
    {
     "data": {
      "application/vnd.jupyter.widget-view+json": {
       "model_id": "7a4c4aa1ee2f4dfe9a1dab98971d787e",
       "version_major": 2,
       "version_minor": 0
      },
      "text/plain": [
       "HBox(children=(FloatProgress(value=0.0, description='epoch 231', max=699.0, style=ProgressStyle(description_wi…"
      ]
     },
     "metadata": {},
     "output_type": "display_data"
    },
    {
     "name": "stdout",
     "output_type": "stream",
     "text": [
      "\n",
      "Epoch 231: loss 202840.203125, emb_loss 202711.29330444336, mf_loss 128.88526901602745\n",
      "Validation loss decreased (204176.656250 --> 202840.203125).  Saving model ...\n"
     ]
    },
    {
     "data": {
      "application/vnd.jupyter.widget-view+json": {
       "model_id": "8ff2066005144aa08155187304478e59",
       "version_major": 2,
       "version_minor": 0
      },
      "text/plain": [
       "HBox(children=(FloatProgress(value=0.0, description='epoch 232', max=699.0, style=ProgressStyle(description_wi…"
      ]
     },
     "metadata": {},
     "output_type": "display_data"
    },
    {
     "name": "stdout",
     "output_type": "stream",
     "text": [
      "\n",
      "Epoch 232: loss 201446.140625, emb_loss 201317.4519958496, mf_loss 128.81863640248775\n",
      "Validation loss decreased (202840.203125 --> 201446.140625).  Saving model ...\n"
     ]
    },
    {
     "data": {
      "application/vnd.jupyter.widget-view+json": {
       "model_id": "a0861c69592048888cccae8bf220fe17",
       "version_major": 2,
       "version_minor": 0
      },
      "text/plain": [
       "HBox(children=(FloatProgress(value=0.0, description='epoch 233', max=699.0, style=ProgressStyle(description_wi…"
      ]
     },
     "metadata": {},
     "output_type": "display_data"
    },
    {
     "name": "stdout",
     "output_type": "stream",
     "text": [
      "\n",
      "Epoch 233: loss 200198.578125, emb_loss 200069.70587158203, mf_loss 128.89752373099327\n",
      "Validation loss decreased (201446.140625 --> 200198.578125).  Saving model ...\n"
     ]
    },
    {
     "data": {
      "application/vnd.jupyter.widget-view+json": {
       "model_id": "61dffb81dfd1414e8db463ba72cf0979",
       "version_major": 2,
       "version_minor": 0
      },
      "text/plain": [
       "HBox(children=(FloatProgress(value=0.0, description='epoch 234', max=699.0, style=ProgressStyle(description_wi…"
      ]
     },
     "metadata": {},
     "output_type": "display_data"
    },
    {
     "name": "stdout",
     "output_type": "stream",
     "text": [
      "\n",
      "Epoch 234: loss 199098.359375, emb_loss 198969.13571166992, mf_loss 129.38171882927418\n",
      "Validation loss decreased (200198.578125 --> 199098.359375).  Saving model ...\n"
     ]
    },
    {
     "data": {
      "application/vnd.jupyter.widget-view+json": {
       "model_id": "a839ecba35b745379aa26fd678c0fc5b",
       "version_major": 2,
       "version_minor": 0
      },
      "text/plain": [
       "HBox(children=(FloatProgress(value=0.0, description='epoch 235', max=699.0, style=ProgressStyle(description_wi…"
      ]
     },
     "metadata": {},
     "output_type": "display_data"
    },
    {
     "name": "stdout",
     "output_type": "stream",
     "text": [
      "\n",
      "Epoch 235: loss 197633.28125, emb_loss 197503.78875732422, mf_loss 129.65356566011906\n",
      "Validation loss decreased (199098.359375 --> 197633.281250).  Saving model ...\n"
     ]
    },
    {
     "data": {
      "application/vnd.jupyter.widget-view+json": {
       "model_id": "d84c4b64afc54ee8beb2635c544f2f7b",
       "version_major": 2,
       "version_minor": 0
      },
      "text/plain": [
       "HBox(children=(FloatProgress(value=0.0, description='epoch 236', max=699.0, style=ProgressStyle(description_wi…"
      ]
     },
     "metadata": {},
     "output_type": "display_data"
    },
    {
     "name": "stdout",
     "output_type": "stream",
     "text": [
      "\n",
      "Epoch 236: loss 196305.890625, emb_loss 196175.69049072266, mf_loss 130.1198918223381\n",
      "Validation loss decreased (197633.281250 --> 196305.890625).  Saving model ...\n"
     ]
    },
    {
     "data": {
      "application/vnd.jupyter.widget-view+json": {
       "model_id": "8fe29ebc9db0456db9040e538f69b986",
       "version_major": 2,
       "version_minor": 0
      },
      "text/plain": [
       "HBox(children=(FloatProgress(value=0.0, description='epoch 237', max=699.0, style=ProgressStyle(description_wi…"
      ]
     },
     "metadata": {},
     "output_type": "display_data"
    },
    {
     "name": "stdout",
     "output_type": "stream",
     "text": [
      "\n",
      "Epoch 237: loss 195219.875, emb_loss 195089.67651367188, mf_loss 130.22437262535095\n",
      "Validation loss decreased (196305.890625 --> 195219.875000).  Saving model ...\n"
     ]
    },
    {
     "data": {
      "application/vnd.jupyter.widget-view+json": {
       "model_id": "3d4bd087b3c947e2b20d39ed5cc3a42f",
       "version_major": 2,
       "version_minor": 0
      },
      "text/plain": [
       "HBox(children=(FloatProgress(value=0.0, description='epoch 238', max=699.0, style=ProgressStyle(description_wi…"
      ]
     },
     "metadata": {},
     "output_type": "display_data"
    },
    {
     "name": "stdout",
     "output_type": "stream",
     "text": [
      "\n",
      "Epoch 238: loss 193791.34375, emb_loss 193660.45352172852, mf_loss 130.85803127288818\n",
      "Validation loss decreased (195219.875000 --> 193791.343750).  Saving model ...\n"
     ]
    },
    {
     "data": {
      "application/vnd.jupyter.widget-view+json": {
       "model_id": "4fd64df959aa4a20bdcd760c73cbf246",
       "version_major": 2,
       "version_minor": 0
      },
      "text/plain": [
       "HBox(children=(FloatProgress(value=0.0, description='epoch 239', max=699.0, style=ProgressStyle(description_wi…"
      ]
     },
     "metadata": {},
     "output_type": "display_data"
    },
    {
     "name": "stdout",
     "output_type": "stream",
     "text": [
      "\n",
      "Epoch 239: loss 192506.578125, emb_loss 192375.72647094727, mf_loss 130.71408155560493\n",
      "Validation loss decreased (193791.343750 --> 192506.578125).  Saving model ...\n"
     ]
    },
    {
     "data": {
      "application/vnd.jupyter.widget-view+json": {
       "model_id": "6bbd06bc3898467b82c680fae4863f02",
       "version_major": 2,
       "version_minor": 0
      },
      "text/plain": [
       "HBox(children=(FloatProgress(value=0.0, description='epoch 240', max=699.0, style=ProgressStyle(description_wi…"
      ]
     },
     "metadata": {},
     "output_type": "display_data"
    },
    {
     "name": "stdout",
     "output_type": "stream",
     "text": [
      "\n",
      "Epoch 240: loss 191274.203125, emb_loss 191143.0001525879, mf_loss 131.13794104754925\n",
      "Validation loss decreased (192506.578125 --> 191274.203125).  Saving model ...\n"
     ]
    },
    {
     "data": {
      "application/vnd.jupyter.widget-view+json": {
       "model_id": "8a5b2a8b03c645489aaaca48843ea4dd",
       "version_major": 2,
       "version_minor": 0
      },
      "text/plain": [
       "HBox(children=(FloatProgress(value=0.0, description='epoch 241', max=699.0, style=ProgressStyle(description_wi…"
      ]
     },
     "metadata": {},
     "output_type": "display_data"
    },
    {
     "name": "stdout",
     "output_type": "stream",
     "text": [
      "\n",
      "Epoch 241: loss 190059.34375, emb_loss 189927.91564941406, mf_loss 131.4331896752119\n",
      "Validation loss decreased (191274.203125 --> 190059.343750).  Saving model ...\n"
     ]
    },
    {
     "data": {
      "application/vnd.jupyter.widget-view+json": {
       "model_id": "d48f891747ad4689b82f374075cc96c3",
       "version_major": 2,
       "version_minor": 0
      },
      "text/plain": [
       "HBox(children=(FloatProgress(value=0.0, description='epoch 242', max=699.0, style=ProgressStyle(description_wi…"
      ]
     },
     "metadata": {},
     "output_type": "display_data"
    },
    {
     "name": "stdout",
     "output_type": "stream",
     "text": [
      "\n",
      "Epoch 242: loss 188991.421875, emb_loss 188859.6553955078, mf_loss 131.79514871537685\n",
      "Validation loss decreased (190059.343750 --> 188991.421875).  Saving model ...\n"
     ]
    },
    {
     "data": {
      "application/vnd.jupyter.widget-view+json": {
       "model_id": "af7149e1065245db88ce4bf1124503e5",
       "version_major": 2,
       "version_minor": 0
      },
      "text/plain": [
       "HBox(children=(FloatProgress(value=0.0, description='epoch 243', max=699.0, style=ProgressStyle(description_wi…"
      ]
     },
     "metadata": {},
     "output_type": "display_data"
    },
    {
     "name": "stdout",
     "output_type": "stream",
     "text": [
      "\n",
      "Epoch 243: loss 187711.109375, emb_loss 187579.58337402344, mf_loss 131.66783419251442\n",
      "Validation loss decreased (188991.421875 --> 187711.109375).  Saving model ...\n"
     ]
    },
    {
     "data": {
      "application/vnd.jupyter.widget-view+json": {
       "model_id": "56fd8abaff7c4470a39e1895eba24376",
       "version_major": 2,
       "version_minor": 0
      },
      "text/plain": [
       "HBox(children=(FloatProgress(value=0.0, description='epoch 244', max=699.0, style=ProgressStyle(description_wi…"
      ]
     },
     "metadata": {},
     "output_type": "display_data"
    },
    {
     "name": "stdout",
     "output_type": "stream",
     "text": [
      "\n",
      "Epoch 244: loss 186426.765625, emb_loss 186294.31802368164, mf_loss 132.2860478758812\n",
      "Validation loss decreased (187711.109375 --> 186426.765625).  Saving model ...\n"
     ]
    },
    {
     "data": {
      "application/vnd.jupyter.widget-view+json": {
       "model_id": "b94cdcab505d43e488c168a39403b5d8",
       "version_major": 2,
       "version_minor": 0
      },
      "text/plain": [
       "HBox(children=(FloatProgress(value=0.0, description='epoch 245', max=699.0, style=ProgressStyle(description_wi…"
      ]
     },
     "metadata": {},
     "output_type": "display_data"
    },
    {
     "name": "stdout",
     "output_type": "stream",
     "text": [
      "\n",
      "Epoch 245: loss 185109.875, emb_loss 184977.67907714844, mf_loss 132.36653931438923\n",
      "Validation loss decreased (186426.765625 --> 185109.875000).  Saving model ...\n"
     ]
    },
    {
     "data": {
      "application/vnd.jupyter.widget-view+json": {
       "model_id": "7a7da8ac7d7e4c3b94e5550e8bab248a",
       "version_major": 2,
       "version_minor": 0
      },
      "text/plain": [
       "HBox(children=(FloatProgress(value=0.0, description='epoch 246', max=699.0, style=ProgressStyle(description_wi…"
      ]
     },
     "metadata": {},
     "output_type": "display_data"
    },
    {
     "name": "stdout",
     "output_type": "stream",
     "text": [
      "\n",
      "Epoch 246: loss 183876.25, emb_loss 183743.62310791016, mf_loss 132.75503516197205\n",
      "Validation loss decreased (185109.875000 --> 183876.250000).  Saving model ...\n"
     ]
    },
    {
     "data": {
      "application/vnd.jupyter.widget-view+json": {
       "model_id": "4d3d6d007c054facb8c64f6dd96aa6a6",
       "version_major": 2,
       "version_minor": 0
      },
      "text/plain": [
       "HBox(children=(FloatProgress(value=0.0, description='epoch 247', max=699.0, style=ProgressStyle(description_wi…"
      ]
     },
     "metadata": {},
     "output_type": "display_data"
    },
    {
     "name": "stdout",
     "output_type": "stream",
     "text": [
      "\n",
      "Epoch 247: loss 182866.171875, emb_loss 182733.12466430664, mf_loss 133.0493036955595\n",
      "Validation loss decreased (183876.250000 --> 182866.171875).  Saving model ...\n"
     ]
    },
    {
     "data": {
      "application/vnd.jupyter.widget-view+json": {
       "model_id": "ea28b815b98b422187255c3901620236",
       "version_major": 2,
       "version_minor": 0
      },
      "text/plain": [
       "HBox(children=(FloatProgress(value=0.0, description='epoch 248', max=699.0, style=ProgressStyle(description_wi…"
      ]
     },
     "metadata": {},
     "output_type": "display_data"
    },
    {
     "name": "stdout",
     "output_type": "stream",
     "text": [
      "\n",
      "Epoch 248: loss 181674.96875, emb_loss 181541.89617919922, mf_loss 133.11301870644093\n",
      "Validation loss decreased (182866.171875 --> 181674.968750).  Saving model ...\n"
     ]
    },
    {
     "data": {
      "application/vnd.jupyter.widget-view+json": {
       "model_id": "8f3ce6b0aff74128b9e527b71c67e3c8",
       "version_major": 2,
       "version_minor": 0
      },
      "text/plain": [
       "HBox(children=(FloatProgress(value=0.0, description='epoch 249', max=699.0, style=ProgressStyle(description_wi…"
      ]
     },
     "metadata": {},
     "output_type": "display_data"
    },
    {
     "name": "stdout",
     "output_type": "stream",
     "text": [
      "\n",
      "Epoch 249: loss 180512.625, emb_loss 180378.45851135254, mf_loss 134.0112546980381\n",
      "Validation loss decreased (181674.968750 --> 180512.625000).  Saving model ...\n"
     ]
    },
    {
     "data": {
      "application/vnd.jupyter.widget-view+json": {
       "model_id": "b7faaec11ff6474d8e3eba49708f1e67",
       "version_major": 2,
       "version_minor": 0
      },
      "text/plain": [
       "HBox(children=(FloatProgress(value=0.0, description='epoch 250', max=699.0, style=ProgressStyle(description_wi…"
      ]
     },
     "metadata": {},
     "output_type": "display_data"
    },
    {
     "name": "stdout",
     "output_type": "stream",
     "text": [
      "\n",
      "Epoch 250: loss 179116.125, emb_loss 178981.89405822754, mf_loss 134.09369039535522\n",
      "Validation loss decreased (180512.625000 --> 179116.125000).  Saving model ...\n"
     ]
    },
    {
     "data": {
      "application/vnd.jupyter.widget-view+json": {
       "model_id": "c779fffd8bfa42098c1fe6f316a39815",
       "version_major": 2,
       "version_minor": 0
      },
      "text/plain": [
       "HBox(children=(FloatProgress(value=0.0, description='epoch 251', max=699.0, style=ProgressStyle(description_wi…"
      ]
     },
     "metadata": {},
     "output_type": "display_data"
    },
    {
     "name": "stdout",
     "output_type": "stream",
     "text": [
      "\n",
      "Epoch 251: loss 178078.90625, emb_loss 177944.39234924316, mf_loss 134.53254763782024\n",
      "Validation loss decreased (179116.125000 --> 178078.906250).  Saving model ...\n"
     ]
    },
    {
     "data": {
      "application/vnd.jupyter.widget-view+json": {
       "model_id": "509176a0504040bbaa631a5684d65daf",
       "version_major": 2,
       "version_minor": 0
      },
      "text/plain": [
       "HBox(children=(FloatProgress(value=0.0, description='epoch 252', max=699.0, style=ProgressStyle(description_wi…"
      ]
     },
     "metadata": {},
     "output_type": "display_data"
    },
    {
     "name": "stdout",
     "output_type": "stream",
     "text": [
      "\n",
      "Epoch 252: loss 176907.34375, emb_loss 176772.36665344238, mf_loss 135.14618876576424\n",
      "Validation loss decreased (178078.906250 --> 176907.343750).  Saving model ...\n"
     ]
    },
    {
     "data": {
      "application/vnd.jupyter.widget-view+json": {
       "model_id": "ae2b79a1e911403cbb31930824d0f9b5",
       "version_major": 2,
       "version_minor": 0
      },
      "text/plain": [
       "HBox(children=(FloatProgress(value=0.0, description='epoch 253', max=699.0, style=ProgressStyle(description_wi…"
      ]
     },
     "metadata": {},
     "output_type": "display_data"
    },
    {
     "name": "stdout",
     "output_type": "stream",
     "text": [
      "\n",
      "Epoch 253: loss 175739.390625, emb_loss 175604.3448486328, mf_loss 134.96867686510086\n",
      "Validation loss decreased (176907.343750 --> 175739.390625).  Saving model ...\n"
     ]
    },
    {
     "data": {
      "application/vnd.jupyter.widget-view+json": {
       "model_id": "e166f8cc10b640fb87fe5ac0540b2eee",
       "version_major": 2,
       "version_minor": 0
      },
      "text/plain": [
       "HBox(children=(FloatProgress(value=0.0, description='epoch 254', max=699.0, style=ProgressStyle(description_wi…"
      ]
     },
     "metadata": {},
     "output_type": "display_data"
    },
    {
     "name": "stdout",
     "output_type": "stream",
     "text": [
      "\n",
      "Epoch 254: loss 174826.140625, emb_loss 174691.0429534912, mf_loss 135.0777314454317\n",
      "Validation loss decreased (175739.390625 --> 174826.140625).  Saving model ...\n"
     ]
    },
    {
     "data": {
      "application/vnd.jupyter.widget-view+json": {
       "model_id": "e57e96bbf9ad4b7abd7bcd5800b52546",
       "version_major": 2,
       "version_minor": 0
      },
      "text/plain": [
       "HBox(children=(FloatProgress(value=0.0, description='epoch 255', max=699.0, style=ProgressStyle(description_wi…"
      ]
     },
     "metadata": {},
     "output_type": "display_data"
    },
    {
     "name": "stdout",
     "output_type": "stream",
     "text": [
      "\n",
      "Epoch 255: loss 173569.453125, emb_loss 173433.84120178223, mf_loss 135.47857935726643\n",
      "Validation loss decreased (174826.140625 --> 173569.453125).  Saving model ...\n"
     ]
    },
    {
     "data": {
      "application/vnd.jupyter.widget-view+json": {
       "model_id": "933bb903c528494c96450a681ef557bf",
       "version_major": 2,
       "version_minor": 0
      },
      "text/plain": [
       "HBox(children=(FloatProgress(value=0.0, description='epoch 256', max=699.0, style=ProgressStyle(description_wi…"
      ]
     },
     "metadata": {},
     "output_type": "display_data"
    },
    {
     "name": "stdout",
     "output_type": "stream",
     "text": [
      "\n",
      "Epoch 256: loss 172252.78125, emb_loss 172116.51322937012, mf_loss 136.18397918343544\n",
      "Validation loss decreased (173569.453125 --> 172252.781250).  Saving model ...\n"
     ]
    },
    {
     "data": {
      "application/vnd.jupyter.widget-view+json": {
       "model_id": "bac1649459e64df2a4df3e89fb28b4b5",
       "version_major": 2,
       "version_minor": 0
      },
      "text/plain": [
       "HBox(children=(FloatProgress(value=0.0, description='epoch 257', max=699.0, style=ProgressStyle(description_wi…"
      ]
     },
     "metadata": {},
     "output_type": "display_data"
    },
    {
     "name": "stdout",
     "output_type": "stream",
     "text": [
      "\n",
      "Epoch 257: loss 171249.484375, emb_loss 171113.25926208496, mf_loss 136.27316378057003\n",
      "Validation loss decreased (172252.781250 --> 171249.484375).  Saving model ...\n"
     ]
    },
    {
     "data": {
      "application/vnd.jupyter.widget-view+json": {
       "model_id": "5dfe603a7156492c9e1da269f94f918f",
       "version_major": 2,
       "version_minor": 0
      },
      "text/plain": [
       "HBox(children=(FloatProgress(value=0.0, description='epoch 258', max=699.0, style=ProgressStyle(description_wi…"
      ]
     },
     "metadata": {},
     "output_type": "display_data"
    },
    {
     "name": "stdout",
     "output_type": "stream",
     "text": [
      "\n",
      "Epoch 258: loss 170140.296875, emb_loss 170003.85418701172, mf_loss 136.36883433163166\n",
      "Validation loss decreased (171249.484375 --> 170140.296875).  Saving model ...\n"
     ]
    },
    {
     "data": {
      "application/vnd.jupyter.widget-view+json": {
       "model_id": "d7376e28bb3b4221871d7c552f43ae0d",
       "version_major": 2,
       "version_minor": 0
      },
      "text/plain": [
       "HBox(children=(FloatProgress(value=0.0, description='epoch 259', max=699.0, style=ProgressStyle(description_wi…"
      ]
     },
     "metadata": {},
     "output_type": "display_data"
    },
    {
     "name": "stdout",
     "output_type": "stream",
     "text": [
      "\n",
      "Epoch 259: loss 169020.5625, emb_loss 168883.7744293213, mf_loss 136.85602329671383\n",
      "Validation loss decreased (170140.296875 --> 169020.562500).  Saving model ...\n"
     ]
    },
    {
     "data": {
      "application/vnd.jupyter.widget-view+json": {
       "model_id": "1126568cda654fd199a8a482906e0eb3",
       "version_major": 2,
       "version_minor": 0
      },
      "text/plain": [
       "HBox(children=(FloatProgress(value=0.0, description='epoch 260', max=699.0, style=ProgressStyle(description_wi…"
      ]
     },
     "metadata": {},
     "output_type": "display_data"
    },
    {
     "name": "stdout",
     "output_type": "stream",
     "text": [
      "\n",
      "Epoch 260: loss 167899.71875, emb_loss 167762.58094787598, mf_loss 137.20520709455013\n",
      "Validation loss decreased (169020.562500 --> 167899.718750).  Saving model ...\n"
     ]
    },
    {
     "data": {
      "application/vnd.jupyter.widget-view+json": {
       "model_id": "2dbd5234e1bc47ebbf9c4867ee906f67",
       "version_major": 2,
       "version_minor": 0
      },
      "text/plain": [
       "HBox(children=(FloatProgress(value=0.0, description='epoch 261', max=699.0, style=ProgressStyle(description_wi…"
      ]
     },
     "metadata": {},
     "output_type": "display_data"
    },
    {
     "name": "stdout",
     "output_type": "stream",
     "text": [
      "\n",
      "Epoch 261: loss 166874.1875, emb_loss 166737.30221557617, mf_loss 136.89393138885498\n",
      "Validation loss decreased (167899.718750 --> 166874.187500).  Saving model ...\n"
     ]
    },
    {
     "data": {
      "application/vnd.jupyter.widget-view+json": {
       "model_id": "c492a2613fcc495a83ebc1634785fb55",
       "version_major": 2,
       "version_minor": 0
      },
      "text/plain": [
       "HBox(children=(FloatProgress(value=0.0, description='epoch 262', max=699.0, style=ProgressStyle(description_wi…"
      ]
     },
     "metadata": {},
     "output_type": "display_data"
    },
    {
     "name": "stdout",
     "output_type": "stream",
     "text": [
      "\n",
      "Epoch 262: loss 165757.984375, emb_loss 165620.43183898926, mf_loss 137.58422234654427\n",
      "Validation loss decreased (166874.187500 --> 165757.984375).  Saving model ...\n"
     ]
    },
    {
     "data": {
      "application/vnd.jupyter.widget-view+json": {
       "model_id": "9fd3a790cc284486b861aa7030debca1",
       "version_major": 2,
       "version_minor": 0
      },
      "text/plain": [
       "HBox(children=(FloatProgress(value=0.0, description='epoch 263', max=699.0, style=ProgressStyle(description_wi…"
      ]
     },
     "metadata": {},
     "output_type": "display_data"
    },
    {
     "name": "stdout",
     "output_type": "stream",
     "text": [
      "\n",
      "Epoch 263: loss 164580.6875, emb_loss 164442.36665344238, mf_loss 138.29200798273087\n",
      "Validation loss decreased (165757.984375 --> 164580.687500).  Saving model ...\n"
     ]
    },
    {
     "data": {
      "application/vnd.jupyter.widget-view+json": {
       "model_id": "d761b386c2df4293b52462e802b8fe44",
       "version_major": 2,
       "version_minor": 0
      },
      "text/plain": [
       "HBox(children=(FloatProgress(value=0.0, description='epoch 264', max=699.0, style=ProgressStyle(description_wi…"
      ]
     },
     "metadata": {},
     "output_type": "display_data"
    },
    {
     "name": "stdout",
     "output_type": "stream",
     "text": [
      "\n",
      "Epoch 264: loss 163445.765625, emb_loss 163307.623046875, mf_loss 138.31912848353386\n",
      "Validation loss decreased (164580.687500 --> 163445.765625).  Saving model ...\n"
     ]
    },
    {
     "data": {
      "application/vnd.jupyter.widget-view+json": {
       "model_id": "333096f54cc04ff08060380d028bdd39",
       "version_major": 2,
       "version_minor": 0
      },
      "text/plain": [
       "HBox(children=(FloatProgress(value=0.0, description='epoch 265', max=699.0, style=ProgressStyle(description_wi…"
      ]
     },
     "metadata": {},
     "output_type": "display_data"
    },
    {
     "name": "stdout",
     "output_type": "stream",
     "text": [
      "\n",
      "Epoch 265: loss 162559.03125, emb_loss 162420.53707885742, mf_loss 138.53754970431328\n",
      "Validation loss decreased (163445.765625 --> 162559.031250).  Saving model ...\n"
     ]
    },
    {
     "data": {
      "application/vnd.jupyter.widget-view+json": {
       "model_id": "b5d1fdb30904404c9963813d526316bf",
       "version_major": 2,
       "version_minor": 0
      },
      "text/plain": [
       "HBox(children=(FloatProgress(value=0.0, description='epoch 266', max=699.0, style=ProgressStyle(description_wi…"
      ]
     },
     "metadata": {},
     "output_type": "display_data"
    },
    {
     "name": "stdout",
     "output_type": "stream",
     "text": [
      "\n",
      "Epoch 266: loss 161531.5, emb_loss 161392.17903137207, mf_loss 139.35213826596737\n",
      "Validation loss decreased (162559.031250 --> 161531.500000).  Saving model ...\n"
     ]
    },
    {
     "data": {
      "application/vnd.jupyter.widget-view+json": {
       "model_id": "2c38871146004bb4b6921369d9179732",
       "version_major": 2,
       "version_minor": 0
      },
      "text/plain": [
       "HBox(children=(FloatProgress(value=0.0, description='epoch 267', max=699.0, style=ProgressStyle(description_wi…"
      ]
     },
     "metadata": {},
     "output_type": "display_data"
    },
    {
     "name": "stdout",
     "output_type": "stream",
     "text": [
      "\n",
      "Epoch 267: loss 160305.859375, emb_loss 160166.2667541504, mf_loss 139.38183216750622\n",
      "Validation loss decreased (161531.500000 --> 160305.859375).  Saving model ...\n"
     ]
    },
    {
     "data": {
      "application/vnd.jupyter.widget-view+json": {
       "model_id": "84779c30ecaf4dbf8c0ec7687460cd91",
       "version_major": 2,
       "version_minor": 0
      },
      "text/plain": [
       "HBox(children=(FloatProgress(value=0.0, description='epoch 268', max=699.0, style=ProgressStyle(description_wi…"
      ]
     },
     "metadata": {},
     "output_type": "display_data"
    },
    {
     "name": "stdout",
     "output_type": "stream",
     "text": [
      "\n",
      "Epoch 268: loss 159415.625, emb_loss 159276.33895874023, mf_loss 139.37708149850368\n",
      "Validation loss decreased (160305.859375 --> 159415.625000).  Saving model ...\n"
     ]
    },
    {
     "data": {
      "application/vnd.jupyter.widget-view+json": {
       "model_id": "52451800c5744b5099c55f763b0c7789",
       "version_major": 2,
       "version_minor": 0
      },
      "text/plain": [
       "HBox(children=(FloatProgress(value=0.0, description='epoch 269', max=699.0, style=ProgressStyle(description_wi…"
      ]
     },
     "metadata": {},
     "output_type": "display_data"
    },
    {
     "name": "stdout",
     "output_type": "stream",
     "text": [
      "\n",
      "Epoch 269: loss 158329.28125, emb_loss 158189.59454345703, mf_loss 139.66710722446442\n",
      "Validation loss decreased (159415.625000 --> 158329.281250).  Saving model ...\n"
     ]
    },
    {
     "data": {
      "application/vnd.jupyter.widget-view+json": {
       "model_id": "8f8dfca231be40d98d27dc1ffb6063e9",
       "version_major": 2,
       "version_minor": 0
      },
      "text/plain": [
       "HBox(children=(FloatProgress(value=0.0, description='epoch 270', max=699.0, style=ProgressStyle(description_wi…"
      ]
     },
     "metadata": {},
     "output_type": "display_data"
    },
    {
     "name": "stdout",
     "output_type": "stream",
     "text": [
      "\n",
      "Epoch 270: loss 157381.546875, emb_loss 157241.0947265625, mf_loss 140.47261495888233\n",
      "Validation loss decreased (158329.281250 --> 157381.546875).  Saving model ...\n"
     ]
    },
    {
     "data": {
      "application/vnd.jupyter.widget-view+json": {
       "model_id": "50be00e6abda47ac89e8914b44804aef",
       "version_major": 2,
       "version_minor": 0
      },
      "text/plain": [
       "HBox(children=(FloatProgress(value=0.0, description='epoch 271', max=699.0, style=ProgressStyle(description_wi…"
      ]
     },
     "metadata": {},
     "output_type": "display_data"
    },
    {
     "name": "stdout",
     "output_type": "stream",
     "text": [
      "\n",
      "Epoch 271: loss 156219.40625, emb_loss 156078.96519470215, mf_loss 140.52051205933094\n",
      "Validation loss decreased (157381.546875 --> 156219.406250).  Saving model ...\n"
     ]
    },
    {
     "data": {
      "application/vnd.jupyter.widget-view+json": {
       "model_id": "50b881a0ef0c4e5d85996dcac69f89cb",
       "version_major": 2,
       "version_minor": 0
      },
      "text/plain": [
       "HBox(children=(FloatProgress(value=0.0, description='epoch 272', max=699.0, style=ProgressStyle(description_wi…"
      ]
     },
     "metadata": {},
     "output_type": "display_data"
    },
    {
     "name": "stdout",
     "output_type": "stream",
     "text": [
      "\n",
      "Epoch 272: loss 155234.28125, emb_loss 155093.39587402344, mf_loss 140.90896122157574\n",
      "Validation loss decreased (156219.406250 --> 155234.281250).  Saving model ...\n"
     ]
    },
    {
     "data": {
      "application/vnd.jupyter.widget-view+json": {
       "model_id": "87a1ab376f4f45309318cecc50e98798",
       "version_major": 2,
       "version_minor": 0
      },
      "text/plain": [
       "HBox(children=(FloatProgress(value=0.0, description='epoch 273', max=699.0, style=ProgressStyle(description_wi…"
      ]
     },
     "metadata": {},
     "output_type": "display_data"
    },
    {
     "name": "stdout",
     "output_type": "stream",
     "text": [
      "\n",
      "Epoch 273: loss 154217.984375, emb_loss 154076.84228515625, mf_loss 141.11370508372784\n",
      "Validation loss decreased (155234.281250 --> 154217.984375).  Saving model ...\n"
     ]
    },
    {
     "data": {
      "application/vnd.jupyter.widget-view+json": {
       "model_id": "d8f2273acf324254b0a471c83267a4a8",
       "version_major": 2,
       "version_minor": 0
      },
      "text/plain": [
       "HBox(children=(FloatProgress(value=0.0, description='epoch 274', max=699.0, style=ProgressStyle(description_wi…"
      ]
     },
     "metadata": {},
     "output_type": "display_data"
    },
    {
     "name": "stdout",
     "output_type": "stream",
     "text": [
      "\n",
      "Epoch 274: loss 153013.171875, emb_loss 152871.65936279297, mf_loss 141.69320467114449\n",
      "Validation loss decreased (154217.984375 --> 153013.171875).  Saving model ...\n"
     ]
    },
    {
     "data": {
      "application/vnd.jupyter.widget-view+json": {
       "model_id": "efbbb78271d94f79917c6a2764bd0ceb",
       "version_major": 2,
       "version_minor": 0
      },
      "text/plain": [
       "HBox(children=(FloatProgress(value=0.0, description='epoch 275', max=699.0, style=ProgressStyle(description_wi…"
      ]
     },
     "metadata": {},
     "output_type": "display_data"
    },
    {
     "name": "stdout",
     "output_type": "stream",
     "text": [
      "\n",
      "Epoch 275: loss 152323.125, emb_loss 152181.1135406494, mf_loss 142.08242762088776\n",
      "Validation loss decreased (153013.171875 --> 152323.125000).  Saving model ...\n"
     ]
    },
    {
     "data": {
      "application/vnd.jupyter.widget-view+json": {
       "model_id": "8059257589694d26900cb2220a4b5373",
       "version_major": 2,
       "version_minor": 0
      },
      "text/plain": [
       "HBox(children=(FloatProgress(value=0.0, description='epoch 276', max=699.0, style=ProgressStyle(description_wi…"
      ]
     },
     "metadata": {},
     "output_type": "display_data"
    },
    {
     "name": "stdout",
     "output_type": "stream",
     "text": [
      "\n",
      "Epoch 276: loss 151222.328125, emb_loss 151079.8217163086, mf_loss 142.48085837066174\n",
      "Validation loss decreased (152323.125000 --> 151222.328125).  Saving model ...\n"
     ]
    },
    {
     "data": {
      "application/vnd.jupyter.widget-view+json": {
       "model_id": "57907801481146ce92f65d8aa22a241b",
       "version_major": 2,
       "version_minor": 0
      },
      "text/plain": [
       "HBox(children=(FloatProgress(value=0.0, description='epoch 277', max=699.0, style=ProgressStyle(description_wi…"
      ]
     },
     "metadata": {},
     "output_type": "display_data"
    },
    {
     "name": "stdout",
     "output_type": "stream",
     "text": [
      "\n",
      "Epoch 277: loss 150259.421875, emb_loss 150117.17826843262, mf_loss 142.2363239377737\n",
      "Validation loss decreased (151222.328125 --> 150259.421875).  Saving model ...\n"
     ]
    },
    {
     "data": {
      "application/vnd.jupyter.widget-view+json": {
       "model_id": "8dcd04ab86574dd89eff26347c899740",
       "version_major": 2,
       "version_minor": 0
      },
      "text/plain": [
       "HBox(children=(FloatProgress(value=0.0, description='epoch 278', max=699.0, style=ProgressStyle(description_wi…"
      ]
     },
     "metadata": {},
     "output_type": "display_data"
    },
    {
     "name": "stdout",
     "output_type": "stream",
     "text": [
      "\n",
      "Epoch 278: loss 149330.109375, emb_loss 149186.8954925537, mf_loss 143.04707024991512\n",
      "Validation loss decreased (150259.421875 --> 149330.109375).  Saving model ...\n"
     ]
    },
    {
     "data": {
      "application/vnd.jupyter.widget-view+json": {
       "model_id": "44f0e39fb29a462c8b53347911eca635",
       "version_major": 2,
       "version_minor": 0
      },
      "text/plain": [
       "HBox(children=(FloatProgress(value=0.0, description='epoch 279', max=699.0, style=ProgressStyle(description_wi…"
      ]
     },
     "metadata": {},
     "output_type": "display_data"
    },
    {
     "name": "stdout",
     "output_type": "stream",
     "text": [
      "\n",
      "Epoch 279: loss 148259.0625, emb_loss 148115.81661987305, mf_loss 143.15797857940197\n",
      "Validation loss decreased (149330.109375 --> 148259.062500).  Saving model ...\n"
     ]
    },
    {
     "data": {
      "application/vnd.jupyter.widget-view+json": {
       "model_id": "35dee17df1834e68a05ef82c7b26a0e4",
       "version_major": 2,
       "version_minor": 0
      },
      "text/plain": [
       "HBox(children=(FloatProgress(value=0.0, description='epoch 280', max=699.0, style=ProgressStyle(description_wi…"
      ]
     },
     "metadata": {},
     "output_type": "display_data"
    },
    {
     "name": "stdout",
     "output_type": "stream",
     "text": [
      "\n",
      "Epoch 280: loss 147340.9375, emb_loss 147197.39587402344, mf_loss 143.47800621390343\n",
      "Validation loss decreased (148259.062500 --> 147340.937500).  Saving model ...\n"
     ]
    },
    {
     "data": {
      "application/vnd.jupyter.widget-view+json": {
       "model_id": "5ff51bca4ee644d48dbe22df5ef36d9f",
       "version_major": 2,
       "version_minor": 0
      },
      "text/plain": [
       "HBox(children=(FloatProgress(value=0.0, description='epoch 281', max=699.0, style=ProgressStyle(description_wi…"
      ]
     },
     "metadata": {},
     "output_type": "display_data"
    },
    {
     "name": "stdout",
     "output_type": "stream",
     "text": [
      "\n",
      "Epoch 281: loss 146412.28125, emb_loss 146268.82382202148, mf_loss 143.62492129206657\n",
      "Validation loss decreased (147340.937500 --> 146412.281250).  Saving model ...\n"
     ]
    },
    {
     "data": {
      "application/vnd.jupyter.widget-view+json": {
       "model_id": "59738122ae954b46b95ae367cfe0d6d9",
       "version_major": 2,
       "version_minor": 0
      },
      "text/plain": [
       "HBox(children=(FloatProgress(value=0.0, description='epoch 282', max=699.0, style=ProgressStyle(description_wi…"
      ]
     },
     "metadata": {},
     "output_type": "display_data"
    },
    {
     "name": "stdout",
     "output_type": "stream",
     "text": [
      "\n",
      "Epoch 282: loss 145409.34375, emb_loss 145265.0770263672, mf_loss 144.25388963520527\n",
      "Validation loss decreased (146412.281250 --> 145409.343750).  Saving model ...\n"
     ]
    },
    {
     "data": {
      "application/vnd.jupyter.widget-view+json": {
       "model_id": "c94b75b86bfe4e199b62950783524a2a",
       "version_major": 2,
       "version_minor": 0
      },
      "text/plain": [
       "HBox(children=(FloatProgress(value=0.0, description='epoch 283', max=699.0, style=ProgressStyle(description_wi…"
      ]
     },
     "metadata": {},
     "output_type": "display_data"
    },
    {
     "name": "stdout",
     "output_type": "stream",
     "text": [
      "\n",
      "Epoch 283: loss 144305.921875, emb_loss 144161.00230407715, mf_loss 144.97929415106773\n",
      "Validation loss decreased (145409.343750 --> 144305.921875).  Saving model ...\n"
     ]
    },
    {
     "data": {
      "application/vnd.jupyter.widget-view+json": {
       "model_id": "bf3d5fecd0084e1ba9aec0f4956153f0",
       "version_major": 2,
       "version_minor": 0
      },
      "text/plain": [
       "HBox(children=(FloatProgress(value=0.0, description='epoch 284', max=699.0, style=ProgressStyle(description_wi…"
      ]
     },
     "metadata": {},
     "output_type": "display_data"
    },
    {
     "name": "stdout",
     "output_type": "stream",
     "text": [
      "\n",
      "Epoch 284: loss 143659.03125, emb_loss 143514.21507263184, mf_loss 144.78207133710384\n",
      "Validation loss decreased (144305.921875 --> 143659.031250).  Saving model ...\n"
     ]
    },
    {
     "data": {
      "application/vnd.jupyter.widget-view+json": {
       "model_id": "7faf95b4836c4ddc9713dd3078c5b652",
       "version_major": 2,
       "version_minor": 0
      },
      "text/plain": [
       "HBox(children=(FloatProgress(value=0.0, description='epoch 285', max=699.0, style=ProgressStyle(description_wi…"
      ]
     },
     "metadata": {},
     "output_type": "display_data"
    },
    {
     "name": "stdout",
     "output_type": "stream",
     "text": [
      "\n",
      "Epoch 285: loss 142719.953125, emb_loss 142574.8769683838, mf_loss 145.06343111395836\n",
      "Validation loss decreased (143659.031250 --> 142719.953125).  Saving model ...\n"
     ]
    },
    {
     "data": {
      "application/vnd.jupyter.widget-view+json": {
       "model_id": "cecf249f25ba42d390314ac761a0e23e",
       "version_major": 2,
       "version_minor": 0
      },
      "text/plain": [
       "HBox(children=(FloatProgress(value=0.0, description='epoch 286', max=699.0, style=ProgressStyle(description_wi…"
      ]
     },
     "metadata": {},
     "output_type": "display_data"
    },
    {
     "name": "stdout",
     "output_type": "stream",
     "text": [
      "\n",
      "Epoch 286: loss 141701.375, emb_loss 141556.01530456543, mf_loss 145.34313417971134\n",
      "Validation loss decreased (142719.953125 --> 141701.375000).  Saving model ...\n"
     ]
    },
    {
     "data": {
      "application/vnd.jupyter.widget-view+json": {
       "model_id": "86a882a2b3214441ab330491e8a9cab8",
       "version_major": 2,
       "version_minor": 0
      },
      "text/plain": [
       "HBox(children=(FloatProgress(value=0.0, description='epoch 287', max=699.0, style=ProgressStyle(description_wi…"
      ]
     },
     "metadata": {},
     "output_type": "display_data"
    },
    {
     "name": "stdout",
     "output_type": "stream",
     "text": [
      "\n",
      "Epoch 287: loss 140693.828125, emb_loss 140548.12548828125, mf_loss 145.78357975184917\n",
      "Validation loss decreased (141701.375000 --> 140693.828125).  Saving model ...\n"
     ]
    },
    {
     "data": {
      "application/vnd.jupyter.widget-view+json": {
       "model_id": "b735d5970f614ba38d80ef6a171bdee3",
       "version_major": 2,
       "version_minor": 0
      },
      "text/plain": [
       "HBox(children=(FloatProgress(value=0.0, description='epoch 288', max=699.0, style=ProgressStyle(description_wi…"
      ]
     },
     "metadata": {},
     "output_type": "display_data"
    },
    {
     "name": "stdout",
     "output_type": "stream",
     "text": [
      "\n",
      "Epoch 288: loss 139841.140625, emb_loss 139695.03440856934, mf_loss 146.0230205208063\n",
      "Validation loss decreased (140693.828125 --> 139841.140625).  Saving model ...\n"
     ]
    },
    {
     "data": {
      "application/vnd.jupyter.widget-view+json": {
       "model_id": "97334b7cc44841c98dcc6df0f784d1bc",
       "version_major": 2,
       "version_minor": 0
      },
      "text/plain": [
       "HBox(children=(FloatProgress(value=0.0, description='epoch 289', max=699.0, style=ProgressStyle(description_wi…"
      ]
     },
     "metadata": {},
     "output_type": "display_data"
    },
    {
     "name": "stdout",
     "output_type": "stream",
     "text": [
      "\n",
      "Epoch 289: loss 138722.703125, emb_loss 138576.40982055664, mf_loss 146.1820409744978\n",
      "Validation loss decreased (139841.140625 --> 138722.703125).  Saving model ...\n"
     ]
    },
    {
     "data": {
      "application/vnd.jupyter.widget-view+json": {
       "model_id": "80c0644993764cd2a4fe8ebe3e7c14b8",
       "version_major": 2,
       "version_minor": 0
      },
      "text/plain": [
       "HBox(children=(FloatProgress(value=0.0, description='epoch 290', max=699.0, style=ProgressStyle(description_wi…"
      ]
     },
     "metadata": {},
     "output_type": "display_data"
    },
    {
     "name": "stdout",
     "output_type": "stream",
     "text": [
      "\n",
      "Epoch 290: loss 137905.875, emb_loss 137759.32275390625, mf_loss 146.49186554551125\n",
      "Validation loss decreased (138722.703125 --> 137905.875000).  Saving model ...\n"
     ]
    },
    {
     "data": {
      "application/vnd.jupyter.widget-view+json": {
       "model_id": "ed2ab675dd7f40da9def872c80271ccf",
       "version_major": 2,
       "version_minor": 0
      },
      "text/plain": [
       "HBox(children=(FloatProgress(value=0.0, description='epoch 291', max=699.0, style=ProgressStyle(description_wi…"
      ]
     },
     "metadata": {},
     "output_type": "display_data"
    },
    {
     "name": "stdout",
     "output_type": "stream",
     "text": [
      "\n",
      "Epoch 291: loss 137068.546875, emb_loss 136921.46617126465, mf_loss 147.04667462408543\n",
      "Validation loss decreased (137905.875000 --> 137068.546875).  Saving model ...\n"
     ]
    },
    {
     "data": {
      "application/vnd.jupyter.widget-view+json": {
       "model_id": "e76c7c94b6b648559ca96ebf71feaf19",
       "version_major": 2,
       "version_minor": 0
      },
      "text/plain": [
       "HBox(children=(FloatProgress(value=0.0, description='epoch 292', max=699.0, style=ProgressStyle(description_wi…"
      ]
     },
     "metadata": {},
     "output_type": "display_data"
    },
    {
     "name": "stdout",
     "output_type": "stream",
     "text": [
      "\n",
      "Epoch 292: loss 136157.5625, emb_loss 136010.07664489746, mf_loss 147.5276486426592\n",
      "Validation loss decreased (137068.546875 --> 136157.562500).  Saving model ...\n"
     ]
    },
    {
     "data": {
      "application/vnd.jupyter.widget-view+json": {
       "model_id": "635d8660ab28480786a9b4fdf0f93325",
       "version_major": 2,
       "version_minor": 0
      },
      "text/plain": [
       "HBox(children=(FloatProgress(value=0.0, description='epoch 293', max=699.0, style=ProgressStyle(description_wi…"
      ]
     },
     "metadata": {},
     "output_type": "display_data"
    },
    {
     "name": "stdout",
     "output_type": "stream",
     "text": [
      "\n",
      "Epoch 293: loss 135242.421875, emb_loss 135094.71087646484, mf_loss 147.72973668575287\n",
      "Validation loss decreased (136157.562500 --> 135242.421875).  Saving model ...\n"
     ]
    },
    {
     "data": {
      "application/vnd.jupyter.widget-view+json": {
       "model_id": "93c401a0855c4386a8a1ae2f390f934e",
       "version_major": 2,
       "version_minor": 0
      },
      "text/plain": [
       "HBox(children=(FloatProgress(value=0.0, description='epoch 294', max=699.0, style=ProgressStyle(description_wi…"
      ]
     },
     "metadata": {},
     "output_type": "display_data"
    },
    {
     "name": "stdout",
     "output_type": "stream",
     "text": [
      "\n",
      "Epoch 294: loss 134457.859375, emb_loss 134310.03466796875, mf_loss 147.8978656232357\n",
      "Validation loss decreased (135242.421875 --> 134457.859375).  Saving model ...\n"
     ]
    },
    {
     "data": {
      "application/vnd.jupyter.widget-view+json": {
       "model_id": "ca02ec24306b469db533ab869b5bdd18",
       "version_major": 2,
       "version_minor": 0
      },
      "text/plain": [
       "HBox(children=(FloatProgress(value=0.0, description='epoch 295', max=699.0, style=ProgressStyle(description_wi…"
      ]
     },
     "metadata": {},
     "output_type": "display_data"
    },
    {
     "name": "stdout",
     "output_type": "stream",
     "text": [
      "\n",
      "Epoch 295: loss 133629.9375, emb_loss 133481.6103668213, mf_loss 148.31171011924744\n",
      "Validation loss decreased (134457.859375 --> 133629.937500).  Saving model ...\n"
     ]
    },
    {
     "data": {
      "application/vnd.jupyter.widget-view+json": {
       "model_id": "4a9b253206c0420ead74b433164fd969",
       "version_major": 2,
       "version_minor": 0
      },
      "text/plain": [
       "HBox(children=(FloatProgress(value=0.0, description='epoch 296', max=699.0, style=ProgressStyle(description_wi…"
      ]
     },
     "metadata": {},
     "output_type": "display_data"
    },
    {
     "name": "stdout",
     "output_type": "stream",
     "text": [
      "\n",
      "Epoch 296: loss 132749.015625, emb_loss 132600.5703277588, mf_loss 148.52905747294426\n",
      "Validation loss decreased (133629.937500 --> 132749.015625).  Saving model ...\n"
     ]
    },
    {
     "data": {
      "application/vnd.jupyter.widget-view+json": {
       "model_id": "5ae067c8a2e94b6195f791999d0940bf",
       "version_major": 2,
       "version_minor": 0
      },
      "text/plain": [
       "HBox(children=(FloatProgress(value=0.0, description='epoch 297', max=699.0, style=ProgressStyle(description_wi…"
      ]
     },
     "metadata": {},
     "output_type": "display_data"
    },
    {
     "name": "stdout",
     "output_type": "stream",
     "text": [
      "\n",
      "Epoch 297: loss 131771.828125, emb_loss 131622.9306488037, mf_loss 148.88730047643185\n",
      "Validation loss decreased (132749.015625 --> 131771.828125).  Saving model ...\n"
     ]
    },
    {
     "data": {
      "application/vnd.jupyter.widget-view+json": {
       "model_id": "5c2a8ef85fa2448e920d294fdd576757",
       "version_major": 2,
       "version_minor": 0
      },
      "text/plain": [
       "HBox(children=(FloatProgress(value=0.0, description='epoch 298', max=699.0, style=ProgressStyle(description_wi…"
      ]
     },
     "metadata": {},
     "output_type": "display_data"
    },
    {
     "name": "stdout",
     "output_type": "stream",
     "text": [
      "\n",
      "Epoch 298: loss 130733.765625, emb_loss 130584.10879516602, mf_loss 149.56948928534985\n",
      "Validation loss decreased (131771.828125 --> 130733.765625).  Saving model ...\n"
     ]
    },
    {
     "data": {
      "application/vnd.jupyter.widget-view+json": {
       "model_id": "6cc4f4d640f74311bfe775fa4beff971",
       "version_major": 2,
       "version_minor": 0
      },
      "text/plain": [
       "HBox(children=(FloatProgress(value=0.0, description='epoch 299', max=699.0, style=ProgressStyle(description_wi…"
      ]
     },
     "metadata": {},
     "output_type": "display_data"
    },
    {
     "name": "stdout",
     "output_type": "stream",
     "text": [
      "\n",
      "Epoch 299: loss 130146.125, emb_loss 129996.43019104004, mf_loss 149.56655532121658\n",
      "Validation loss decreased (130733.765625 --> 130146.125000).  Saving model ...\n"
     ]
    },
    {
     "data": {
      "application/vnd.jupyter.widget-view+json": {
       "model_id": "4d14c74e1bef487ca26f756246e0bd4d",
       "version_major": 2,
       "version_minor": 0
      },
      "text/plain": [
       "HBox(children=(FloatProgress(value=0.0, description='epoch 300', max=699.0, style=ProgressStyle(description_wi…"
      ]
     },
     "metadata": {},
     "output_type": "display_data"
    },
    {
     "name": "stdout",
     "output_type": "stream",
     "text": [
      "\n",
      "Epoch 300: loss 129256.171875, emb_loss 129106.34141540527, mf_loss 149.81365209817886\n",
      "Validation loss decreased (130146.125000 --> 129256.171875).  Saving model ...\n"
     ]
    },
    {
     "data": {
      "application/vnd.jupyter.widget-view+json": {
       "model_id": "3cc986c445c042a09f164bd58c367476",
       "version_major": 2,
       "version_minor": 0
      },
      "text/plain": [
       "HBox(children=(FloatProgress(value=0.0, description='epoch 301', max=699.0, style=ProgressStyle(description_wi…"
      ]
     },
     "metadata": {},
     "output_type": "display_data"
    },
    {
     "name": "stdout",
     "output_type": "stream",
     "text": [
      "\n",
      "Epoch 301: loss 128462.8515625, emb_loss 128312.3628540039, mf_loss 150.38909758627415\n",
      "Validation loss decreased (129256.171875 --> 128462.851562).  Saving model ...\n"
     ]
    },
    {
     "data": {
      "application/vnd.jupyter.widget-view+json": {
       "model_id": "aa0dc3c982a7490ba27890da1c86f1b0",
       "version_major": 2,
       "version_minor": 0
      },
      "text/plain": [
       "HBox(children=(FloatProgress(value=0.0, description='epoch 302', max=699.0, style=ProgressStyle(description_wi…"
      ]
     },
     "metadata": {},
     "output_type": "display_data"
    },
    {
     "name": "stdout",
     "output_type": "stream",
     "text": [
      "\n",
      "Epoch 302: loss 127580.78125, emb_loss 127429.46224975586, mf_loss 151.293500110507\n",
      "Validation loss decreased (128462.851562 --> 127580.781250).  Saving model ...\n"
     ]
    },
    {
     "data": {
      "application/vnd.jupyter.widget-view+json": {
       "model_id": "d0e1b38b051c4048bfde57914ac71ab6",
       "version_major": 2,
       "version_minor": 0
      },
      "text/plain": [
       "HBox(children=(FloatProgress(value=0.0, description='epoch 303', max=699.0, style=ProgressStyle(description_wi…"
      ]
     },
     "metadata": {},
     "output_type": "display_data"
    },
    {
     "name": "stdout",
     "output_type": "stream",
     "text": [
      "\n",
      "Epoch 303: loss 126785.9921875, emb_loss 126634.6114654541, mf_loss 151.40588979423046\n",
      "Validation loss decreased (127580.781250 --> 126785.992188).  Saving model ...\n"
     ]
    },
    {
     "data": {
      "application/vnd.jupyter.widget-view+json": {
       "model_id": "de8bd495aa644d508e488a0b52e89682",
       "version_major": 2,
       "version_minor": 0
      },
      "text/plain": [
       "HBox(children=(FloatProgress(value=0.0, description='epoch 304', max=699.0, style=ProgressStyle(description_wi…"
      ]
     },
     "metadata": {},
     "output_type": "display_data"
    },
    {
     "name": "stdout",
     "output_type": "stream",
     "text": [
      "\n",
      "Epoch 304: loss 125854.640625, emb_loss 125703.06852722168, mf_loss 151.56976528465748\n",
      "Validation loss decreased (126785.992188 --> 125854.640625).  Saving model ...\n"
     ]
    },
    {
     "data": {
      "application/vnd.jupyter.widget-view+json": {
       "model_id": "565a5491121e46dcae66550fb84381d2",
       "version_major": 2,
       "version_minor": 0
      },
      "text/plain": [
       "HBox(children=(FloatProgress(value=0.0, description='epoch 305', max=699.0, style=ProgressStyle(description_wi…"
      ]
     },
     "metadata": {},
     "output_type": "display_data"
    },
    {
     "name": "stdout",
     "output_type": "stream",
     "text": [
      "\n",
      "Epoch 305: loss 125187.71875, emb_loss 125035.74182128906, mf_loss 151.96990606188774\n",
      "Validation loss decreased (125854.640625 --> 125187.718750).  Saving model ...\n"
     ]
    },
    {
     "data": {
      "application/vnd.jupyter.widget-view+json": {
       "model_id": "f2f133e62e9a430e9de33d15d8232220",
       "version_major": 2,
       "version_minor": 0
      },
      "text/plain": [
       "HBox(children=(FloatProgress(value=0.0, description='epoch 306', max=699.0, style=ProgressStyle(description_wi…"
      ]
     },
     "metadata": {},
     "output_type": "display_data"
    },
    {
     "name": "stdout",
     "output_type": "stream",
     "text": [
      "\n",
      "Epoch 306: loss 124299.859375, emb_loss 124147.67172241211, mf_loss 152.20429323613644\n",
      "Validation loss decreased (125187.718750 --> 124299.859375).  Saving model ...\n"
     ]
    },
    {
     "data": {
      "application/vnd.jupyter.widget-view+json": {
       "model_id": "e77b37e07c494b32801408221693369c",
       "version_major": 2,
       "version_minor": 0
      },
      "text/plain": [
       "HBox(children=(FloatProgress(value=0.0, description='epoch 307', max=699.0, style=ProgressStyle(description_wi…"
      ]
     },
     "metadata": {},
     "output_type": "display_data"
    },
    {
     "name": "stdout",
     "output_type": "stream",
     "text": [
      "\n",
      "Epoch 307: loss 123375.03125, emb_loss 123222.0121307373, mf_loss 152.9827071428299\n",
      "Validation loss decreased (124299.859375 --> 123375.031250).  Saving model ...\n"
     ]
    },
    {
     "data": {
      "application/vnd.jupyter.widget-view+json": {
       "model_id": "8a00d153ce674cf8a3b142c70c40b3f4",
       "version_major": 2,
       "version_minor": 0
      },
      "text/plain": [
       "HBox(children=(FloatProgress(value=0.0, description='epoch 308', max=699.0, style=ProgressStyle(description_wi…"
      ]
     },
     "metadata": {},
     "output_type": "display_data"
    },
    {
     "name": "stdout",
     "output_type": "stream",
     "text": [
      "\n",
      "Epoch 308: loss 122592.2421875, emb_loss 122439.11003112793, mf_loss 153.1816706508398\n",
      "Validation loss decreased (123375.031250 --> 122592.242188).  Saving model ...\n"
     ]
    },
    {
     "data": {
      "application/vnd.jupyter.widget-view+json": {
       "model_id": "7e494f8c5b614018acd3acaa91a498f1",
       "version_major": 2,
       "version_minor": 0
      },
      "text/plain": [
       "HBox(children=(FloatProgress(value=0.0, description='epoch 309', max=699.0, style=ProgressStyle(description_wi…"
      ]
     },
     "metadata": {},
     "output_type": "display_data"
    },
    {
     "name": "stdout",
     "output_type": "stream",
     "text": [
      "\n",
      "Epoch 309: loss 121786.484375, emb_loss 121632.97415161133, mf_loss 153.44953772425652\n",
      "Validation loss decreased (122592.242188 --> 121786.484375).  Saving model ...\n"
     ]
    },
    {
     "data": {
      "application/vnd.jupyter.widget-view+json": {
       "model_id": "5863ac3afe76404aae7f9d5b11f0baa6",
       "version_major": 2,
       "version_minor": 0
      },
      "text/plain": [
       "HBox(children=(FloatProgress(value=0.0, description='epoch 310', max=699.0, style=ProgressStyle(description_wi…"
      ]
     },
     "metadata": {},
     "output_type": "display_data"
    },
    {
     "name": "stdout",
     "output_type": "stream",
     "text": [
      "\n",
      "Epoch 310: loss 121134.3984375, emb_loss 120980.68818664551, mf_loss 153.64702859520912\n",
      "Validation loss decreased (121786.484375 --> 121134.398438).  Saving model ...\n"
     ]
    },
    {
     "data": {
      "application/vnd.jupyter.widget-view+json": {
       "model_id": "8099ea2187c84e61ba63ac980bc22577",
       "version_major": 2,
       "version_minor": 0
      },
      "text/plain": [
       "HBox(children=(FloatProgress(value=0.0, description='epoch 311', max=699.0, style=ProgressStyle(description_wi…"
      ]
     },
     "metadata": {},
     "output_type": "display_data"
    },
    {
     "name": "stdout",
     "output_type": "stream",
     "text": [
      "\n",
      "Epoch 311: loss 120092.71875, emb_loss 119938.4624786377, mf_loss 154.21134497225285\n",
      "Validation loss decreased (121134.398438 --> 120092.718750).  Saving model ...\n"
     ]
    },
    {
     "data": {
      "application/vnd.jupyter.widget-view+json": {
       "model_id": "44de13a871d8436bbadb9e516a3545ad",
       "version_major": 2,
       "version_minor": 0
      },
      "text/plain": [
       "HBox(children=(FloatProgress(value=0.0, description='epoch 312', max=699.0, style=ProgressStyle(description_wi…"
      ]
     },
     "metadata": {},
     "output_type": "display_data"
    },
    {
     "name": "stdout",
     "output_type": "stream",
     "text": [
      "\n",
      "Epoch 312: loss 119484.671875, emb_loss 119330.26091003418, mf_loss 154.40740333497524\n",
      "Validation loss decreased (120092.718750 --> 119484.671875).  Saving model ...\n"
     ]
    },
    {
     "data": {
      "application/vnd.jupyter.widget-view+json": {
       "model_id": "be6046ba66db430eaf0dab4486088ca7",
       "version_major": 2,
       "version_minor": 0
      },
      "text/plain": [
       "HBox(children=(FloatProgress(value=0.0, description='epoch 313', max=699.0, style=ProgressStyle(description_wi…"
      ]
     },
     "metadata": {},
     "output_type": "display_data"
    },
    {
     "name": "stdout",
     "output_type": "stream",
     "text": [
      "\n",
      "Epoch 313: loss 118637.4765625, emb_loss 118483.23854064941, mf_loss 154.28972798585892\n",
      "Validation loss decreased (119484.671875 --> 118637.476562).  Saving model ...\n"
     ]
    },
    {
     "data": {
      "application/vnd.jupyter.widget-view+json": {
       "model_id": "1cf8511172f24347877bc1b9cfabc74c",
       "version_major": 2,
       "version_minor": 0
      },
      "text/plain": [
       "HBox(children=(FloatProgress(value=0.0, description='epoch 314', max=699.0, style=ProgressStyle(description_wi…"
      ]
     },
     "metadata": {},
     "output_type": "display_data"
    },
    {
     "name": "stdout",
     "output_type": "stream",
     "text": [
      "\n",
      "Epoch 314: loss 117846.328125, emb_loss 117690.78303527832, mf_loss 155.44832031428814\n",
      "Validation loss decreased (118637.476562 --> 117846.328125).  Saving model ...\n"
     ]
    },
    {
     "data": {
      "application/vnd.jupyter.widget-view+json": {
       "model_id": "ebe3c297e5c94c64914e398f0443ed16",
       "version_major": 2,
       "version_minor": 0
      },
      "text/plain": [
       "HBox(children=(FloatProgress(value=0.0, description='epoch 315', max=699.0, style=ProgressStyle(description_wi…"
      ]
     },
     "metadata": {},
     "output_type": "display_data"
    },
    {
     "name": "stdout",
     "output_type": "stream",
     "text": [
      "\n",
      "Epoch 315: loss 117232.2109375, emb_loss 117076.87142944336, mf_loss 155.3666399717331\n",
      "Validation loss decreased (117846.328125 --> 117232.210938).  Saving model ...\n"
     ]
    },
    {
     "data": {
      "application/vnd.jupyter.widget-view+json": {
       "model_id": "121cc610147e49be9f94e706cf5e2f96",
       "version_major": 2,
       "version_minor": 0
      },
      "text/plain": [
       "HBox(children=(FloatProgress(value=0.0, description='epoch 316', max=699.0, style=ProgressStyle(description_wi…"
      ]
     },
     "metadata": {},
     "output_type": "display_data"
    },
    {
     "name": "stdout",
     "output_type": "stream",
     "text": [
      "\n",
      "Epoch 316: loss 116379.4765625, emb_loss 116223.32612609863, mf_loss 156.14014632999897\n",
      "Validation loss decreased (117232.210938 --> 116379.476562).  Saving model ...\n"
     ]
    },
    {
     "data": {
      "application/vnd.jupyter.widget-view+json": {
       "model_id": "8aba0dad935846eb942cd149375027f2",
       "version_major": 2,
       "version_minor": 0
      },
      "text/plain": [
       "HBox(children=(FloatProgress(value=0.0, description='epoch 317', max=699.0, style=ProgressStyle(description_wi…"
      ]
     },
     "metadata": {},
     "output_type": "display_data"
    },
    {
     "name": "stdout",
     "output_type": "stream",
     "text": [
      "\n",
      "Epoch 317: loss 115599.4609375, emb_loss 115443.3267364502, mf_loss 156.1611988544464\n",
      "Validation loss decreased (116379.476562 --> 115599.460938).  Saving model ...\n"
     ]
    },
    {
     "data": {
      "application/vnd.jupyter.widget-view+json": {
       "model_id": "cdba1d3349554540bd096e7739e7caea",
       "version_major": 2,
       "version_minor": 0
      },
      "text/plain": [
       "HBox(children=(FloatProgress(value=0.0, description='epoch 318', max=699.0, style=ProgressStyle(description_wi…"
      ]
     },
     "metadata": {},
     "output_type": "display_data"
    },
    {
     "name": "stdout",
     "output_type": "stream",
     "text": [
      "\n",
      "Epoch 318: loss 114890.25, emb_loss 114733.44741821289, mf_loss 156.8352385610342\n",
      "Validation loss decreased (115599.460938 --> 114890.250000).  Saving model ...\n"
     ]
    },
    {
     "data": {
      "application/vnd.jupyter.widget-view+json": {
       "model_id": "641d81cfd87b4b1fa1c31840c39195e1",
       "version_major": 2,
       "version_minor": 0
      },
      "text/plain": [
       "HBox(children=(FloatProgress(value=0.0, description='epoch 319', max=699.0, style=ProgressStyle(description_wi…"
      ]
     },
     "metadata": {},
     "output_type": "display_data"
    },
    {
     "name": "stdout",
     "output_type": "stream",
     "text": [
      "\n",
      "Epoch 319: loss 114108.859375, emb_loss 113951.90783691406, mf_loss 156.97452214360237\n",
      "Validation loss decreased (114890.250000 --> 114108.859375).  Saving model ...\n"
     ]
    },
    {
     "data": {
      "application/vnd.jupyter.widget-view+json": {
       "model_id": "cccf280cfc5640fa87fda4b63987a6ad",
       "version_major": 2,
       "version_minor": 0
      },
      "text/plain": [
       "HBox(children=(FloatProgress(value=0.0, description='epoch 320', max=699.0, style=ProgressStyle(description_wi…"
      ]
     },
     "metadata": {},
     "output_type": "display_data"
    },
    {
     "name": "stdout",
     "output_type": "stream",
     "text": [
      "\n",
      "Epoch 320: loss 113441.2421875, emb_loss 113284.07308959961, mf_loss 157.24960216879845\n",
      "Validation loss decreased (114108.859375 --> 113441.242188).  Saving model ...\n"
     ]
    },
    {
     "data": {
      "application/vnd.jupyter.widget-view+json": {
       "model_id": "07545b93561f4c66a7b71ef1c93bf5af",
       "version_major": 2,
       "version_minor": 0
      },
      "text/plain": [
       "HBox(children=(FloatProgress(value=0.0, description='epoch 321', max=699.0, style=ProgressStyle(description_wi…"
      ]
     },
     "metadata": {},
     "output_type": "display_data"
    },
    {
     "name": "stdout",
     "output_type": "stream",
     "text": [
      "\n",
      "Epoch 321: loss 112647.0546875, emb_loss 112488.97239685059, mf_loss 158.07535794377327\n",
      "Validation loss decreased (113441.242188 --> 112647.054688).  Saving model ...\n"
     ]
    },
    {
     "data": {
      "application/vnd.jupyter.widget-view+json": {
       "model_id": "a6273152bf4649aeaad10c233277e0a9",
       "version_major": 2,
       "version_minor": 0
      },
      "text/plain": [
       "HBox(children=(FloatProgress(value=0.0, description='epoch 322', max=699.0, style=ProgressStyle(description_wi…"
      ]
     },
     "metadata": {},
     "output_type": "display_data"
    },
    {
     "name": "stdout",
     "output_type": "stream",
     "text": [
      "\n",
      "Epoch 322: loss 111968.625, emb_loss 111810.14393615723, mf_loss 158.4042368531227\n",
      "Validation loss decreased (112647.054688 --> 111968.625000).  Saving model ...\n"
     ]
    },
    {
     "data": {
      "application/vnd.jupyter.widget-view+json": {
       "model_id": "466d352e71a44f748ae86e1149ee388c",
       "version_major": 2,
       "version_minor": 0
      },
      "text/plain": [
       "HBox(children=(FloatProgress(value=0.0, description='epoch 323', max=699.0, style=ProgressStyle(description_wi…"
      ]
     },
     "metadata": {},
     "output_type": "display_data"
    },
    {
     "name": "stdout",
     "output_type": "stream",
     "text": [
      "\n",
      "Epoch 323: loss 111183.7890625, emb_loss 111024.87452697754, mf_loss 158.90240149199963\n",
      "Validation loss decreased (111968.625000 --> 111183.789062).  Saving model ...\n"
     ]
    },
    {
     "data": {
      "application/vnd.jupyter.widget-view+json": {
       "model_id": "f7c13bf899d84e6486b7744dedff156b",
       "version_major": 2,
       "version_minor": 0
      },
      "text/plain": [
       "HBox(children=(FloatProgress(value=0.0, description='epoch 324', max=699.0, style=ProgressStyle(description_wi…"
      ]
     },
     "metadata": {},
     "output_type": "display_data"
    },
    {
     "name": "stdout",
     "output_type": "stream",
     "text": [
      "\n",
      "Epoch 324: loss 110489.1796875, emb_loss 110330.40048217773, mf_loss 158.96445690095425\n",
      "Validation loss decreased (111183.789062 --> 110489.179688).  Saving model ...\n"
     ]
    },
    {
     "data": {
      "application/vnd.jupyter.widget-view+json": {
       "model_id": "36f881935e15423a81de37401297a303",
       "version_major": 2,
       "version_minor": 0
      },
      "text/plain": [
       "HBox(children=(FloatProgress(value=0.0, description='epoch 325', max=699.0, style=ProgressStyle(description_wi…"
      ]
     },
     "metadata": {},
     "output_type": "display_data"
    },
    {
     "name": "stdout",
     "output_type": "stream",
     "text": [
      "\n",
      "Epoch 325: loss 109728.9375, emb_loss 109569.72583007812, mf_loss 159.13852362334728\n",
      "Validation loss decreased (110489.179688 --> 109728.937500).  Saving model ...\n"
     ]
    },
    {
     "data": {
      "application/vnd.jupyter.widget-view+json": {
       "model_id": "bc7056a4c2da488d88c4b9324919dd65",
       "version_major": 2,
       "version_minor": 0
      },
      "text/plain": [
       "HBox(children=(FloatProgress(value=0.0, description='epoch 326', max=699.0, style=ProgressStyle(description_wi…"
      ]
     },
     "metadata": {},
     "output_type": "display_data"
    },
    {
     "name": "stdout",
     "output_type": "stream",
     "text": [
      "\n",
      "Epoch 326: loss 108949.328125, emb_loss 108789.7604675293, mf_loss 159.5635764747858\n",
      "Validation loss decreased (109728.937500 --> 108949.328125).  Saving model ...\n"
     ]
    },
    {
     "data": {
      "application/vnd.jupyter.widget-view+json": {
       "model_id": "1121f116c3ce4fb89ca2ad57519f2d2a",
       "version_major": 2,
       "version_minor": 0
      },
      "text/plain": [
       "HBox(children=(FloatProgress(value=0.0, description='epoch 327', max=699.0, style=ProgressStyle(description_wi…"
      ]
     },
     "metadata": {},
     "output_type": "display_data"
    },
    {
     "name": "stdout",
     "output_type": "stream",
     "text": [
      "\n",
      "Epoch 327: loss 108307.734375, emb_loss 108147.53666687012, mf_loss 160.22300665080547\n",
      "Validation loss decreased (108949.328125 --> 108307.734375).  Saving model ...\n"
     ]
    },
    {
     "data": {
      "application/vnd.jupyter.widget-view+json": {
       "model_id": "2f1e7486657b40dbae6bc5b0580b41a6",
       "version_major": 2,
       "version_minor": 0
      },
      "text/plain": [
       "HBox(children=(FloatProgress(value=0.0, description='epoch 328', max=699.0, style=ProgressStyle(description_wi…"
      ]
     },
     "metadata": {},
     "output_type": "display_data"
    },
    {
     "name": "stdout",
     "output_type": "stream",
     "text": [
      "\n",
      "Epoch 328: loss 107495.1015625, emb_loss 107335.28567504883, mf_loss 159.81197898089886\n",
      "Validation loss decreased (108307.734375 --> 107495.101562).  Saving model ...\n"
     ]
    },
    {
     "data": {
      "application/vnd.jupyter.widget-view+json": {
       "model_id": "224895aacc9b44829a5398c631acf4a3",
       "version_major": 2,
       "version_minor": 0
      },
      "text/plain": [
       "HBox(children=(FloatProgress(value=0.0, description='epoch 329', max=699.0, style=ProgressStyle(description_wi…"
      ]
     },
     "metadata": {},
     "output_type": "display_data"
    },
    {
     "name": "stdout",
     "output_type": "stream",
     "text": [
      "\n",
      "Epoch 329: loss 106903.1484375, emb_loss 106742.49005126953, mf_loss 160.61395490169525\n",
      "Validation loss decreased (107495.101562 --> 106903.148438).  Saving model ...\n"
     ]
    },
    {
     "data": {
      "application/vnd.jupyter.widget-view+json": {
       "model_id": "3091268ea4094aefaa999c0205c31626",
       "version_major": 2,
       "version_minor": 0
      },
      "text/plain": [
       "HBox(children=(FloatProgress(value=0.0, description='epoch 330', max=699.0, style=ProgressStyle(description_wi…"
      ]
     },
     "metadata": {},
     "output_type": "display_data"
    },
    {
     "name": "stdout",
     "output_type": "stream",
     "text": [
      "\n",
      "Epoch 330: loss 106309.84375, emb_loss 106148.67658996582, mf_loss 161.07425317168236\n",
      "Validation loss decreased (106903.148438 --> 106309.843750).  Saving model ...\n"
     ]
    },
    {
     "data": {
      "application/vnd.jupyter.widget-view+json": {
       "model_id": "97637ba61991493885eeadd58e0c3bc2",
       "version_major": 2,
       "version_minor": 0
      },
      "text/plain": [
       "HBox(children=(FloatProgress(value=0.0, description='epoch 331', max=699.0, style=ProgressStyle(description_wi…"
      ]
     },
     "metadata": {},
     "output_type": "display_data"
    },
    {
     "name": "stdout",
     "output_type": "stream",
     "text": [
      "\n",
      "Epoch 331: loss 105456.0625, emb_loss 105294.29489135742, mf_loss 161.79801519215107\n",
      "Validation loss decreased (106309.843750 --> 105456.062500).  Saving model ...\n"
     ]
    },
    {
     "data": {
      "application/vnd.jupyter.widget-view+json": {
       "model_id": "75021cffec55450182b5224b3e6a09bc",
       "version_major": 2,
       "version_minor": 0
      },
      "text/plain": [
       "HBox(children=(FloatProgress(value=0.0, description='epoch 332', max=699.0, style=ProgressStyle(description_wi…"
      ]
     },
     "metadata": {},
     "output_type": "display_data"
    },
    {
     "name": "stdout",
     "output_type": "stream",
     "text": [
      "\n",
      "Epoch 332: loss 104745.4921875, emb_loss 104583.97952270508, mf_loss 161.68883855640888\n",
      "Validation loss decreased (105456.062500 --> 104745.492188).  Saving model ...\n"
     ]
    },
    {
     "data": {
      "application/vnd.jupyter.widget-view+json": {
       "model_id": "52f444665c0642bb838a434afda8adba",
       "version_major": 2,
       "version_minor": 0
      },
      "text/plain": [
       "HBox(children=(FloatProgress(value=0.0, description='epoch 333', max=699.0, style=ProgressStyle(description_wi…"
      ]
     },
     "metadata": {},
     "output_type": "display_data"
    },
    {
     "name": "stdout",
     "output_type": "stream",
     "text": [
      "\n",
      "Epoch 333: loss 104148.5625, emb_loss 103986.5509185791, mf_loss 162.01917177438736\n",
      "Validation loss decreased (104745.492188 --> 104148.562500).  Saving model ...\n"
     ]
    },
    {
     "data": {
      "application/vnd.jupyter.widget-view+json": {
       "model_id": "42eaed83141948a58563cc15cf6b4fc4",
       "version_major": 2,
       "version_minor": 0
      },
      "text/plain": [
       "HBox(children=(FloatProgress(value=0.0, description='epoch 334', max=699.0, style=ProgressStyle(description_wi…"
      ]
     },
     "metadata": {},
     "output_type": "display_data"
    },
    {
     "name": "stdout",
     "output_type": "stream",
     "text": [
      "\n",
      "Epoch 334: loss 103438.8828125, emb_loss 103276.3857421875, mf_loss 162.58317506313324\n",
      "Validation loss decreased (104148.562500 --> 103438.882812).  Saving model ...\n"
     ]
    },
    {
     "data": {
      "application/vnd.jupyter.widget-view+json": {
       "model_id": "bd154f489cc74e14a5928711777cd91d",
       "version_major": 2,
       "version_minor": 0
      },
      "text/plain": [
       "HBox(children=(FloatProgress(value=0.0, description='epoch 335', max=699.0, style=ProgressStyle(description_wi…"
      ]
     },
     "metadata": {},
     "output_type": "display_data"
    },
    {
     "name": "stdout",
     "output_type": "stream",
     "text": [
      "\n",
      "Epoch 335: loss 102769.15625, emb_loss 102606.12149047852, mf_loss 163.0545328259468\n",
      "Validation loss decreased (103438.882812 --> 102769.156250).  Saving model ...\n"
     ]
    },
    {
     "data": {
      "application/vnd.jupyter.widget-view+json": {
       "model_id": "cbfdc32890d74bac8db4ba46e39d0c7f",
       "version_major": 2,
       "version_minor": 0
      },
      "text/plain": [
       "HBox(children=(FloatProgress(value=0.0, description='epoch 336', max=699.0, style=ProgressStyle(description_wi…"
      ]
     },
     "metadata": {},
     "output_type": "display_data"
    },
    {
     "name": "stdout",
     "output_type": "stream",
     "text": [
      "\n",
      "Epoch 336: loss 102057.0234375, emb_loss 101893.86647033691, mf_loss 163.19679768383503\n",
      "Validation loss decreased (102769.156250 --> 102057.023438).  Saving model ...\n"
     ]
    },
    {
     "data": {
      "application/vnd.jupyter.widget-view+json": {
       "model_id": "f06da884af7648aea594a83acbd4c8c6",
       "version_major": 2,
       "version_minor": 0
      },
      "text/plain": [
       "HBox(children=(FloatProgress(value=0.0, description='epoch 337', max=699.0, style=ProgressStyle(description_wi…"
      ]
     },
     "metadata": {},
     "output_type": "display_data"
    },
    {
     "name": "stdout",
     "output_type": "stream",
     "text": [
      "\n",
      "Epoch 337: loss 101390.859375, emb_loss 101227.30140686035, mf_loss 163.6346094161272\n",
      "Validation loss decreased (102057.023438 --> 101390.859375).  Saving model ...\n"
     ]
    },
    {
     "data": {
      "application/vnd.jupyter.widget-view+json": {
       "model_id": "91e388e1acff40c69d0ff99725741e6a",
       "version_major": 2,
       "version_minor": 0
      },
      "text/plain": [
       "HBox(children=(FloatProgress(value=0.0, description='epoch 338', max=699.0, style=ProgressStyle(description_wi…"
      ]
     },
     "metadata": {},
     "output_type": "display_data"
    },
    {
     "name": "stdout",
     "output_type": "stream",
     "text": [
      "\n",
      "Epoch 338: loss 100869.71875, emb_loss 100705.58819580078, mf_loss 164.11124722659588\n",
      "Validation loss decreased (101390.859375 --> 100869.718750).  Saving model ...\n"
     ]
    },
    {
     "data": {
      "application/vnd.jupyter.widget-view+json": {
       "model_id": "5e37b86cee6542e5b62f5af408278848",
       "version_major": 2,
       "version_minor": 0
      },
      "text/plain": [
       "HBox(children=(FloatProgress(value=0.0, description='epoch 339', max=699.0, style=ProgressStyle(description_wi…"
      ]
     },
     "metadata": {},
     "output_type": "display_data"
    },
    {
     "name": "stdout",
     "output_type": "stream",
     "text": [
      "\n",
      "Epoch 339: loss 100020.6796875, emb_loss 99855.74700927734, mf_loss 164.85245303809643\n",
      "Validation loss decreased (100869.718750 --> 100020.679688).  Saving model ...\n"
     ]
    },
    {
     "data": {
      "application/vnd.jupyter.widget-view+json": {
       "model_id": "f6c88e8fdda44eeaa49e25de3aa584ae",
       "version_major": 2,
       "version_minor": 0
      },
      "text/plain": [
       "HBox(children=(FloatProgress(value=0.0, description='epoch 340', max=699.0, style=ProgressStyle(description_wi…"
      ]
     },
     "metadata": {},
     "output_type": "display_data"
    },
    {
     "name": "stdout",
     "output_type": "stream",
     "text": [
      "\n",
      "Epoch 340: loss 99438.171875, emb_loss 99273.52742004395, mf_loss 164.69472433626652\n",
      "Validation loss decreased (100020.679688 --> 99438.171875).  Saving model ...\n"
     ]
    },
    {
     "data": {
      "application/vnd.jupyter.widget-view+json": {
       "model_id": "7cdef2f1b09346b88bcbc825c5128722",
       "version_major": 2,
       "version_minor": 0
      },
      "text/plain": [
       "HBox(children=(FloatProgress(value=0.0, description='epoch 341', max=699.0, style=ProgressStyle(description_wi…"
      ]
     },
     "metadata": {},
     "output_type": "display_data"
    },
    {
     "name": "stdout",
     "output_type": "stream",
     "text": [
      "\n",
      "Epoch 341: loss 98802.0625, emb_loss 98637.00955200195, mf_loss 165.07560567557812\n",
      "Validation loss decreased (99438.171875 --> 98802.062500).  Saving model ...\n"
     ]
    },
    {
     "data": {
      "application/vnd.jupyter.widget-view+json": {
       "model_id": "8557cf852a994bb990b2390003693c81",
       "version_major": 2,
       "version_minor": 0
      },
      "text/plain": [
       "HBox(children=(FloatProgress(value=0.0, description='epoch 342', max=699.0, style=ProgressStyle(description_wi…"
      ]
     },
     "metadata": {},
     "output_type": "display_data"
    },
    {
     "name": "stdout",
     "output_type": "stream",
     "text": [
      "\n",
      "Epoch 342: loss 98119.578125, emb_loss 97953.98831176758, mf_loss 165.5406967550516\n",
      "Validation loss decreased (98802.062500 --> 98119.578125).  Saving model ...\n"
     ]
    },
    {
     "data": {
      "application/vnd.jupyter.widget-view+json": {
       "model_id": "4a09b6976dc34f66acc1fb28314e6237",
       "version_major": 2,
       "version_minor": 0
      },
      "text/plain": [
       "HBox(children=(FloatProgress(value=0.0, description='epoch 343', max=699.0, style=ProgressStyle(description_wi…"
      ]
     },
     "metadata": {},
     "output_type": "display_data"
    },
    {
     "name": "stdout",
     "output_type": "stream",
     "text": [
      "\n",
      "Epoch 343: loss 97397.4375, emb_loss 97231.43005371094, mf_loss 166.1020986288786\n",
      "Validation loss decreased (98119.578125 --> 97397.437500).  Saving model ...\n"
     ]
    },
    {
     "data": {
      "application/vnd.jupyter.widget-view+json": {
       "model_id": "e5925db733e94a2995aa4e7de6fef9b6",
       "version_major": 2,
       "version_minor": 0
      },
      "text/plain": [
       "HBox(children=(FloatProgress(value=0.0, description='epoch 344', max=699.0, style=ProgressStyle(description_wi…"
      ]
     },
     "metadata": {},
     "output_type": "display_data"
    },
    {
     "name": "stdout",
     "output_type": "stream",
     "text": [
      "\n",
      "Epoch 344: loss 96814.2734375, emb_loss 96647.80830383301, mf_loss 166.4592795073986\n",
      "Validation loss decreased (97397.437500 --> 96814.273438).  Saving model ...\n"
     ]
    },
    {
     "data": {
      "application/vnd.jupyter.widget-view+json": {
       "model_id": "b2a5cdd112134049959515392600c5ca",
       "version_major": 2,
       "version_minor": 0
      },
      "text/plain": [
       "HBox(children=(FloatProgress(value=0.0, description='epoch 345', max=699.0, style=ProgressStyle(description_wi…"
      ]
     },
     "metadata": {},
     "output_type": "display_data"
    },
    {
     "name": "stdout",
     "output_type": "stream",
     "text": [
      "\n",
      "Epoch 345: loss 96275.9921875, emb_loss 96109.18893432617, mf_loss 166.8107842952013\n",
      "Validation loss decreased (96814.273438 --> 96275.992188).  Saving model ...\n"
     ]
    },
    {
     "data": {
      "application/vnd.jupyter.widget-view+json": {
       "model_id": "48f47a6fd1204d1c873f807fa0cfbbf0",
       "version_major": 2,
       "version_minor": 0
      },
      "text/plain": [
       "HBox(children=(FloatProgress(value=0.0, description='epoch 346', max=699.0, style=ProgressStyle(description_wi…"
      ]
     },
     "metadata": {},
     "output_type": "display_data"
    },
    {
     "name": "stdout",
     "output_type": "stream",
     "text": [
      "\n",
      "Epoch 346: loss 95574.25, emb_loss 95406.92727661133, mf_loss 167.27490738034248\n",
      "Validation loss decreased (96275.992188 --> 95574.250000).  Saving model ...\n"
     ]
    },
    {
     "data": {
      "application/vnd.jupyter.widget-view+json": {
       "model_id": "d0c640b138ca4d81ba417fcda0a2cea7",
       "version_major": 2,
       "version_minor": 0
      },
      "text/plain": [
       "HBox(children=(FloatProgress(value=0.0, description='epoch 347', max=699.0, style=ProgressStyle(description_wi…"
      ]
     },
     "metadata": {},
     "output_type": "display_data"
    },
    {
     "name": "stdout",
     "output_type": "stream",
     "text": [
      "\n",
      "Epoch 347: loss 95010.4609375, emb_loss 94843.01106262207, mf_loss 167.49160048365593\n",
      "Validation loss decreased (95574.250000 --> 95010.460938).  Saving model ...\n"
     ]
    },
    {
     "data": {
      "application/vnd.jupyter.widget-view+json": {
       "model_id": "f3f72261f76f472fa34f17b5367b653e",
       "version_major": 2,
       "version_minor": 0
      },
      "text/plain": [
       "HBox(children=(FloatProgress(value=0.0, description='epoch 348', max=699.0, style=ProgressStyle(description_wi…"
      ]
     },
     "metadata": {},
     "output_type": "display_data"
    },
    {
     "name": "stdout",
     "output_type": "stream",
     "text": [
      "\n",
      "Epoch 348: loss 94301.1484375, emb_loss 94133.23808288574, mf_loss 167.9771844893694\n",
      "Validation loss decreased (95010.460938 --> 94301.148438).  Saving model ...\n"
     ]
    },
    {
     "data": {
      "application/vnd.jupyter.widget-view+json": {
       "model_id": "3b4acc3f992c4209bf61f501cd435c51",
       "version_major": 2,
       "version_minor": 0
      },
      "text/plain": [
       "HBox(children=(FloatProgress(value=0.0, description='epoch 349', max=699.0, style=ProgressStyle(description_wi…"
      ]
     },
     "metadata": {},
     "output_type": "display_data"
    },
    {
     "name": "stdout",
     "output_type": "stream",
     "text": [
      "\n",
      "Epoch 349: loss 93796.9375, emb_loss 93628.77510070801, mf_loss 168.20165780186653\n",
      "Validation loss decreased (94301.148438 --> 93796.937500).  Saving model ...\n"
     ]
    },
    {
     "data": {
      "application/vnd.jupyter.widget-view+json": {
       "model_id": "4bfcbabc316845bd8f58f11457f60ce7",
       "version_major": 2,
       "version_minor": 0
      },
      "text/plain": [
       "HBox(children=(FloatProgress(value=0.0, description='epoch 350', max=699.0, style=ProgressStyle(description_wi…"
      ]
     },
     "metadata": {},
     "output_type": "display_data"
    },
    {
     "name": "stdout",
     "output_type": "stream",
     "text": [
      "\n",
      "Epoch 350: loss 93046.8984375, emb_loss 92877.87789154053, mf_loss 169.03135082125664\n",
      "Validation loss decreased (93796.937500 --> 93046.898438).  Saving model ...\n"
     ]
    },
    {
     "data": {
      "application/vnd.jupyter.widget-view+json": {
       "model_id": "cd10756a3d474fc4b186ad7d155f28ee",
       "version_major": 2,
       "version_minor": 0
      },
      "text/plain": [
       "HBox(children=(FloatProgress(value=0.0, description='epoch 351', max=699.0, style=ProgressStyle(description_wi…"
      ]
     },
     "metadata": {},
     "output_type": "display_data"
    },
    {
     "name": "stdout",
     "output_type": "stream",
     "text": [
      "\n",
      "Epoch 351: loss 92544.6015625, emb_loss 92375.41078948975, mf_loss 169.16343623399734\n",
      "Validation loss decreased (93046.898438 --> 92544.601562).  Saving model ...\n"
     ]
    },
    {
     "data": {
      "application/vnd.jupyter.widget-view+json": {
       "model_id": "aee476365c7d42ee94779121b1acb0d1",
       "version_major": 2,
       "version_minor": 0
      },
      "text/plain": [
       "HBox(children=(FloatProgress(value=0.0, description='epoch 352', max=699.0, style=ProgressStyle(description_wi…"
      ]
     },
     "metadata": {},
     "output_type": "display_data"
    },
    {
     "name": "stdout",
     "output_type": "stream",
     "text": [
      "\n",
      "Epoch 352: loss 91955.578125, emb_loss 91785.8161315918, mf_loss 169.8250368386507\n",
      "Validation loss decreased (92544.601562 --> 91955.578125).  Saving model ...\n"
     ]
    },
    {
     "data": {
      "application/vnd.jupyter.widget-view+json": {
       "model_id": "3a48455775ff4852932dbe64651eb1c8",
       "version_major": 2,
       "version_minor": 0
      },
      "text/plain": [
       "HBox(children=(FloatProgress(value=0.0, description='epoch 353', max=699.0, style=ProgressStyle(description_wi…"
      ]
     },
     "metadata": {},
     "output_type": "display_data"
    },
    {
     "name": "stdout",
     "output_type": "stream",
     "text": [
      "\n",
      "Epoch 353: loss 91343.6171875, emb_loss 91173.71336364746, mf_loss 169.89049398899078\n",
      "Validation loss decreased (91955.578125 --> 91343.617188).  Saving model ...\n"
     ]
    },
    {
     "data": {
      "application/vnd.jupyter.widget-view+json": {
       "model_id": "b7a3da2296a24b399f1d4f1a6bd318ee",
       "version_major": 2,
       "version_minor": 0
      },
      "text/plain": [
       "HBox(children=(FloatProgress(value=0.0, description='epoch 354', max=699.0, style=ProgressStyle(description_wi…"
      ]
     },
     "metadata": {},
     "output_type": "display_data"
    },
    {
     "name": "stdout",
     "output_type": "stream",
     "text": [
      "\n",
      "Epoch 354: loss 90768.7421875, emb_loss 90598.45726776123, mf_loss 170.24649903178215\n",
      "Validation loss decreased (91343.617188 --> 90768.742188).  Saving model ...\n"
     ]
    },
    {
     "data": {
      "application/vnd.jupyter.widget-view+json": {
       "model_id": "a83cd9ab25ab416b91814909521647a6",
       "version_major": 2,
       "version_minor": 0
      },
      "text/plain": [
       "HBox(children=(FloatProgress(value=0.0, description='epoch 355', max=699.0, style=ProgressStyle(description_wi…"
      ]
     },
     "metadata": {},
     "output_type": "display_data"
    },
    {
     "name": "stdout",
     "output_type": "stream",
     "text": [
      "\n",
      "Epoch 355: loss 90174.1875, emb_loss 90003.3818359375, mf_loss 170.837149143219\n",
      "Validation loss decreased (90768.742188 --> 90174.187500).  Saving model ...\n"
     ]
    },
    {
     "data": {
      "application/vnd.jupyter.widget-view+json": {
       "model_id": "4e7f98ec4f7d402ea286ffdad9bb5fbb",
       "version_major": 2,
       "version_minor": 0
      },
      "text/plain": [
       "HBox(children=(FloatProgress(value=0.0, description='epoch 356', max=699.0, style=ProgressStyle(description_wi…"
      ]
     },
     "metadata": {},
     "output_type": "display_data"
    },
    {
     "name": "stdout",
     "output_type": "stream",
     "text": [
      "\n",
      "Epoch 356: loss 89518.609375, emb_loss 89347.18167114258, mf_loss 171.34405203163624\n",
      "Validation loss decreased (90174.187500 --> 89518.609375).  Saving model ...\n"
     ]
    },
    {
     "data": {
      "application/vnd.jupyter.widget-view+json": {
       "model_id": "f3030b135b6a495db7cff47c3220ec3e",
       "version_major": 2,
       "version_minor": 0
      },
      "text/plain": [
       "HBox(children=(FloatProgress(value=0.0, description='epoch 357', max=699.0, style=ProgressStyle(description_wi…"
      ]
     },
     "metadata": {},
     "output_type": "display_data"
    },
    {
     "name": "stdout",
     "output_type": "stream",
     "text": [
      "\n",
      "Epoch 357: loss 88963.125, emb_loss 88791.36694335938, mf_loss 171.76174579560757\n",
      "Validation loss decreased (89518.609375 --> 88963.125000).  Saving model ...\n"
     ]
    },
    {
     "data": {
      "application/vnd.jupyter.widget-view+json": {
       "model_id": "821eb559b6e841aebc56c911615eaf82",
       "version_major": 2,
       "version_minor": 0
      },
      "text/plain": [
       "HBox(children=(FloatProgress(value=0.0, description='epoch 358', max=699.0, style=ProgressStyle(description_wi…"
      ]
     },
     "metadata": {},
     "output_type": "display_data"
    },
    {
     "name": "stdout",
     "output_type": "stream",
     "text": [
      "\n",
      "Epoch 358: loss 88509.3515625, emb_loss 88337.3344116211, mf_loss 172.08678157627583\n",
      "Validation loss decreased (88963.125000 --> 88509.351562).  Saving model ...\n"
     ]
    },
    {
     "data": {
      "application/vnd.jupyter.widget-view+json": {
       "model_id": "f39dd09f456744469190c729f8970613",
       "version_major": 2,
       "version_minor": 0
      },
      "text/plain": [
       "HBox(children=(FloatProgress(value=0.0, description='epoch 359', max=699.0, style=ProgressStyle(description_wi…"
      ]
     },
     "metadata": {},
     "output_type": "display_data"
    },
    {
     "name": "stdout",
     "output_type": "stream",
     "text": [
      "\n",
      "Epoch 359: loss 87783.890625, emb_loss 87611.40590667725, mf_loss 172.46211913228035\n",
      "Validation loss decreased (88509.351562 --> 87783.890625).  Saving model ...\n"
     ]
    },
    {
     "data": {
      "application/vnd.jupyter.widget-view+json": {
       "model_id": "df4417bd4c5c4908b3f2a74941911577",
       "version_major": 2,
       "version_minor": 0
      },
      "text/plain": [
       "HBox(children=(FloatProgress(value=0.0, description='epoch 360', max=699.0, style=ProgressStyle(description_wi…"
      ]
     },
     "metadata": {},
     "output_type": "display_data"
    },
    {
     "name": "stdout",
     "output_type": "stream",
     "text": [
      "\n",
      "Epoch 360: loss 87219.2890625, emb_loss 87046.28369140625, mf_loss 172.99697391688824\n",
      "Validation loss decreased (87783.890625 --> 87219.289062).  Saving model ...\n"
     ]
    },
    {
     "data": {
      "application/vnd.jupyter.widget-view+json": {
       "model_id": "803b7aec0fdb4e26a895aa8e87bbd649",
       "version_major": 2,
       "version_minor": 0
      },
      "text/plain": [
       "HBox(children=(FloatProgress(value=0.0, description='epoch 361', max=699.0, style=ProgressStyle(description_wi…"
      ]
     },
     "metadata": {},
     "output_type": "display_data"
    },
    {
     "name": "stdout",
     "output_type": "stream",
     "text": [
      "\n",
      "Epoch 361: loss 86774.3125, emb_loss 86600.89999389648, mf_loss 173.31113050878048\n",
      "Validation loss decreased (87219.289062 --> 86774.312500).  Saving model ...\n"
     ]
    },
    {
     "data": {
      "application/vnd.jupyter.widget-view+json": {
       "model_id": "5a4c9cb2990b40b0ad5699c387030865",
       "version_major": 2,
       "version_minor": 0
      },
      "text/plain": [
       "HBox(children=(FloatProgress(value=0.0, description='epoch 362', max=699.0, style=ProgressStyle(description_wi…"
      ]
     },
     "metadata": {},
     "output_type": "display_data"
    },
    {
     "name": "stdout",
     "output_type": "stream",
     "text": [
      "\n",
      "Epoch 362: loss 86158.40625, emb_loss 85984.48863220215, mf_loss 173.9299271851778\n",
      "Validation loss decreased (86774.312500 --> 86158.406250).  Saving model ...\n"
     ]
    },
    {
     "data": {
      "application/vnd.jupyter.widget-view+json": {
       "model_id": "c5d8a49dfc654ff3b4b075d1f54f3618",
       "version_major": 2,
       "version_minor": 0
      },
      "text/plain": [
       "HBox(children=(FloatProgress(value=0.0, description='epoch 363', max=699.0, style=ProgressStyle(description_wi…"
      ]
     },
     "metadata": {},
     "output_type": "display_data"
    },
    {
     "name": "stdout",
     "output_type": "stream",
     "text": [
      "\n"
     ]
    },
    {
     "ename": "RuntimeError",
     "evalue": "[enforce fail at ..\\c10\\core\\CPUAllocator.cpp:72] data. DefaultCPUAllocator: not enough memory: you tried to allocate 153353728 bytes. Buy new RAM!\n(no backtrace available)",
     "output_type": "error",
     "traceback": [
      "\u001b[1;31m---------------------------------------------------------------------------\u001b[0m",
      "\u001b[1;31mRuntimeError\u001b[0m                              Traceback (most recent call last)",
      "\u001b[1;32m<ipython-input-50-a84f29f58739>\u001b[0m in \u001b[0;36m<module>\u001b[1;34m\u001b[0m\n\u001b[0;32m     14\u001b[0m \u001b[1;33m\u001b[0m\u001b[0m\n\u001b[0;32m     15\u001b[0m     \u001b[0mopt\u001b[0m\u001b[1;33m.\u001b[0m\u001b[0mzero_grad\u001b[0m\u001b[1;33m(\u001b[0m\u001b[1;33m)\u001b[0m\u001b[1;33m\u001b[0m\u001b[1;33m\u001b[0m\u001b[0m\n\u001b[1;32m---> 16\u001b[1;33m     \u001b[0mloss\u001b[0m\u001b[1;33m.\u001b[0m\u001b[0mbackward\u001b[0m\u001b[1;33m(\u001b[0m\u001b[1;33m)\u001b[0m\u001b[1;33m\u001b[0m\u001b[1;33m\u001b[0m\u001b[0m\n\u001b[0m\u001b[0;32m     17\u001b[0m     \u001b[0mopt\u001b[0m\u001b[1;33m.\u001b[0m\u001b[0mstep\u001b[0m\u001b[1;33m(\u001b[0m\u001b[1;33m)\u001b[0m\u001b[1;33m\u001b[0m\u001b[1;33m\u001b[0m\u001b[0m\n\u001b[0;32m     18\u001b[0m \u001b[1;33m\u001b[0m\u001b[0m\n",
      "\u001b[1;32mC:\\anaconda\\lib\\site-packages\\torch\\tensor.py\u001b[0m in \u001b[0;36mbackward\u001b[1;34m(self, gradient, retain_graph, create_graph)\u001b[0m\n\u001b[0;32m    196\u001b[0m                 \u001b[0mproducts\u001b[0m\u001b[1;33m.\u001b[0m \u001b[0mDefaults\u001b[0m \u001b[0mto\u001b[0m\u001b[0;31m \u001b[0m\u001b[0;31m`\u001b[0m\u001b[0;31m`\u001b[0m\u001b[1;32mFalse\u001b[0m\u001b[0;31m`\u001b[0m\u001b[0;31m`\u001b[0m\u001b[1;33m.\u001b[0m\u001b[1;33m\u001b[0m\u001b[1;33m\u001b[0m\u001b[0m\n\u001b[0;32m    197\u001b[0m         \"\"\"\n\u001b[1;32m--> 198\u001b[1;33m         \u001b[0mtorch\u001b[0m\u001b[1;33m.\u001b[0m\u001b[0mautograd\u001b[0m\u001b[1;33m.\u001b[0m\u001b[0mbackward\u001b[0m\u001b[1;33m(\u001b[0m\u001b[0mself\u001b[0m\u001b[1;33m,\u001b[0m \u001b[0mgradient\u001b[0m\u001b[1;33m,\u001b[0m \u001b[0mretain_graph\u001b[0m\u001b[1;33m,\u001b[0m \u001b[0mcreate_graph\u001b[0m\u001b[1;33m)\u001b[0m\u001b[1;33m\u001b[0m\u001b[1;33m\u001b[0m\u001b[0m\n\u001b[0m\u001b[0;32m    199\u001b[0m \u001b[1;33m\u001b[0m\u001b[0m\n\u001b[0;32m    200\u001b[0m     \u001b[1;32mdef\u001b[0m \u001b[0mregister_hook\u001b[0m\u001b[1;33m(\u001b[0m\u001b[0mself\u001b[0m\u001b[1;33m,\u001b[0m \u001b[0mhook\u001b[0m\u001b[1;33m)\u001b[0m\u001b[1;33m:\u001b[0m\u001b[1;33m\u001b[0m\u001b[1;33m\u001b[0m\u001b[0m\n",
      "\u001b[1;32mC:\\anaconda\\lib\\site-packages\\torch\\autograd\\__init__.py\u001b[0m in \u001b[0;36mbackward\u001b[1;34m(tensors, grad_tensors, retain_graph, create_graph, grad_variables)\u001b[0m\n\u001b[0;32m     98\u001b[0m     Variable._execution_engine.run_backward(\n\u001b[0;32m     99\u001b[0m         \u001b[0mtensors\u001b[0m\u001b[1;33m,\u001b[0m \u001b[0mgrad_tensors\u001b[0m\u001b[1;33m,\u001b[0m \u001b[0mretain_graph\u001b[0m\u001b[1;33m,\u001b[0m \u001b[0mcreate_graph\u001b[0m\u001b[1;33m,\u001b[0m\u001b[1;33m\u001b[0m\u001b[1;33m\u001b[0m\u001b[0m\n\u001b[1;32m--> 100\u001b[1;33m         allow_unreachable=True)  # allow_unreachable flag\n\u001b[0m\u001b[0;32m    101\u001b[0m \u001b[1;33m\u001b[0m\u001b[0m\n\u001b[0;32m    102\u001b[0m \u001b[1;33m\u001b[0m\u001b[0m\n",
      "\u001b[1;31mRuntimeError\u001b[0m: [enforce fail at ..\\c10\\core\\CPUAllocator.cpp:72] data. DefaultCPUAllocator: not enough memory: you tried to allocate 153353728 bytes. Buy new RAM!\n(no backtrace available)"
     ]
    }
   ],
   "source": [
    "for epoch in tqdm(range(500)):\n",
    "    model.train()\n",
    "    logits = model(G)\n",
    "\n",
    "    loss, mf_loss, emb_loss = 0., 0., 0.\n",
    "    n_batch = n_train // batch_size + 1\n",
    "\n",
    "    for idx in tqdm(range(n_batch),desc='epoch '+str(epoch)):\n",
    "        users, pos_items, neg_items = sample()\n",
    "        batch_mf_loss, batch_emb_loss = bpr_loss(logits['user'][users], logits['item'][pos_items], logits['item'][neg_items])\n",
    "        loss = loss + batch_mf_loss + batch_emb_loss\n",
    "        mf_loss += batch_mf_loss.item()\n",
    "        emb_loss += batch_emb_loss.item()\n",
    "\n",
    "    opt.zero_grad()\n",
    "    loss.backward()\n",
    "    opt.step() \n",
    "\n",
    "    print(\"Epoch {}: loss {}, emb_loss {}, mf_loss {}\".format(epoch, loss.item(), emb_loss, mf_loss))\n",
    "\n",
    "    early_stopping(loss.item())\n",
    "\n",
    "    if early_stopping.early_stop:\n",
    "        print(\"Early stopping\")\n",
    "        break\n",
    "'''\n",
    "    #if early_stopping.is_best:\n",
    "     #   torch.save(model.state_dict(), weights_path)\n",
    "\n",
    "    if epoch%5==0:\n",
    "        model.eval()\n",
    "        logits = model(G)\n",
    "        ret = test(data, logits, Ks)\n",
    "\n",
    "        final_perf = \"recall=[%s], precision=[%s], hit=[%s], ndcg=[%s]\" % \\\n",
    "                        ('\\t'.join(['%.5f' % r for r in ret['recall']]),\n",
    "                        '\\t'.join(['%.5f' % r for r in ret['precision']]),\n",
    "                        '\\t'.join(['%.5f' % r for r in ret['hit_ratio']]),\n",
    "                        '\\t'.join(['%.5f' % r for r in ret['ndcg']]))\n",
    "        print(final_perf)\n",
    "'''"
   ]
  },
  {
   "cell_type": "code",
   "execution_count": null,
   "metadata": {},
   "outputs": [],
   "source": [
    "G"
   ]
  },
  {
   "cell_type": "code",
   "execution_count": null,
   "metadata": {},
   "outputs": [],
   "source": [
    "model.train()"
   ]
  },
  {
   "cell_type": "code",
   "execution_count": null,
   "metadata": {},
   "outputs": [],
   "source": [
    "logits = model(G)"
   ]
  },
  {
   "cell_type": "code",
   "execution_count": null,
   "metadata": {},
   "outputs": [],
   "source": [
    "loss, mf_loss, emb_loss = 0., 0., 0.\n",
    "n_batch = n_train // batch_size + 1"
   ]
  },
  {
   "cell_type": "code",
   "execution_count": null,
   "metadata": {
    "scrolled": true
   },
   "outputs": [],
   "source": [
    "epoch=1\n",
    "for idx in tqdm(range(n_batch),desc='epoch '+str(epoch)):\n",
    "    users, pos_items, neg_items = sample()\n",
    "   # print()\n",
    "    batch_mf_loss, batch_emb_loss = bpr_loss(logits['user'][users], logits['item'][pos_items], logits['item'][neg_items])\n",
    "    loss = loss + batch_mf_loss + batch_emb_loss\n",
    "    mf_loss += batch_mf_loss.item()\n",
    "    emb_loss += batch_emb_loss.item()\n",
    "    "
   ]
  },
  {
   "cell_type": "code",
   "execution_count": null,
   "metadata": {},
   "outputs": [],
   "source": [
    "opt.zero_grad()\n",
    "loss.backward()\n",
    "opt.step() "
   ]
  },
  {
   "cell_type": "code",
   "execution_count": null,
   "metadata": {},
   "outputs": [],
   "source": [
    "for epoch in range(args.epoch):\n",
    "    model.train()\n",
    "    logits = model(data.G)\n",
    "\n",
    "    loss, mf_loss, emb_loss = 0., 0., 0.\n",
    "    n_batch = data.n_train // args.batch_size + 1\n",
    "\n",
    "    for idx in tqdm(range(n_batch),desc='epoch '+str(epoch)):\n",
    "        users, pos_items, neg_items = data.sample()\n",
    "        batch_mf_loss, batch_emb_loss = bpr_loss(logits['user'][users], logits['item'][pos_items], logits['item'][neg_items])\n",
    "        loss = loss + batch_mf_loss + batch_emb_loss\n",
    "        mf_loss += batch_mf_loss.item()\n",
    "        emb_loss += batch_emb_loss.item()\n",
    "\n",
    "    opt.zero_grad()\n",
    "    loss.backward()\n",
    "    opt.step() \n",
    "\n",
    "    print(\"Epoch {}: loss {}, emb_loss {}, mf_loss {}\".format(epoch, loss.item(), emb_loss, mf_loss))\n",
    "\n",
    "    early_stopping(loss.item())\n",
    "\n",
    "    if early_stopping.early_stop:\n",
    "        print(\"Early stopping\")\n",
    "        break\n",
    "\n",
    "    if early_stopping.is_best:\n",
    "        torch.save(model.state_dict(), args.weights_path)\n",
    "\n",
    "    if epoch%5==0:\n",
    "        model.eval()\n",
    "        logits = model(data.G)\n",
    "        ret = test(data, logits, Ks)\n",
    "\n",
    "        final_perf = \"recall=[%s], precision=[%s], hit=[%s], ndcg=[%s]\" % \\\n",
    "                        ('\\t'.join(['%.5f' % r for r in ret['recall']]),\n",
    "                        '\\t'.join(['%.5f' % r for r in ret['precision']]),\n",
    "                        '\\t'.join(['%.5f' % r for r in ret['hit_ratio']]),\n",
    "                        '\\t'.join(['%.5f' % r for r in ret['ndcg']]))\n",
    "        print(final_perf)"
   ]
  }
 ],
 "metadata": {
  "kernelspec": {
   "display_name": "Python 3",
   "language": "python",
   "name": "python3"
  },
  "language_info": {
   "codemirror_mode": {
    "name": "ipython",
    "version": 3
   },
   "file_extension": ".py",
   "mimetype": "text/x-python",
   "name": "python",
   "nbconvert_exporter": "python",
   "pygments_lexer": "ipython3",
   "version": "3.7.3"
  }
 },
 "nbformat": 4,
 "nbformat_minor": 4
}
